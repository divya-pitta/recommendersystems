{
 "cells": [
  {
   "cell_type": "code",
   "execution_count": 1,
   "metadata": {},
   "outputs": [],
   "source": [
    "import gzip\n",
    "\n",
    "def readGz(f):\n",
    "    for l in gzip.open(f):\n",
    "        yield eval(l)"
   ]
  },
  {
   "cell_type": "code",
   "execution_count": 2,
   "metadata": {},
   "outputs": [
    {
     "name": "stdout",
     "output_type": "stream",
     "text": [
      "100000\n",
      "100000\n",
      "{'rating': 5.0, 'businessID': 'B408037852', 'reviewText': \"This is where i go to shop for gifts from my mom. She loves this stuff. Cna't get enough. I like that you can customize the items. Store is well alid out and shoppable.\", 'userID': 'U093387342', 'reviewTime': 'Mar 24, 2013', 'categories': [\"Women's Clothing Store\", 'Fashion Accessories Store', 'Shoe Store'], 'reviewHash': 'R471510664', 'unixReviewTime': 1364143460}\n"
     ]
    }
   ],
   "source": [
    "from collections import defaultdict\n",
    "import numpy as np\n",
    "data = []\n",
    "count = 0;\n",
    "\n",
    "for l in readGz(\"train.json.gz\"):\n",
    "    data.append(l)\n",
    "\n",
    "trainData, validData = np.array_split(data, 2)\n",
    "\n",
    "print(len(trainData))\n",
    "print(len(validData))\n",
    "print(trainData[0])"
   ]
  },
  {
   "cell_type": "code",
   "execution_count": 3,
   "metadata": {},
   "outputs": [
    {
     "name": "stdout",
     "output_type": "stream",
     "text": [
      "20490\n",
      "18052\n",
      "100000\n"
     ]
    }
   ],
   "source": [
    "businessCount = defaultdict(int)\n",
    "visitedBusinesses = defaultdict(int)\n",
    "users = defaultdict(int)\n",
    "totalVisits = 0;\n",
    "\n",
    "for d in trainData:\n",
    "    user, business = d['userID'], d['businessID']\n",
    "    businessCount[business] += 1\n",
    "    totalVisits += 1\n",
    "    visitedBusinesses[user+'-'+business] += 1\n",
    "    users[user] += 1\n",
    "\n",
    "print(len(businessCount))\n",
    "print(len(users))\n",
    "print(len(visitedBusinesses))\n",
    "\n",
    "mostPopular = [(businessCount[x], x) for x in businessCount]\n",
    "mostPopular.sort()\n",
    "mostPopular.reverse()\n",
    "\n",
    "return1 = set()\n",
    "count = 0\n",
    "for ic, i in mostPopular:\n",
    "  count += ic\n",
    "  return1.add(i)\n",
    "  if count > totalVisits/2: break"
   ]
  },
  {
   "cell_type": "code",
   "execution_count": 4,
   "metadata": {},
   "outputs": [
    {
     "name": "stdout",
     "output_type": "stream",
     "text": [
      "100000\n",
      "20521\n",
      "18079\n",
      "100000\n"
     ]
    }
   ],
   "source": [
    "businessList = []\n",
    "usersList = []\n",
    "\n",
    "'''for c in businessCount:\n",
    "    businessList.append(c)\n",
    "for u in users:\n",
    "    usersList.append(u)''' #Not taking the pairs from training data, taking them from validation data\n",
    "\n",
    "vbusinessCount = defaultdict(int)\n",
    "vvisitedBusinesses = defaultdict(int)\n",
    "vusers = defaultdict(int)\n",
    "vtotalVisits = 0;\n",
    "vnotvisited = defaultdict(int)\n",
    "\n",
    "for d in validData:\n",
    "    user, business = d['userID'], d['businessID']\n",
    "    vbusinessCount[business] += 1\n",
    "    vtotalVisits += 1\n",
    "    vvisitedBusinesses[user+'-'+business] += 1\n",
    "    vusers[user] += 1\n",
    "    \n",
    "print(len(vvisitedBusinesses))\n",
    "print(len(vbusinessCount))\n",
    "print(len(vusers))\n",
    "\n",
    "for c in vbusinessCount:\n",
    "    businessList.append(c)\n",
    "for u in vusers:\n",
    "    usersList.append(u)\n",
    "\n",
    "import random\n",
    "\n",
    "while(len(vnotvisited)<100000):\n",
    "    pair = random.choice(usersList)+'-'+random.choice(businessList)\n",
    "    while(pair in vvisitedBusinesses):\n",
    "        pair = random.choice(usersList)+'-'+random.choice(businessList)\n",
    "    vnotvisited[pair] += 1\n",
    "\n",
    "print(len(vnotvisited))"
   ]
  },
  {
   "cell_type": "code",
   "execution_count": 5,
   "metadata": {},
   "outputs": [
    {
     "name": "stdout",
     "output_type": "stream",
     "text": [
      "0\n",
      "55784\n",
      "37.6445\n"
     ]
    }
   ],
   "source": [
    "wrongPred = 0;\n",
    "correctPred = 0;\n",
    "\n",
    "def baselinePredict(userBusinessPair, visited):\n",
    "    global wrongPred\n",
    "    global correctPred\n",
    "    global return1\n",
    "    print(wrongPred)\n",
    "    for p in userBusinessPair:\n",
    "        u,b = p.strip().split('-')\n",
    "        if((b in return1 and visited) or (b not in return1 and not visited)):\n",
    "            correctPred += 1\n",
    "        else:\n",
    "            wrongPred += 1\n",
    "\n",
    "baselinePredict(vvisitedBusinesses, True)\n",
    "baselinePredict(vnotvisited, False)\n",
    "\n",
    "#print(wrongPred)\n",
    "#print(correctPred)\n",
    "print(wrongPred/(wrongPred+correctPred)*100)"
   ]
  },
  {
   "cell_type": "code",
   "execution_count": 6,
   "metadata": {},
   "outputs": [
    {
     "name": "stdout",
     "output_type": "stream",
     "text": [
      "0\n",
      "43479\n",
      "37.835\n"
     ]
    }
   ],
   "source": [
    "mostPopular = [(businessCount[x], x) for x in businessCount]\n",
    "mostPopular.sort()\n",
    "mostPopular.reverse()\n",
    "\n",
    "return1 = set()\n",
    "count = 0\n",
    "for ic, i in mostPopular:\n",
    "  count += ic\n",
    "  return1.add(i)\n",
    "  if count > 0.65*totalVisits: break\n",
    "\n",
    "wrongPred = 0\n",
    "correctPred = 0\n",
    "baselinePredict(vvisitedBusinesses, True)\n",
    "baselinePredict(vnotvisited, False)\n",
    "\n",
    "print(wrongPred/(wrongPred+correctPred)*100)"
   ]
  },
  {
   "cell_type": "code",
   "execution_count": 24,
   "metadata": {},
   "outputs": [
    {
     "name": "stdout",
     "output_type": "stream",
     "text": [
      "{'rating': 5.0, 'businessID': 'B408037852', 'reviewText': \"This is where i go to shop for gifts from my mom. She loves this stuff. Cna't get enough. I like that you can customize the items. Store is well alid out and shoppable.\", 'userID': 'U093387342', 'reviewTime': 'Mar 24, 2013', 'categories': [\"Women's Clothing Store\", 'Fashion Accessories Store', 'Shoe Store'], 'reviewHash': 'R471510664', 'unixReviewTime': 1364143460}\n"
     ]
    }
   ],
   "source": [
    "visitedCategory = defaultdict(set)\n",
    "print(trainData[0])"
   ]
  },
  {
   "cell_type": "code",
   "execution_count": 25,
   "metadata": {},
   "outputs": [
    {
     "name": "stdout",
     "output_type": "stream",
     "text": [
      "done\n",
      "18052\n"
     ]
    }
   ],
   "source": [
    "for d in trainData:\n",
    "    for c in d['categories']:\n",
    "        visitedCategory[d['userID']].add(c)\n",
    "        \n",
    "print(\"done\")\n",
    "print(len(visitedCategory))"
   ]
  },
  {
   "cell_type": "code",
   "execution_count": 26,
   "metadata": {},
   "outputs": [
    {
     "name": "stdout",
     "output_type": "stream",
     "text": [
      "{'rating': 4.0, 'businessID': 'B903181568', 'reviewText': \"This is a great spot.  You could eat really cheaply or more... Good local hangout, and the bartenders are great.  Good mac and cheese....good salads, good 'bad food', and great 'quarter pounder' cookies!\", 'userID': 'U455837535', 'reviewTime': 'May 3, 2013', 'categories': ['American Restaurant'], 'reviewHash': 'R506914583', 'unixReviewTime': 1367595704, 'categoryID': 0}\n"
     ]
    }
   ],
   "source": [
    "bCategory = defaultdict(set)\n",
    "print(validData[5])"
   ]
  },
  {
   "cell_type": "code",
   "execution_count": 27,
   "metadata": {},
   "outputs": [
    {
     "name": "stdout",
     "output_type": "stream",
     "text": [
      "done\n",
      "20521\n"
     ]
    }
   ],
   "source": [
    "for d in validData:\n",
    "    for c in d['categories']:\n",
    "        bCategory[d['businessID']].add(c)\n",
    "print(\"done\")\n",
    "print(len(bCategory))"
   ]
  },
  {
   "cell_type": "code",
   "execution_count": 28,
   "metadata": {},
   "outputs": [
    {
     "name": "stdout",
     "output_type": "stream",
     "text": [
      "69473\n",
      "130527\n",
      "0.347365\n"
     ]
    }
   ],
   "source": [
    "wPred = 0\n",
    "cPred = 0\n",
    "\n",
    "def categoryVisitedPred(ubPairs, visited):\n",
    "    global wPred\n",
    "    global cPred\n",
    "    for p in ubPairs:\n",
    "        u,b = p.strip().split('-')\n",
    "        match = False;\n",
    "        for c in bCategory[b]:\n",
    "            for uc in visitedCategory[u]:\n",
    "                if(c==uc):\n",
    "                    match = True\n",
    "                    break\n",
    "            if(match):\n",
    "                break\n",
    "        if((match and visited) or (not match and not visited)):\n",
    "            cPred += 1\n",
    "        else:\n",
    "            wPred += 1\n",
    "\n",
    "categoryVisitedPred(vvisitedBusinesses, True)\n",
    "categoryVisitedPred(vnotvisited, False)\n",
    "\n",
    "print(wPred)\n",
    "print(cPred)\n",
    "print(wPred/(wPred+cPred))"
   ]
  },
  {
   "cell_type": "code",
   "execution_count": 22,
   "metadata": {},
   "outputs": [
    {
     "name": "stdout",
     "output_type": "stream",
     "text": [
      "done\n",
      "18793\n",
      "21321\n"
     ]
    }
   ],
   "source": [
    "visitedCategory = defaultdict(set)\n",
    "bCategory = defaultdict(set)\n",
    "\n",
    "for d in data:\n",
    "    #print(d)\n",
    "    for c in d['categories']:\n",
    "        visitedCategory[d['userID']].add(c)\n",
    "        bCategory[d['businessID']].add(c)\n",
    "print(\"done\")\n",
    "print(len(visitedCategory))\n",
    "print(len(bCategory))"
   ]
  },
  {
   "cell_type": "code",
   "execution_count": 29,
   "metadata": {},
   "outputs": [
    {
     "name": "stdout",
     "output_type": "stream",
     "text": [
      "done\n"
     ]
    }
   ],
   "source": [
    "def categoryVisitedPredFile(inputFile, outputFile):\n",
    "    predictions = open(outputFile, 'w')\n",
    "    for l in open(inputFile):\n",
    "        if l.startswith(\"userID\"):\n",
    "            predictions.write(l)\n",
    "            continue\n",
    "        u,b = l.strip().split('-')\n",
    "        match = False;\n",
    "        for c in bCategory[b]:\n",
    "            for uc in visitedCategory[u]:\n",
    "                if(c==uc):\n",
    "                    #print(c)\n",
    "                    match = True\n",
    "                    break\n",
    "            if(match):\n",
    "                break\n",
    "        if(match):\n",
    "            predictions.write(u + '-' + b + \",1\\n\")\n",
    "        else:\n",
    "            predictions.write(u + '-' + b + \",0\\n\")\n",
    "\n",
    "categoryVisitedPredFile (\"pairs_Visit.txt\", \"predictions_Visit.txt\")    \n",
    "\n",
    "print(\"done\")"
   ]
  },
  {
   "cell_type": "code",
   "execution_count": null,
   "metadata": {},
   "outputs": [],
   "source": []
  }
 ],
 "metadata": {
  "kernelspec": {
   "display_name": "Python 3",
   "language": "python",
   "name": "python3"
  },
  "language_info": {
   "codemirror_mode": {
    "name": "ipython",
    "version": 3
   },
   "file_extension": ".py",
   "mimetype": "text/x-python",
   "name": "python",
   "nbconvert_exporter": "python",
   "pygments_lexer": "ipython3",
   "version": "3.6.3"
  }
 },
 "nbformat": 4,
 "nbformat_minor": 2
}
