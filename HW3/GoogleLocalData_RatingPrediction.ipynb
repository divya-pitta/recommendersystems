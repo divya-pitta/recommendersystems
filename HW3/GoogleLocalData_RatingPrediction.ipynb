{
 "cells": [
  {
   "cell_type": "code",
   "execution_count": 3,
   "metadata": {},
   "outputs": [],
   "source": [
    "import gzip\n",
    "import numpy as np\n",
    "from collections import defaultdict"
   ]
  },
  {
   "cell_type": "code",
   "execution_count": 4,
   "metadata": {},
   "outputs": [],
   "source": [
    "def readGz(f):\n",
    "    for l in gzip.open(f):\n",
    "        yield eval(l)"
   ]
  },
  {
   "cell_type": "code",
   "execution_count": 5,
   "metadata": {},
   "outputs": [
    {
     "name": "stdout",
     "output_type": "stream",
     "text": [
      "{'rating': 5.0, 'businessID': 'B408037852', 'reviewText': \"This is where i go to shop for gifts from my mom. She loves this stuff. Cna't get enough. I like that you can customize the items. Store is well alid out and shoppable.\", 'userID': 'U093387342', 'reviewTime': 'Mar 24, 2013', 'categories': [\"Women's Clothing Store\", 'Fashion Accessories Store', 'Shoe Store'], 'reviewHash': 'R471510664', 'unixReviewTime': 1364143460}\n",
      "{'rating': 5.0, 'businessID': 'B408037852', 'reviewText': \"This is where i go to shop for gifts from my mom. She loves this stuff. Cna't get enough. I like that you can customize the items. Store is well alid out and shoppable.\", 'userID': 'U093387342', 'reviewTime': 'Mar 24, 2013', 'categories': [\"Women's Clothing Store\", 'Fashion Accessories Store', 'Shoe Store'], 'reviewHash': 'R471510664', 'unixReviewTime': 1364143460}\n"
     ]
    }
   ],
   "source": [
    "from random import shuffle\n",
    "data = []\n",
    "for l in readGz(\"train.json.gz\"):\n",
    "    data.append(l)\n",
    "\n",
    "print(data[0])\n",
    "#shuffle(data)\n",
    "print(data[0])\n",
    "\n",
    "trainData, validData = np.array_split(data, 2)\n"
   ]
  },
  {
   "cell_type": "code",
   "execution_count": 6,
   "metadata": {},
   "outputs": [
    {
     "name": "stdout",
     "output_type": "stream",
     "text": [
      "4.18703\n"
     ]
    }
   ],
   "source": [
    "allRatings = []\n",
    "userRatings = defaultdict(dict)\n",
    "busRatings = defaultdict(dict)\n",
    "\n",
    "for d in trainData:\n",
    "    user, bus, rating = d['userID'], d['businessID'], d['rating']\n",
    "    allRatings.append(rating)\n",
    "    userRatings[user][bus] = rating\n",
    "    busRatings[bus][user] = rating\n",
    "\n",
    "globalAvg = sum(allRatings)/len(allRatings)\n",
    "\n",
    "print(globalAvg)"
   ]
  },
  {
   "cell_type": "code",
   "execution_count": 40,
   "metadata": {},
   "outputs": [],
   "source": [
    "vallRatings = []\n",
    "vuserRatings = defaultdict(dict)\n",
    "vbusRatings = defaultdict(dict)\n",
    "\n",
    "for d in validData:\n",
    "    user, bus, rating = d['userID'], d['businessID'], d['rating']\n",
    "    vallRatings.append(rating)\n",
    "    vuserRatings[user][bus] = rating\n",
    "    vbusRatings[bus][user] = rating\n",
    "    \n",
    "compRatings = []\n",
    "cuserRatings = defaultdict(dict)\n",
    "cbusRatings = defaultdict(dict)\n",
    "\n",
    "for d in data:\n",
    "    user, bus, rating = d['userID'], d['businessID'], d['rating']\n",
    "    compRatings.append(rating)\n",
    "    cuserRatings[user][bus] = rating\n",
    "    cbusRatings[bus][user] = rating\n",
    "\n",
    "predRatings = [globalAvg for x in range(100000)]"
   ]
  },
  {
   "cell_type": "code",
   "execution_count": 41,
   "metadata": {},
   "outputs": [
    {
     "name": "stdout",
     "output_type": "stream",
     "text": [
      "0.7483437445\n"
     ]
    }
   ],
   "source": [
    "from sklearn.metrics import mean_squared_error\n",
    "from math import sqrt\n",
    "\n",
    "MSE_alpha = mean_squared_error(vallRatings, predRatings)\n",
    "print(MSE_alpha)"
   ]
  },
  {
   "cell_type": "code",
   "execution_count": 42,
   "metadata": {},
   "outputs": [],
   "source": [
    "def alphaUpdate():\n",
    "    global alpha\n",
    "    global betaU\n",
    "    global betaI\n",
    "    total = 0;\n",
    "    count = 0\n",
    "    for u in cuserRatings:\n",
    "        for b in cuserRatings[u]:\n",
    "            if(u in betaU):\n",
    "                total -= betaU[u]\n",
    "            if(bus in betaI):\n",
    "                total -= betaI[b]\n",
    "            total += cuserRatings[u][b]\n",
    "            count += 1\n",
    "    alpha = total/count\n",
    "    #print(alpha)\n",
    "#Test\n",
    "#alphaUpdate()"
   ]
  },
  {
   "cell_type": "code",
   "execution_count": 43,
   "metadata": {},
   "outputs": [],
   "source": [
    "def betaUUpdate(lambdaval):\n",
    "    global alpha\n",
    "    global betaU\n",
    "    global betaI\n",
    "    total = 0\n",
    "    count = lambdaval\n",
    "    for u in cuserRatings:\n",
    "        for b in cuserRatings[u]:\n",
    "            total -= alpha\n",
    "            if(bus in betaI):\n",
    "                total -= betaI[b]\n",
    "            total += cuserRatings[u][b]\n",
    "            count += 1\n",
    "        betaU[u] = total/count\n",
    "        total = 0\n",
    "        count = lambdaval\n",
    "    #print(len(betaU))"
   ]
  },
  {
   "cell_type": "code",
   "execution_count": 44,
   "metadata": {},
   "outputs": [],
   "source": [
    "def betaIUpdate(lambdaval):\n",
    "    global alpha\n",
    "    global betaU\n",
    "    global betaI\n",
    "    total = 0\n",
    "    count = lambdaval\n",
    "    for b in cbusRatings:\n",
    "        for u in cbusRatings[b]:\n",
    "            total -= alpha\n",
    "            if(user in betaU):\n",
    "                total -= betaU[u]\n",
    "            total += cbusRatings[b][u]\n",
    "            count += 1\n",
    "        betaI[b] = total/count\n",
    "        total = 0\n",
    "        count = lambdaval\n",
    "    #print(len(betaI))"
   ]
  },
  {
   "cell_type": "code",
   "execution_count": 45,
   "metadata": {},
   "outputs": [
    {
     "name": "stdout",
     "output_type": "stream",
     "text": [
      "4.1825440000410525\n"
     ]
    }
   ],
   "source": [
    "alpha = 0\n",
    "betaU = defaultdict(int)\n",
    "betaI = defaultdict(int)\n",
    "for x in range(10):\n",
    "    oldAlpha = alpha\n",
    "    alphaUpdate()\n",
    "    betaUUpdate(1)\n",
    "    betaIUpdate(1)\n",
    "    if(abs(oldAlpha - alpha) <= 0.000001):\n",
    "        break\n",
    "print(alpha)"
   ]
  },
  {
   "cell_type": "code",
   "execution_count": 46,
   "metadata": {},
   "outputs": [
    {
     "name": "stdout",
     "output_type": "stream",
     "text": [
      "0.406366217204\n"
     ]
    }
   ],
   "source": [
    "def predictRating():\n",
    "    global betaU\n",
    "    global betaI\n",
    "    global alpha\n",
    "    predRatings = []\n",
    "    for d in validData:\n",
    "        user, business = d['userID'], d['businessID']\n",
    "        prediction = alpha\n",
    "        if user in betaU:\n",
    "            prediction += betaU[user]\n",
    "        if business in betaI:\n",
    "            prediction += betaI[business]\n",
    "        predRatings.append(prediction)\n",
    "\n",
    "    MSE_alpha = mean_squared_error(vallRatings, predRatings)\n",
    "    return MSE_alpha\n",
    "\n",
    "print(predictRating())"
   ]
  },
  {
   "cell_type": "code",
   "execution_count": 47,
   "metadata": {},
   "outputs": [
    {
     "name": "stdout",
     "output_type": "stream",
     "text": [
      "User U601112276 has least beta: -2.795399420541175\n",
      "User U782161888 has max beta: 1.2424764154525756\n",
      "User B808255680 has least beta: -2.4830538486446554\n",
      "User B585651541 has max beta: 1.2458417468759957\n"
     ]
    }
   ],
   "source": [
    "minUser = min(betaU, key=betaU.get)\n",
    "print(\"User \"+str(minUser)+\" has least beta: \" +str(betaU[minUser]))\n",
    "maxUser = max(betaU, key=betaU.get)\n",
    "print(\"User \"+str(maxUser)+\" has max beta: \" +str(betaU[maxUser]))\n",
    "minBus = min(betaI, key=betaI.get)\n",
    "print(\"User \"+str(minBus)+\" has least beta: \" +str(betaI[minBus]))\n",
    "maxBus = max(betaI, key=betaI.get)\n",
    "print(\"User \"+str(maxBus)+\" has max beta: \" +str(betaI[maxBus]))"
   ]
  },
  {
   "cell_type": "code",
   "execution_count": 30,
   "metadata": {},
   "outputs": [
    {
     "name": "stdout",
     "output_type": "stream",
     "text": [
      "done\n"
     ]
    },
    {
     "data": {
      "image/png": "[encoded data removed]",
      "text/plain": [
       "<matplotlib.figure.Figure at 0x14b0530>"
      ]
     },
     "metadata": {},
     "output_type": "display_data"
    }
   ],
   "source": [
    "alpha = 0\n",
    "betaU = defaultdict(int)\n",
    "betaI = defaultdict(int)\n",
    "plotLambda = []\n",
    "plotMSE = []\n",
    "p = 0\n",
    "for i in range(0, 60):\n",
    "    p += 0.1\n",
    "    plotLambda.append(p)\n",
    "    for x in range(10):\n",
    "        oldAlpha = alpha\n",
    "        alphaUpdate()\n",
    "        betaUUpdate(p)\n",
    "        betaIUpdate(p)\n",
    "        if(abs(oldAlpha - alpha) <= 0.000001):\n",
    "            break\n",
    "    plotMSE.append(predictRating())\n",
    "    alpha = 0\n",
    "    betaU = defaultdict(int)\n",
    "    betaI = defaultdict(int)\n",
    "\n",
    "print(\"done\")\n",
    "\n",
    "import matplotlib.pyplot as plt\n",
    "plt.plot(plotLambda, plotMSE)\n",
    "plt.show()"
   ]
  },
  {
   "cell_type": "code",
   "execution_count": 31,
   "metadata": {},
   "outputs": [
    {
     "name": "stdout",
     "output_type": "stream",
     "text": [
      "0.1\n",
      "0.307727554546\n"
     ]
    }
   ],
   "source": [
    "print(plotLambda[np.argmin(plotMSE)])\n",
    "print(plotMSE[np.argmin(plotMSE)])"
   ]
  },
  {
   "cell_type": "code",
   "execution_count": 48,
   "metadata": {},
   "outputs": [
    {
     "name": "stdout",
     "output_type": "stream",
     "text": [
      "0.441974708858\n",
      "4.224960917259939\n"
     ]
    }
   ],
   "source": [
    "alpha = 0\n",
    "betaU = defaultdict(int)\n",
    "betaI = defaultdict(int)\n",
    "for x in range(100):\n",
    "    oldAlpha = alpha\n",
    "    alphaUpdate()\n",
    "    betaUUpdate(4.1)\n",
    "    betaIUpdate(4.1)\n",
    "    if(abs(oldAlpha - alpha) <= 0.000001):\n",
    "        break\n",
    "print(predictRating())\n",
    "print(alpha)"
   ]
  },
  {
   "cell_type": "code",
   "execution_count": 49,
   "metadata": {},
   "outputs": [],
   "source": [
    "def ratingPredFile(inputFile, outputFile):\n",
    "    global alpha\n",
    "    global betaU\n",
    "    global betaI\n",
    "    predictions = open(outputFile, 'w')\n",
    "    for l in open(inputFile):\n",
    "        if l.startswith(\"userID\"):\n",
    "            predictions.write(l)\n",
    "            continue\n",
    "        user,business = l.strip().split('-')\n",
    "        prediction = alpha\n",
    "        if user in betaU:\n",
    "            prediction += betaU[user]\n",
    "        if business in betaI:\n",
    "            prediction += betaI[business]\n",
    "        predictions.write(user + '-' + business + \",\" + str(prediction)+\"\\n\")\n",
    "\n",
    "ratingPredFile(\"pairs_Rating.txt\",\"predictions_Rating.txt\")"
   ]
  },
  {
   "cell_type": "code",
   "execution_count": null,
   "metadata": {},
   "outputs": [],
   "source": []
  }
 ],
 "metadata": {
  "kernelspec": {
   "display_name": "Python 3",
   "language": "python",
   "name": "python3"
  },
  "language_info": {
   "codemirror_mode": {
    "name": "ipython",
    "version": 3
   },
   "file_extension": ".py",
   "mimetype": "text/x-python",
   "name": "python",
   "nbconvert_exporter": "python",
   "pygments_lexer": "ipython3",
   "version": "3.6.3"
  }
 },
 "nbformat": 4,
 "nbformat_minor": 2
}
