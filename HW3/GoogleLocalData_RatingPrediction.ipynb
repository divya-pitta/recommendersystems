{
 "cells": [
  {
   "cell_type": "code",
   "execution_count": 3,
   "metadata": {},
   "outputs": [],
   "source": [
    "import gzip\n",
    "import numpy as np\n",
    "from collections import defaultdict"
   ]
  },
  {
   "cell_type": "code",
   "execution_count": 4,
   "metadata": {},
   "outputs": [],
   "source": [
    "def readGz(f):\n",
    "    for l in gzip.open(f):\n",
    "        yield eval(l)"
   ]
  },
  {
   "cell_type": "code",
   "execution_count": 87,
   "metadata": {},
   "outputs": [
    {
     "name": "stdout",
     "output_type": "stream",
     "text": [
      "{'rating': 5.0, 'businessID': 'B408037852', 'reviewText': \"This is where i go to shop for gifts from my mom. She loves this stuff. Cna't get enough. I like that you can customize the items. Store is well alid out and shoppable.\", 'userID': 'U093387342', 'reviewTime': 'Mar 24, 2013', 'categories': [\"Women's Clothing Store\", 'Fashion Accessories Store', 'Shoe Store'], 'reviewHash': 'R471510664', 'unixReviewTime': 1364143460}\n",
      "{'rating': 5.0, 'businessID': 'B408037852', 'reviewText': \"This is where i go to shop for gifts from my mom. She loves this stuff. Cna't get enough. I like that you can customize the items. Store is well alid out and shoppable.\", 'userID': 'U093387342', 'reviewTime': 'Mar 24, 2013', 'categories': [\"Women's Clothing Store\", 'Fashion Accessories Store', 'Shoe Store'], 'reviewHash': 'R471510664', 'unixReviewTime': 1364143460}\n"
     ]
    }
   ],
   "source": [
    "from random import shuffle\n",
    "data = []\n",
    "for l in readGz(\"train.json.gz\"):\n",
    "    data.append(l)\n",
    "\n",
    "print(data[0])\n",
    "#shuffle(data)\n",
    "print(data[0])\n",
    "\n",
    "trainData, validData = np.array_split(data, 2)\n"
   ]
  },
  {
   "cell_type": "code",
   "execution_count": 89,
   "metadata": {},
   "outputs": [
    {
     "name": "stdout",
     "output_type": "stream",
     "text": [
      "4.18703\n"
     ]
    }
   ],
   "source": [
    "allRatings = []\n",
    "userRatings = defaultdict(dict)\n",
    "busRatings = defaultdict(dict)\n",
    "\n",
    "for d in trainData:\n",
    "    user, bus, rating = d['userID'], d['businessID'], d['rating']\n",
    "    allRatings.append(rating)\n",
    "    userRatings[user][bus] = rating\n",
    "    busRatings[bus][user] = rating\n",
    "\n",
    "globalAvg = sum(allRatings)/len(allRatings)\n",
    "\n",
    "print(globalAvg)"
   ]
  },
  {
   "cell_type": "code",
   "execution_count": 133,
   "metadata": {},
   "outputs": [],
   "source": [
    "vallRatings = []\n",
    "vuserRatings = defaultdict(dict)\n",
    "vbusRatings = defaultdict(dict)\n",
    "\n",
    "for d in validData:\n",
    "    user, bus, rating = d['userID'], d['businessID'], d['rating']\n",
    "    vallRatings.append(rating)\n",
    "    vuserRatings[user][bus] = rating\n",
    "    vbusRatings[bus][user] = rating\n",
    "\n",
    "predRatings = [globalAvg for x in range(100000)]"
   ]
  },
  {
   "cell_type": "code",
   "execution_count": 134,
   "metadata": {},
   "outputs": [
    {
     "name": "stdout",
     "output_type": "stream",
     "text": [
      "0.7483437445\n"
     ]
    }
   ],
   "source": [
    "from sklearn.metrics import mean_squared_error\n",
    "from math import sqrt\n",
    "\n",
    "MSE_alpha = mean_squared_error(vallRatings, predRatings)\n",
    "print(MSE_alpha)"
   ]
  },
  {
   "cell_type": "code",
   "execution_count": 135,
   "metadata": {},
   "outputs": [],
   "source": [
    "def alphaUpdate():\n",
    "    global alpha\n",
    "    global betaU\n",
    "    global betaI\n",
    "    total = 0;\n",
    "    count = 0\n",
    "    for u in userRatings:\n",
    "        for b in userRatings[u]:\n",
    "            if(u in betaU):\n",
    "                total -= betaU[u]\n",
    "            if(bus in betaI):\n",
    "                total -= betaI[b]\n",
    "            total += userRatings[u][b]\n",
    "            count += 1\n",
    "    alpha = total/count\n",
    "    #print(alpha)\n",
    "#Test\n",
    "#alphaUpdate()"
   ]
  },
  {
   "cell_type": "code",
   "execution_count": 136,
   "metadata": {},
   "outputs": [],
   "source": [
    "def betaUUpdate(lambdaval):\n",
    "    global alpha\n",
    "    global betaU\n",
    "    global betaI\n",
    "    total = 0\n",
    "    count = lambdaval\n",
    "    for u in userRatings:\n",
    "        for b in userRatings[u]:\n",
    "            total -= alpha\n",
    "            if(bus in betaI):\n",
    "                total -= betaI[b]\n",
    "            total += userRatings[u][b]\n",
    "            count += 1\n",
    "        betaU[u] = total/count\n",
    "        total = 0\n",
    "        count = lambdaval\n",
    "    #print(len(betaU))"
   ]
  },
  {
   "cell_type": "code",
   "execution_count": 137,
   "metadata": {},
   "outputs": [],
   "source": [
    "def betaIUpdate(lambdaval):\n",
    "    global alpha\n",
    "    global betaU\n",
    "    global betaI\n",
    "    total = 0\n",
    "    count = lambdaval\n",
    "    for b in busRatings:\n",
    "        for u in busRatings[b]:\n",
    "            total -= alpha\n",
    "            if(user in betaU):\n",
    "                total -= betaU[u]\n",
    "            total += busRatings[b][u]\n",
    "            count += 1\n",
    "        betaI[b] = total/count\n",
    "        total = 0\n",
    "        count = lambdaval\n",
    "    #print(len(betaI))"
   ]
  },
  {
   "cell_type": "code",
   "execution_count": 138,
   "metadata": {},
   "outputs": [
    {
     "name": "stdout",
     "output_type": "stream",
     "text": [
      "4.224718130267249\n"
     ]
    }
   ],
   "source": [
    "alpha = 0\n",
    "betaU = defaultdict(int)\n",
    "betaI = defaultdict(int)\n",
    "while(True):\n",
    "    oldAlpha = alpha\n",
    "    alphaUpdate()\n",
    "    betaUUpdate(1)\n",
    "    betaIUpdate(1)\n",
    "    if(abs(oldAlpha - alpha) <= 0.000001):\n",
    "        break\n",
    "print(alpha)"
   ]
  },
  {
   "cell_type": "code",
   "execution_count": 139,
   "metadata": {},
   "outputs": [
    {
     "name": "stdout",
     "output_type": "stream",
     "text": [
      "0.645692830316\n"
     ]
    }
   ],
   "source": [
    "def predictRating():\n",
    "    global betaU\n",
    "    global betaI\n",
    "    global alpha\n",
    "    predRatings = []\n",
    "    for d in validData:\n",
    "        user, business = d['userID'], d['businessID']\n",
    "        prediction = alpha\n",
    "        if user in betaU:\n",
    "            prediction += betaU[user]\n",
    "        if business in betaI:\n",
    "            prediction += betaI[business]\n",
    "        predRatings.append(prediction)\n",
    "\n",
    "    MSE_alpha = mean_squared_error(vallRatings, predRatings)\n",
    "    return MSE_alpha\n",
    "\n",
    "print(predictRating())"
   ]
  },
  {
   "cell_type": "code",
   "execution_count": 140,
   "metadata": {},
   "outputs": [
    {
     "name": "stdout",
     "output_type": "stream",
     "text": [
      "User U417838537 has least beta: -2.834463263979296\n",
      "User U357799541 has max beta: 1.162953088597245\n",
      "User B241777680 has least beta: -2.2356078402713204\n",
      "User B093985406 has max beta: 0\n"
     ]
    }
   ],
   "source": [
    "minUser = min(betaU, key=betaU.get)\n",
    "print(\"User \"+str(minUser)+\" has least beta: \" +str(betaU[minUser]))\n",
    "maxUser = max(betaU, key=betaU.get)\n",
    "print(\"User \"+str(maxUser)+\" has max beta: \" +str(betaU[maxUser]))\n",
    "minBus = min(betaI, key=betaI.get)\n",
    "print(\"User \"+str(minBus)+\" has least beta: \" +str(betaI[minBus]))\n",
    "maxBus = max(betaI, key=betaI.get)\n",
    "print(\"User \"+str(maxBus)+\" has max beta: \" +str(betaU[maxBus]))"
   ]
  },
  {
   "cell_type": "code",
   "execution_count": 141,
   "metadata": {},
   "outputs": [
    {
     "name": "stdout",
     "output_type": "stream",
     "text": [
      "done\n"
     ]
    },
    {
     "data": {
      "image/png": "[encoded data removed]",
      "text/plain": [
       "<matplotlib.figure.Figure at 0x168fdf70>"
      ]
     },
     "metadata": {},
     "output_type": "display_data"
    }
   ],
   "source": [
    "alpha = 0\n",
    "betaU = defaultdict(int)\n",
    "betaI = defaultdict(int)\n",
    "plotLambda = []\n",
    "plotMSE = []\n",
    "p = 0\n",
    "for i in range(0, 60):\n",
    "    p += 0.1\n",
    "    plotLambda.append(p)\n",
    "    while(True):\n",
    "        oldAlpha = alpha\n",
    "        alphaUpdate()\n",
    "        betaUUpdate(p)\n",
    "        betaIUpdate(p)\n",
    "        if(abs(oldAlpha - alpha) <= 0.000001):\n",
    "            break\n",
    "    plotMSE.append(predictRating())\n",
    "    alpha = 0\n",
    "    betaU = defaultdict(int)\n",
    "    betaI = defaultdict(int)\n",
    "\n",
    "print(\"done\")\n",
    "\n",
    "import matplotlib.pyplot as plt\n",
    "plt.plot(plotLambda, plotMSE)\n",
    "plt.show()"
   ]
  },
  {
   "cell_type": "code",
   "execution_count": 143,
   "metadata": {},
   "outputs": [
    {
     "name": "stdout",
     "output_type": "stream",
     "text": [
      "4.100000000000001\n",
      "0.607994393749\n"
     ]
    }
   ],
   "source": [
    "print(plotLambda[np.argmin(plotMSE)])\n",
    "print(plotMSE[np.argmin(plotMSE)])"
   ]
  },
  {
   "cell_type": "code",
   "execution_count": 144,
   "metadata": {},
   "outputs": [
    {
     "name": "stdout",
     "output_type": "stream",
     "text": [
      "0.607994393749\n"
     ]
    }
   ],
   "source": [
    "alpha = 0\n",
    "betaU = defaultdict(int)\n",
    "betaI = defaultdict(int)\n",
    "while(True):\n",
    "    oldAlpha = alpha\n",
    "    alphaUpdate()\n",
    "    betaUUpdate(4.1)\n",
    "    betaIUpdate(4.1)\n",
    "    if(abs(oldAlpha - alpha) <= 0.000001):\n",
    "        break\n",
    "print(predictRating())"
   ]
  },
  {
   "cell_type": "code",
   "execution_count": 147,
   "metadata": {},
   "outputs": [],
   "source": [
    "def ratingPredFile(inputFile, outputFile):\n",
    "    global alpha\n",
    "    global betaU\n",
    "    global betaI\n",
    "    predictions = open(outputFile, 'w')\n",
    "    for l in open(inputFile):\n",
    "        if l.startswith(\"userID\"):\n",
    "            predictions.write(l)\n",
    "            continue\n",
    "        user,business = l.strip().split('-')\n",
    "        prediction = alpha\n",
    "        if user in betaU:\n",
    "            prediction += betaU[user]\n",
    "        if business in betaI:\n",
    "            prediction += betaI[business]\n",
    "        predictions.write(user + '-' + business + \",\" + str(prediction)+\"\\n\")\n",
    "\n",
    "ratingPredFile(\"pairs_Rating.txt\",\"predictions_Rating.txt\")"
   ]
  },
  {
   "cell_type": "code",
   "execution_count": null,
   "metadata": {},
   "outputs": [],
   "source": []
  }
 ],
 "metadata": {
  "kernelspec": {
   "display_name": "Python 3",
   "language": "python",
   "name": "python3"
  },
  "language_info": {
   "codemirror_mode": {
    "name": "ipython",
    "version": 3
   },
   "file_extension": ".py",
   "mimetype": "text/x-python",
   "name": "python",
   "nbconvert_exporter": "python",
   "pygments_lexer": "ipython3",
   "version": "3.6.3"
  }
 },
 "nbformat": 4,
 "nbformat_minor": 2
}
