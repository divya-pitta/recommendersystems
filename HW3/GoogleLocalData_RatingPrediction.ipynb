{
 "cells": [
  {
   "cell_type": "code",
   "execution_count": 1,
   "metadata": {},
   "outputs": [],
   "source": [
    "import gzip\n",
    "import numpy as np\n",
    "from collections import defaultdict"
   ]
  },
  {
   "cell_type": "code",
   "execution_count": 2,
   "metadata": {},
   "outputs": [],
   "source": [
    "def readGz(f):\n",
    "    for l in gzip.open(f):\n",
    "        yield eval(l)"
   ]
  },
  {
   "cell_type": "code",
   "execution_count": 41,
   "metadata": {},
   "outputs": [
    {
     "name": "stdout",
     "output_type": "stream",
     "text": [
      "{'rating': 5.0, 'businessID': 'B408037852', 'reviewText': \"This is where i go to shop for gifts from my mom. She loves this stuff. Cna't get enough. I like that you can customize the items. Store is well alid out and shoppable.\", 'userID': 'U093387342', 'reviewTime': 'Mar 24, 2013', 'categories': [\"Women's Clothing Store\", 'Fashion Accessories Store', 'Shoe Store'], 'reviewHash': 'R471510664', 'unixReviewTime': 1364143460}\n",
      "{'rating': 5.0, 'businessID': 'B408037852', 'reviewText': \"This is where i go to shop for gifts from my mom. She loves this stuff. Cna't get enough. I like that you can customize the items. Store is well alid out and shoppable.\", 'userID': 'U093387342', 'reviewTime': 'Mar 24, 2013', 'categories': [\"Women's Clothing Store\", 'Fashion Accessories Store', 'Shoe Store'], 'reviewHash': 'R471510664', 'unixReviewTime': 1364143460}\n"
     ]
    }
   ],
   "source": [
    "from random import shuffle\n",
    "data = []\n",
    "for l in readGz(\"train.json.gz\"):\n",
    "    data.append(l)\n",
    "\n",
    "print(data[0])\n",
    "#shuffle(data)\n",
    "print(data[0])\n",
    "\n",
    "#trainData, validData = np.array_split(data, 2)\n",
    "\n",
    "trainData = data\n",
    "validData = data[100000:]"
   ]
  },
  {
   "cell_type": "code",
   "execution_count": 77,
   "metadata": {},
   "outputs": [],
   "source": [
    "allRatings = []\n",
    "userRatings = defaultdict(dict)\n",
    "busRatings = defaultdict(dict)\n",
    "busAvgRating = defaultdict(float)\n",
    "userAvgRating = defaultdict(float)\n",
    "globalAvg = 0\n",
    "\n",
    "for d in trainData:\n",
    "    user, bus, rating = d['userID'], d['businessID'], d['rating']\n",
    "    allRatings.append(rating)\n",
    "    globalAvg += rating\n",
    "    userRatings[user][bus] = rating\n",
    "    busRatings[bus][user] = rating\n",
    "    \n",
    "for b in busRatings:\n",
    "    s1 = 0\n",
    "    for u in busRatings[b]:\n",
    "        s1 += busRatings[b][u]\n",
    "    busAvgRating[b] = s1/len(busRatings[b])\n",
    "    \n",
    "for u in userRatings:\n",
    "    s2 = 0\n",
    "    for b in userRatings[u]:\n",
    "        s2 += userRatings[u][b]\n",
    "    userAvgRating[u] = s2/len(userRatings[u])\n",
    "\n",
    "#globalAvg  = \n",
    "globalAvg = globalAvg / len(trainData)\n",
    "\n",
    "#print(globalAvg)"
   ]
  },
  {
   "cell_type": "code",
   "execution_count": 68,
   "metadata": {},
   "outputs": [],
   "source": [
    "vallRatings = []\n",
    "vuserRatings = defaultdict(dict)\n",
    "vbusRatings = defaultdict(dict)\n",
    "\n",
    "for d in validData:\n",
    "    user, bus, rating = d['userID'], d['businessID'], d['rating']\n",
    "    vallRatings.append(rating)\n",
    "    vuserRatings[user][bus] = rating\n",
    "    vbusRatings[bus][user] = rating\n",
    "    \n",
    "compRatings = []\n",
    "cuserRatings = defaultdict(dict)\n",
    "cbusRatings = defaultdict(dict)\n",
    "\n",
    "for d in data:\n",
    "    user, bus, rating = d['userID'], d['businessID'], d['rating']\n",
    "    compRatings.append(rating)\n",
    "    cuserRatings[user][bus] = rating\n",
    "    cbusRatings[bus][user] = rating\n",
    "\n",
    "#predRatings = [globalAvg for x in range(100000)]"
   ]
  },
  {
   "cell_type": "code",
   "execution_count": 44,
   "metadata": {},
   "outputs": [
    {
     "name": "stdout",
     "output_type": "stream",
     "text": [
      "0.748324313425\n"
     ]
    }
   ],
   "source": [
    "from sklearn.metrics import mean_squared_error\n",
    "from math import sqrt\n",
    "\n",
    "MSE_alpha = mean_squared_error(vallRatings, predRatings)\n",
    "print(MSE_alpha)"
   ]
  },
  {
   "cell_type": "code",
   "execution_count": 69,
   "metadata": {},
   "outputs": [],
   "source": [
    "def alphaUpdate():\n",
    "    global alpha\n",
    "    global betaU\n",
    "    global betaI\n",
    "    total = 0;\n",
    "    count = 0\n",
    "    for u in cuserRatings:\n",
    "        for b in cuserRatings[u]:\n",
    "            if(u in betaU):\n",
    "                total -= betaU[u]\n",
    "            if(bus in betaI):\n",
    "                total -= betaI[b]\n",
    "            total += cuserRatings[u][b]\n",
    "            count += 1\n",
    "    alpha = total/count\n",
    "    #print(alpha)\n",
    "#Test\n",
    "#alphaUpdate()"
   ]
  },
  {
   "cell_type": "code",
   "execution_count": 70,
   "metadata": {},
   "outputs": [],
   "source": [
    "def betaUUpdate(lambdaval):\n",
    "    global alpha\n",
    "    global betaU\n",
    "    global betaI\n",
    "    total = 0\n",
    "    count = lambdaval\n",
    "    for u in cuserRatings:\n",
    "        for b in cuserRatings[u]:\n",
    "            total -= alpha\n",
    "            if(bus in betaI):\n",
    "                total -= betaI[b]\n",
    "            total += cuserRatings[u][b]\n",
    "            count += 1\n",
    "        betaU[u] = total/count\n",
    "        total = 0\n",
    "        count = lambdaval\n",
    "    #print(len(betaU))"
   ]
  },
  {
   "cell_type": "code",
   "execution_count": 71,
   "metadata": {},
   "outputs": [],
   "source": [
    "def betaIUpdate(lambdaval):\n",
    "    global alpha\n",
    "    global betaU\n",
    "    global betaI\n",
    "    total = 0\n",
    "    count = lambdaval\n",
    "    for b in cbusRatings:\n",
    "        for u in cbusRatings[b]:\n",
    "            total -= alpha\n",
    "            if(user in betaU):\n",
    "                total -= betaU[u]\n",
    "            total += cbusRatings[b][u]\n",
    "            count += 1\n",
    "        betaI[b] = total/count\n",
    "        total = 0\n",
    "        count = lambdaval\n",
    "    #print(len(betaI))"
   ]
  },
  {
   "cell_type": "code",
   "execution_count": 48,
   "metadata": {},
   "outputs": [
    {
     "ename": "KeyboardInterrupt",
     "evalue": "",
     "output_type": "error",
     "traceback": [
      "\u001b[0;31m---------------------------------------------------------------------------\u001b[0m",
      "\u001b[0;31mKeyboardInterrupt\u001b[0m                         Traceback (most recent call last)",
      "\u001b[0;32m<ipython-input-48-53e88640787a>\u001b[0m in \u001b[0;36m<module>\u001b[0;34m()\u001b[0m\n\u001b[1;32m      6\u001b[0m     \u001b[0malphaUpdate\u001b[0m\u001b[0;34m(\u001b[0m\u001b[0;34m)\u001b[0m\u001b[0;34m\u001b[0m\u001b[0m\n\u001b[1;32m      7\u001b[0m     \u001b[0mbetaUUpdate\u001b[0m\u001b[0;34m(\u001b[0m\u001b[0;36m1\u001b[0m\u001b[0;34m)\u001b[0m\u001b[0;34m\u001b[0m\u001b[0m\n\u001b[0;32m----> 8\u001b[0;31m     \u001b[0mbetaIUpdate\u001b[0m\u001b[0;34m(\u001b[0m\u001b[0;36m1\u001b[0m\u001b[0;34m)\u001b[0m\u001b[0;34m\u001b[0m\u001b[0m\n\u001b[0m\u001b[1;32m      9\u001b[0m     \u001b[0;32mif\u001b[0m\u001b[0;34m(\u001b[0m\u001b[0mabs\u001b[0m\u001b[0;34m(\u001b[0m\u001b[0moldAlpha\u001b[0m \u001b[0;34m-\u001b[0m \u001b[0malpha\u001b[0m\u001b[0;34m)\u001b[0m \u001b[0;34m<=\u001b[0m \u001b[0;36m0.000001\u001b[0m\u001b[0;34m)\u001b[0m\u001b[0;34m:\u001b[0m\u001b[0;34m\u001b[0m\u001b[0m\n\u001b[1;32m     10\u001b[0m         \u001b[0;32mbreak\u001b[0m\u001b[0;34m\u001b[0m\u001b[0m\n",
      "\u001b[0;32m<ipython-input-47-63c6893004d6>\u001b[0m in \u001b[0;36mbetaIUpdate\u001b[0;34m(lambdaval)\u001b[0m\n\u001b[1;32m      9\u001b[0m             \u001b[0mtotal\u001b[0m \u001b[0;34m-=\u001b[0m \u001b[0malpha\u001b[0m\u001b[0;34m\u001b[0m\u001b[0m\n\u001b[1;32m     10\u001b[0m             \u001b[0;32mif\u001b[0m\u001b[0;34m(\u001b[0m\u001b[0muser\u001b[0m \u001b[0;32min\u001b[0m \u001b[0mbetaU\u001b[0m\u001b[0;34m)\u001b[0m\u001b[0;34m:\u001b[0m\u001b[0;34m\u001b[0m\u001b[0m\n\u001b[0;32m---> 11\u001b[0;31m                 \u001b[0mtotal\u001b[0m \u001b[0;34m-=\u001b[0m \u001b[0mbetaU\u001b[0m\u001b[0;34m[\u001b[0m\u001b[0mu\u001b[0m\u001b[0;34m]\u001b[0m\u001b[0;34m\u001b[0m\u001b[0m\n\u001b[0m\u001b[1;32m     12\u001b[0m             \u001b[0mtotal\u001b[0m \u001b[0;34m+=\u001b[0m \u001b[0mcbusRatings\u001b[0m\u001b[0;34m[\u001b[0m\u001b[0mb\u001b[0m\u001b[0;34m]\u001b[0m\u001b[0;34m[\u001b[0m\u001b[0mu\u001b[0m\u001b[0;34m]\u001b[0m\u001b[0;34m\u001b[0m\u001b[0m\n\u001b[1;32m     13\u001b[0m             \u001b[0mcount\u001b[0m \u001b[0;34m+=\u001b[0m \u001b[0;36m1\u001b[0m\u001b[0;34m\u001b[0m\u001b[0m\n",
      "\u001b[0;31mKeyboardInterrupt\u001b[0m: "
     ]
    }
   ],
   "source": [
    "alpha = 0\n",
    "betaU = defaultdict(int)\n",
    "betaI = defaultdict(int)\n",
    "for x in range(10):\n",
    "    oldAlpha = alpha\n",
    "    alphaUpdate()\n",
    "    betaUUpdate(1)\n",
    "    betaIUpdate(1)\n",
    "    if(abs(oldAlpha - alpha) <= 0.000001):\n",
    "        break\n",
    "print(alpha)"
   ]
  },
  {
   "cell_type": "code",
   "execution_count": 50,
   "metadata": {},
   "outputs": [
    {
     "name": "stdout",
     "output_type": "stream",
     "text": [
      "0.406348168244\n"
     ]
    }
   ],
   "source": [
    "def predictRating():\n",
    "    global betaU\n",
    "    global betaI\n",
    "    global alpha\n",
    "    predRatings = []\n",
    "    for d in validData:\n",
    "        user, business = d['userID'], d['businessID']\n",
    "        prediction = alpha\n",
    "        if user in betaU:\n",
    "            prediction += betaU[user]\n",
    "        if business in betaI:\n",
    "            prediction += betaI[business]\n",
    "        predRatings.append(prediction)\n",
    "\n",
    "    MSE_alpha = mean_squared_error(vallRatings, predRatings)\n",
    "    return MSE_alpha\n",
    "\n",
    "print(predictRating())"
   ]
  },
  {
   "cell_type": "code",
   "execution_count": 35,
   "metadata": {},
   "outputs": [
    {
     "name": "stdout",
     "output_type": "stream",
     "text": [
      "User U601112276 has least beta: -2.795399420541175\n",
      "User U782161888 has max beta: 1.2424764154525756\n",
      "User B808255680 has least beta: -2.4830538486446554\n",
      "User B585651541 has max beta: 1.2458417468759957\n"
     ]
    }
   ],
   "source": [
    "minUser = min(betaU, key=betaU.get)\n",
    "print(\"User \"+str(minUser)+\" has least beta: \" +str(betaU[minUser]))\n",
    "maxUser = max(betaU, key=betaU.get)\n",
    "print(\"User \"+str(maxUser)+\" has max beta: \" +str(betaU[maxUser]))\n",
    "minBus = min(betaI, key=betaI.get)\n",
    "print(\"User \"+str(minBus)+\" has least beta: \" +str(betaI[minBus]))\n",
    "maxBus = max(betaI, key=betaI.get)\n",
    "print(\"User \"+str(maxBus)+\" has max beta: \" +str(betaI[maxBus]))"
   ]
  },
  {
   "cell_type": "code",
   "execution_count": 38,
   "metadata": {},
   "outputs": [
    {
     "name": "stdout",
     "output_type": "stream",
     "text": [
      "0\n",
      "1\n",
      "2\n",
      "3\n",
      "4\n",
      "5\n",
      "6\n",
      "7\n",
      "8\n",
      "9\n",
      "done\n"
     ]
    },
    {
     "data": {
      "image/png": "[encoded data removed]",
      "text/plain": [
       "<matplotlib.figure.Figure at 0xafcf4b0>"
      ]
     },
     "metadata": {},
     "output_type": "display_data"
    }
   ],
   "source": [
    "alpha = 0\n",
    "betaU = defaultdict(int)\n",
    "betaI = defaultdict(int)\n",
    "plotLambda = []\n",
    "plotMSE = []\n",
    "p = 1\n",
    "for i in range(0, 10):\n",
    "    p += 1\n",
    "    plotLambda.append(p)\n",
    "    print(i)\n",
    "    for x in range(100):\n",
    "        oldAlpha = alpha\n",
    "        alphaUpdate()\n",
    "        betaUUpdate(p)\n",
    "        betaIUpdate(p)\n",
    "        #if(abs(oldAlpha - alpha) <= 0.000001):\n",
    "        #    break\n",
    "    plotMSE.append(predictRating())\n",
    "    alpha = 0\n",
    "    betaU = defaultdict(int)\n",
    "    betaI = defaultdict(int)\n",
    "\n",
    "print(\"done\")\n",
    "\n",
    "import matplotlib.pyplot as plt\n",
    "plt.plot(plotLambda, plotMSE)\n",
    "plt.show()"
   ]
  },
  {
   "cell_type": "code",
   "execution_count": 31,
   "metadata": {},
   "outputs": [
    {
     "name": "stdout",
     "output_type": "stream",
     "text": [
      "0.1\n",
      "0.307727554546\n"
     ]
    }
   ],
   "source": [
    "print(plotLambda[np.argmin(plotMSE)])\n",
    "print(plotMSE[np.argmin(plotMSE)])"
   ]
  },
  {
   "cell_type": "code",
   "execution_count": 72,
   "metadata": {},
   "outputs": [
    {
     "name": "stdout",
     "output_type": "stream",
     "text": [
      "Iteration count: 0\n",
      "Iteration count: 1\n",
      "Iteration count: 2\n",
      "Iteration count: 3\n",
      "Iteration count: 4\n",
      "Iteration count: 5\n",
      "Iteration count: 6\n",
      "Iteration count: 7\n",
      "Iteration count: 8\n",
      "Iteration count: 9\n",
      "Iteration count: 10\n",
      "Iteration count: 11\n",
      "Iteration count: 12\n",
      "Iteration count: 13\n",
      "Iteration count: 14\n",
      "Iteration count: 15\n",
      "Iteration count: 16\n",
      "Iteration count: 17\n",
      "Iteration count: 18\n",
      "Iteration count: 19\n",
      "Iteration count: 20\n",
      "Iteration count: 21\n",
      "Iteration count: 22\n",
      "Iteration count: 23\n",
      "Iteration count: 24\n",
      "Iteration count: 25\n",
      "Iteration count: 26\n",
      "Iteration count: 27\n",
      "Iteration count: 28\n",
      "Iteration count: 29\n",
      "Iteration count: 30\n",
      "Iteration count: 31\n",
      "Iteration count: 32\n",
      "Iteration count: 33\n",
      "Iteration count: 34\n",
      "Iteration count: 35\n",
      "Iteration count: 36\n",
      "Iteration count: 37\n",
      "Iteration count: 38\n",
      "Iteration count: 39\n",
      "Iteration count: 40\n",
      "Iteration count: 41\n",
      "Iteration count: 42\n",
      "Iteration count: 43\n",
      "Iteration count: 44\n",
      "Iteration count: 45\n",
      "Iteration count: 46\n",
      "Iteration count: 47\n",
      "Iteration count: 48\n",
      "Iteration count: 49\n",
      "Iteration count: 50\n",
      "Iteration count: 51\n",
      "Iteration count: 52\n",
      "Iteration count: 53\n",
      "Iteration count: 54\n",
      "Iteration count: 55\n",
      "Iteration count: 56\n",
      "Iteration count: 57\n",
      "Iteration count: 58\n",
      "Iteration count: 59\n",
      "Iteration count: 60\n",
      "Iteration count: 61\n",
      "Iteration count: 62\n",
      "Iteration count: 63\n",
      "Iteration count: 64\n",
      "Iteration count: 65\n",
      "Iteration count: 66\n",
      "Iteration count: 67\n",
      "Iteration count: 68\n",
      "Iteration count: 69\n",
      "Iteration count: 70\n",
      "Iteration count: 71\n",
      "Iteration count: 72\n",
      "Iteration count: 73\n",
      "Iteration count: 74\n",
      "Iteration count: 75\n",
      "Iteration count: 76\n",
      "Iteration count: 77\n",
      "Iteration count: 78\n",
      "Iteration count: 79\n",
      "Iteration count: 80\n",
      "Iteration count: 81\n",
      "Iteration count: 82\n",
      "Iteration count: 83\n",
      "Iteration count: 84\n",
      "Iteration count: 85\n",
      "Iteration count: 86\n",
      "Iteration count: 87\n",
      "Iteration count: 88\n",
      "Iteration count: 89\n",
      "Iteration count: 90\n",
      "Iteration count: 91\n",
      "Iteration count: 92\n",
      "Iteration count: 93\n",
      "Iteration count: 94\n",
      "Iteration count: 95\n",
      "Iteration count: 96\n",
      "Iteration count: 97\n",
      "Iteration count: 98\n",
      "Iteration count: 99\n",
      "4.224673867995376\n"
     ]
    }
   ],
   "source": [
    "alpha = 0\n",
    "betaU = defaultdict(int)\n",
    "betaI = defaultdict(int)\n",
    "count = 0;\n",
    "while(True):\n",
    "    print(\"Iteration count: \"+str(count))\n",
    "    count += 1\n",
    "    oldAlpha = alpha\n",
    "    alphaUpdate()\n",
    "    betaUUpdate(5)\n",
    "    betaIUpdate(5)\n",
    "    if(count>=100):\n",
    "        break\n",
    "#print(predictRating())\n",
    "print(alpha)"
   ]
  },
  {
   "cell_type": "code",
   "execution_count": 84,
   "metadata": {},
   "outputs": [
    {
     "name": "stdout",
     "output_type": "stream",
     "text": [
      "done\n"
     ]
    }
   ],
   "source": [
    "def ratingPredFile(inputFile, outputFile):\n",
    "    global alpha\n",
    "    global betaU\n",
    "    global betaI\n",
    "    predictions = open(outputFile, 'w')\n",
    "    for l in open(inputFile):\n",
    "        if l.startswith(\"userID\"):\n",
    "            predictions.write(l)\n",
    "            continue\n",
    "        user,business = l.strip().split('-')\n",
    "        prediction = alpha\n",
    "        if user in betaU and business in betaI:\n",
    "            prediction += (betaU[user] + betaI[business])\n",
    "            prediction = (0.9*prediction + 0.05*userAvgRating[user] + 0.05*busAvgRating[business])#/3.0\n",
    "        elif user in betaU:\n",
    "            prediction += betaU[user]\n",
    "            prediction = (0.9*prediction + 0.1*userAvgRating[user])#/2.0\n",
    "        elif business in betaI:\n",
    "            prediction += betaI[business]\n",
    "            prediction = (0.9*prediction + 0.1*busAvgRating[business])#/2.0\n",
    "        else:\n",
    "            prediction = (0.9*prediction + 0.1*globalAvg)#2.0\n",
    "        predictions.write(user + '-' + business + \",\" + str(prediction)+\"\\n\")\n",
    "\n",
    "ratingPredFile(\"pairs_Rating.txt\",\"predictions_Rating.txt\")\n",
    "\n",
    "print(\"done\")"
   ]
  },
  {
   "cell_type": "code",
   "execution_count": null,
   "metadata": {},
   "outputs": [],
   "source": []
  }
 ],
 "metadata": {
  "kernelspec": {
   "display_name": "Python 3",
   "language": "python",
   "name": "python3"
  },
  "language_info": {
   "codemirror_mode": {
    "name": "ipython",
    "version": 3
   },
   "file_extension": ".py",
   "mimetype": "text/x-python",
   "name": "python",
   "nbconvert_exporter": "python",
   "pygments_lexer": "ipython3",
   "version": "3.6.3"
  }
 },
 "nbformat": 4,
 "nbformat_minor": 2
}
