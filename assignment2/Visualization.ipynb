{
 "cells": [
  {
   "cell_type": "code",
   "execution_count": 1,
   "metadata": {
    "collapsed": true
   },
   "outputs": [],
   "source": [
    "from os import listdir\n",
    "import numpy as np\n",
    "from collections import defaultdict\n",
    "import json\n",
    "import pandas as pd"
   ]
  },
  {
   "cell_type": "code",
   "execution_count": 2,
   "metadata": {
    "collapsed": true
   },
   "outputs": [],
   "source": [
    "def readData(jsonpath):\n",
    "    global allReviews\n",
    "    for files,filenumber in zip(listdir(jsonpath),range(len(listdir(jsonpath)))):\n",
    "        d=json.load(open(jsonpath+files,'r'))\n",
    "        for review in d['Reviews']:\n",
    "            userDict={}\n",
    "            for key0 in review:\n",
    "                if key0=='Ratings':\n",
    "                    for key1 in review[key0]:\n",
    "                        userDict[key1]=review[key0][key1]\n",
    "                else:\n",
    "                    userDict[key0]=review[key0]\n",
    "            userDict['HotelId'] = filenumber\n",
    "            userDict['ReviewLength'] = len(userDict['Content'])\n",
    "            allReviews+=[userDict]\n",
    "        if(filenumber==10):\n",
    "            break"
   ]
  },
  {
   "cell_type": "code",
   "execution_count": 3,
   "metadata": {},
   "outputs": [
    {
     "name": "stdout",
     "output_type": "stream",
     "text": [
      "Reading data...\n",
      "Done\n"
     ]
    }
   ],
   "source": [
    "allReviews = []\n",
    "print(\"Reading data...\")\n",
    "readData(\"TripAdvisorJson\\\\json\\\\\")\n",
    "print(\"Done\")"
   ]
  },
  {
   "cell_type": "code",
   "execution_count": 4,
   "metadata": {},
   "outputs": [
    {
     "name": "stdout",
     "output_type": "stream",
     "text": [
      "Length before dropping columns/rows: 1772\n",
      "Length after dropping columns/rows with NaNs: 1289\n"
     ]
    }
   ],
   "source": [
    "df=pd.DataFrame(allReviews)\n",
    "del allReviews\n",
    "print(\"Length before dropping columns/rows: \"+str(len(df)))\n",
    "try:\n",
    "  df=df.drop(['Check in / front desk', 'Business service (e.g., internet access)','Business service', 'ReviewID', 'Sleep Quality'], axis=1)\n",
    "except ValueError:\n",
    "  df=df.drop(['Check in / front desk', 'ReviewID'], axis=1)\n",
    "df.head(5)\n",
    "df = df.dropna(axis=0, how='any')\n",
    "print(\"Length after dropping columns/rows with NaNs: \"+str(len(df)))"
   ]
  },
  {
   "cell_type": "code",
   "execution_count": 5,
   "metadata": {},
   "outputs": [
    {
     "data": {
      "text/html": [
       "<div>\n",
       "<style>\n",
       "    .dataframe thead tr:only-child th {\n",
       "        text-align: right;\n",
       "    }\n",
       "\n",
       "    .dataframe thead th {\n",
       "        text-align: left;\n",
       "    }\n",
       "\n",
       "    .dataframe tbody tr th {\n",
       "        vertical-align: top;\n",
       "    }\n",
       "</style>\n",
       "<table border=\"1\" class=\"dataframe\">\n",
       "  <thead>\n",
       "    <tr style=\"text-align: right;\">\n",
       "      <th></th>\n",
       "      <th>Author</th>\n",
       "      <th>AuthorLocation</th>\n",
       "      <th>Cleanliness</th>\n",
       "      <th>Content</th>\n",
       "      <th>Date</th>\n",
       "      <th>HotelId</th>\n",
       "      <th>Location</th>\n",
       "      <th>Overall</th>\n",
       "      <th>ReviewLength</th>\n",
       "      <th>Rooms</th>\n",
       "      <th>Service</th>\n",
       "      <th>Title</th>\n",
       "      <th>Value</th>\n",
       "    </tr>\n",
       "  </thead>\n",
       "  <tbody>\n",
       "    <tr>\n",
       "      <th>0</th>\n",
       "      <td>Nadine R</td>\n",
       "      <td>Jacksonville, Florida</td>\n",
       "      <td>5</td>\n",
       "      <td>Usually stay near the airport, but this trip w...</td>\n",
       "      <td>April 19, 2012</td>\n",
       "      <td>0</td>\n",
       "      <td>5</td>\n",
       "      <td>5.0</td>\n",
       "      <td>578</td>\n",
       "      <td>5</td>\n",
       "      <td>5</td>\n",
       "      <td>“Great place and location”</td>\n",
       "      <td>5</td>\n",
       "    </tr>\n",
       "    <tr>\n",
       "      <th>1</th>\n",
       "      <td>blt3116</td>\n",
       "      <td>Chillicothe, Ohio</td>\n",
       "      <td>4</td>\n",
       "      <td>Stayed at this Hilton for 2 nights. It was lik...</td>\n",
       "      <td>January 30, 2012</td>\n",
       "      <td>0</td>\n",
       "      <td>5</td>\n",
       "      <td>4.0</td>\n",
       "      <td>298</td>\n",
       "      <td>4</td>\n",
       "      <td>4</td>\n",
       "      <td>“Nice stay, nice surroundings”</td>\n",
       "      <td>4</td>\n",
       "    </tr>\n",
       "    <tr>\n",
       "      <th>2</th>\n",
       "      <td>ExSpec5</td>\n",
       "      <td>Northern Virginia</td>\n",
       "      <td>5</td>\n",
       "      <td>Stayed there one night, December 16, on the wa...</td>\n",
       "      <td>December 28, 2011</td>\n",
       "      <td>0</td>\n",
       "      <td>5</td>\n",
       "      <td>4.0</td>\n",
       "      <td>454</td>\n",
       "      <td>5</td>\n",
       "      <td>5</td>\n",
       "      <td>“Perfect for an overnight just off I-95”</td>\n",
       "      <td>3</td>\n",
       "    </tr>\n",
       "    <tr>\n",
       "      <th>3</th>\n",
       "      <td>kevinlynch3</td>\n",
       "      <td>Raleigh</td>\n",
       "      <td>5</td>\n",
       "      <td>I just stayed here last weekend and have alrea...</td>\n",
       "      <td>December 23, 2011</td>\n",
       "      <td>0</td>\n",
       "      <td>5</td>\n",
       "      <td>5.0</td>\n",
       "      <td>1213</td>\n",
       "      <td>5</td>\n",
       "      <td>5</td>\n",
       "      <td>“Great Hotel”</td>\n",
       "      <td>4</td>\n",
       "    </tr>\n",
       "    <tr>\n",
       "      <th>4</th>\n",
       "      <td>nobumponalog</td>\n",
       "      <td>Belmont, MA</td>\n",
       "      <td>5</td>\n",
       "      <td>My mother who is 90 and I stayed one night on ...</td>\n",
       "      <td>October 14, 2011</td>\n",
       "      <td>0</td>\n",
       "      <td>5</td>\n",
       "      <td>5.0</td>\n",
       "      <td>430</td>\n",
       "      <td>5</td>\n",
       "      <td>5</td>\n",
       "      <td>“good room for handicapped person”</td>\n",
       "      <td>4</td>\n",
       "    </tr>\n",
       "  </tbody>\n",
       "</table>\n",
       "</div>"
      ],
      "text/plain": [
       "         Author         AuthorLocation Cleanliness  \\\n",
       "0      Nadine R  Jacksonville, Florida           5   \n",
       "1       blt3116      Chillicothe, Ohio           4   \n",
       "2       ExSpec5      Northern Virginia           5   \n",
       "3   kevinlynch3                Raleigh           5   \n",
       "4  nobumponalog            Belmont, MA           5   \n",
       "\n",
       "                                             Content               Date  \\\n",
       "0  Usually stay near the airport, but this trip w...     April 19, 2012   \n",
       "1  Stayed at this Hilton for 2 nights. It was lik...   January 30, 2012   \n",
       "2  Stayed there one night, December 16, on the wa...  December 28, 2011   \n",
       "3  I just stayed here last weekend and have alrea...  December 23, 2011   \n",
       "4  My mother who is 90 and I stayed one night on ...   October 14, 2011   \n",
       "\n",
       "   HotelId Location Overall  ReviewLength Rooms Service  \\\n",
       "0        0        5     5.0           578     5       5   \n",
       "1        0        5     4.0           298     4       4   \n",
       "2        0        5     4.0           454     5       5   \n",
       "3        0        5     5.0          1213     5       5   \n",
       "4        0        5     5.0           430     5       5   \n",
       "\n",
       "                                      Title Value  \n",
       "0                “Great place and location”     5  \n",
       "1            “Nice stay, nice surroundings”     4  \n",
       "2  “Perfect for an overnight just off I-95”     3  \n",
       "3                             “Great Hotel”     4  \n",
       "4        “good room for handicapped person”     4  "
      ]
     },
     "execution_count": 5,
     "metadata": {},
     "output_type": "execute_result"
    }
   ],
   "source": [
    "df.head(5)"
   ]
  },
  {
   "cell_type": "code",
   "execution_count": 6,
   "metadata": {},
   "outputs": [
    {
     "data": {
      "image/png": "[encoded data removed]",
      "text/plain": [
       "<matplotlib.figure.Figure at 0x1477255c828>"
      ]
     },
     "metadata": {},
     "output_type": "display_data"
    },
    {
     "data": {
      "text/plain": [
       "array(['5.0', '4.0', '1.0', '3.0', '2.0'], dtype=object)"
      ]
     },
     "execution_count": 6,
     "metadata": {},
     "output_type": "execute_result"
    }
   ],
   "source": [
    "import matplotlib.pyplot as plt\n",
    "scores = pd.DataFrame({\"Ratings\":df[\"Overall\"].astype(np.float)})\n",
    "scores.plot.box()\n",
    "plt.show()\n",
    "df[\"Overall\"].unique()"
   ]
  },
  {
   "cell_type": "code",
   "execution_count": 7,
   "metadata": {
    "collapsed": true
   },
   "outputs": [],
   "source": [
    "import seaborn as sns"
   ]
  },
  {
   "cell_type": "code",
   "execution_count": 8,
   "metadata": {},
   "outputs": [
    {
     "data": {
      "image/png": "[encoded data removed]",
      "text/plain": [
       "<matplotlib.figure.Figure at 0x14774788470>"
      ]
     },
     "metadata": {},
     "output_type": "display_data"
    }
   ],
   "source": [
    "fig, ax = plt.subplots()\n",
    "df['Overall'].value_counts().plot(ax=ax, kind='bar')\n",
    "plt.show()"
   ]
  },
  {
   "cell_type": "code",
   "execution_count": 53,
   "metadata": {},
   "outputs": [],
   "source": [
    "df['Overall'].value_counts()\n",
    "def getFreqCount(colName):\n",
    "    print(colName)\n",
    "    li = {}\n",
    "    for (value,freq) in zip(df[colName].value_counts().index.tolist(),df[colName].value_counts()):\n",
    "        li[value] = freq\n",
    "    print(li)\n",
    "    return li"
   ]
  },
  {
   "cell_type": "code",
   "execution_count": 32,
   "metadata": {},
   "outputs": [],
   "source": [
    "import plotly.graph_objs as go\n",
    "from plotly.offline import iplot, init_notebook_mode\n",
    "import cufflinks as cf"
   ]
  },
  {
   "cell_type": "code",
   "execution_count": 34,
   "metadata": {},
   "outputs": [
    {
     "data": {
      "text/plain": [
       "Index(['Author', 'AuthorLocation', 'Cleanliness', 'Content', 'Date', 'HotelId',\n",
       "       'Location', 'Overall', 'ReviewLength', 'Rooms', 'Service', 'Title',\n",
       "       'Value'],\n",
       "      dtype='object')"
      ]
     },
     "execution_count": 34,
     "metadata": {},
     "output_type": "execute_result"
    }
   ],
   "source": [
    "df.columns"
   ]
  },
  {
   "cell_type": "code",
   "execution_count": 76,
   "metadata": {},
   "outputs": [
    {
     "name": "stdout",
     "output_type": "stream",
     "text": [
      "Overall\n",
      "{'5.0': 691, '4.0': 334, '3.0': 137, '2.0': 64, '1.0': 63}\n",
      "Overall\n",
      "{'5.0': 691, '4.0': 334, '3.0': 137, '2.0': 64, '1.0': 63}\n",
      "Cleanliness\n",
      "{'5': 835, '4': 269, '3': 97, '1': 49, '2': 39}\n",
      "Service\n",
      "{'5': 798, '4': 244, '3': 123, '1': 67, '2': 57}\n",
      "Rooms\n",
      "{'5': 672, '4': 348, '3': 139, '2': 71, '1': 59}\n",
      "Location\n",
      "{'5': 949, '4': 240, '3': 79, '2': 13, '1': 8}\n",
      "Value\n",
      "{'5': 566, '4': 403, '3': 165, '2': 79, '1': 76}\n"
     ]
    },
    {
     "data": {
      "image/png": "[encoded data removed]",
      "text/plain": [
       "<matplotlib.figure.Figure at 0x147754c9860>"
      ]
     },
     "metadata": {},
     "output_type": "display_data"
    },
    {
     "data": {
      "text/plain": [
       "<matplotlib.figure.Figure at 0x14775341128>"
      ]
     },
     "metadata": {},
     "output_type": "display_data"
    }
   ],
   "source": [
    "def plotFreqCounts(cols):\n",
    "    l = len(getFreqCount(cols[0]))\n",
    "    X = np.arange(l)\n",
    "    ax = plt#.subplot(111)\n",
    "    for i in range(len(cols)):\n",
    "        mult = 1\n",
    "        if(i%2==0):\n",
    "            mult = 1\n",
    "        ax.bar(X+len(cols)*0.1/2-(mult*i*0.1), getFreqCount(cols[i]).values(), width=0.1, align='center')\n",
    "    ax.legend(cols)\n",
    "    #ax.autoscale(tight=False)\n",
    "    ax.figure(figsize=(20,20))\n",
    "    ax.show()\n",
    "plotFreqCounts(['Overall', 'Cleanliness', 'Service', 'Rooms', 'Location', 'Value'])"
   ]
  },
  {
   "cell_type": "code",
   "execution_count": 85,
   "metadata": {},
   "outputs": [
    {
     "data": {
      "image/png": "[encoded data removed]",
      "text/plain": [
       "<matplotlib.figure.Figure at 0x1477712e3c8>"
      ]
     },
     "metadata": {},
     "output_type": "display_data"
    },
    {
     "data": {
      "text/plain": [
       "<matplotlib.figure.Figure at 0x147753e3048>"
      ]
     },
     "metadata": {},
     "output_type": "display_data"
    }
   ],
   "source": [
    "import matplotlib.pyplot as plt\n",
    "\n",
    "%matplotlib inline\n",
    "df.hist(column='ReviewLength', bins=50)\n",
    "plt.figure(figsize=(20,3))\n",
    "plt.show()"
   ]
  },
  {
   "cell_type": "code",
   "execution_count": 96,
   "metadata": {},
   "outputs": [
    {
     "data": {
      "text/plain": [
       "<matplotlib.axes._subplots.AxesSubplot at 0x1477752ffd0>"
      ]
     },
     "execution_count": 96,
     "metadata": {},
     "output_type": "execute_result"
    },
    {
     "data": {
      "image/png": "[encoded data removed]",
      "text/plain": [
       "<matplotlib.figure.Figure at 0x14776f5ab38>"
      ]
     },
     "metadata": {},
     "output_type": "display_data"
    }
   ],
   "source": [
    "df['ReviewLength'].hist(figsize=(18, 5), bins=50)"
   ]
  },
  {
   "cell_type": "code",
   "execution_count": 37,
   "metadata": {},
   "outputs": [
    {
     "data": {
      "text/plain": [
       "11111"
      ]
     },
     "execution_count": 37,
     "metadata": {},
     "output_type": "execute_result"
    }
   ],
   "source": [
    "int('1'*5)"
   ]
  },
  {
   "cell_type": "code",
   "execution_count": 50,
   "metadata": {},
   "outputs": [
    {
     "data": {
      "text/plain": [
       "5    798\n",
       "4    244\n",
       "3    123\n",
       "1     67\n",
       "2     57\n",
       "Name: Service, dtype: int64"
      ]
     },
     "execution_count": 50,
     "metadata": {},
     "output_type": "execute_result"
    }
   ],
   "source": [
    "df['Service'].value_counts()"
   ]
  },
  {
   "cell_type": "code",
   "execution_count": null,
   "metadata": {
    "collapsed": true
   },
   "outputs": [],
   "source": []
  }
 ],
 "metadata": {
  "kernelspec": {
   "display_name": "Python 3",
   "language": "python",
   "name": "python3"
  },
  "language_info": {
   "codemirror_mode": {
    "name": "ipython",
    "version": 3
   },
   "file_extension": ".py",
   "mimetype": "text/x-python",
   "name": "python",
   "nbconvert_exporter": "python",
   "pygments_lexer": "ipython3",
   "version": "3.6.3"
  }
 },
 "nbformat": 4,
 "nbformat_minor": 2
}
