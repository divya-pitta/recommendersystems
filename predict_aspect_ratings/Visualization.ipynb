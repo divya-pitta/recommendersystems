{
 "cells": [
  {
   "cell_type": "code",
   "execution_count": 5,
   "metadata": {
    "collapsed": true
   },
   "outputs": [],
   "source": [
    "from os import listdir\n",
    "import numpy as np\n",
    "from collections import defaultdict\n",
    "import json\n",
    "import pandas as pd\n",
    "import xml.etree.ElementTree\n",
    "from bs4 import BeautifulSoup"
   ]
  },
  {
   "cell_type": "code",
   "execution_count": 2,
   "metadata": {
    "collapsed": true
   },
   "outputs": [],
   "source": [
    "def readData(jsonpath):\n",
    "    global allReviews\n",
    "    for files,filenumber in zip(listdir(jsonpath),range(len(listdir(jsonpath)))):\n",
    "        d=json.load(open(jsonpath+files,'r'))\n",
    "        #print(filenumber)\n",
    "        for hotelInfo in d['HotelInfo']:\n",
    "            if(hotelInfo == 'Address'):\n",
    "                addressXml = d['HotelInfo'][hotelInfo]\n",
    "        soup = BeautifulSoup(addressXml, \"xml\")\n",
    "        span = soup.find(\"span\", {'property' : 'v:locality'})\n",
    "        hotelLocality = ''\n",
    "        if span and span.text:\n",
    "            hotelLocality = span.text\n",
    "        \n",
    "        for review in d['Reviews']:\n",
    "            userDict={}\n",
    "            for key0 in review:\n",
    "                if key0=='Ratings':\n",
    "                    for key1 in review[key0]:\n",
    "                        userDict[key1]=review[key0][key1]\n",
    "                else:\n",
    "                    userDict[key0]=review[key0]\n",
    "            userDict['HotelId'] = filenumber\n",
    "            userDict['ReviewLength'] = len(userDict['Content'].split())\n",
    "            userDict['Locality'] = hotelLocality\n",
    "            #if(userDict['ReviewLength']>2000):\n",
    "            #    print(userDict['Content'])\n",
    "            #    break\n",
    "            allReviews+=[userDict]\n",
    "        if(filenumber==100):\n",
    "            break"
   ]
  },
  {
   "cell_type": "code",
   "execution_count": 3,
   "metadata": {},
   "outputs": [
    {
     "name": "stdout",
     "output_type": "stream",
     "text": [
      "Reading data...\n",
      "Done\n"
     ]
    },
    {
     "data": {
      "text/html": [
       "<div>\n",
       "<style>\n",
       "    .dataframe thead tr:only-child th {\n",
       "        text-align: right;\n",
       "    }\n",
       "\n",
       "    .dataframe thead th {\n",
       "        text-align: left;\n",
       "    }\n",
       "\n",
       "    .dataframe tbody tr th {\n",
       "        vertical-align: top;\n",
       "    }\n",
       "</style>\n",
       "<table border=\"1\" class=\"dataframe\">\n",
       "  <thead>\n",
       "    <tr style=\"text-align: right;\">\n",
       "      <th></th>\n",
       "      <th>Author</th>\n",
       "      <th>AuthorLocation</th>\n",
       "      <th>Business service</th>\n",
       "      <th>Business service (e.g., internet access)</th>\n",
       "      <th>Check in / front desk</th>\n",
       "      <th>Cleanliness</th>\n",
       "      <th>Content</th>\n",
       "      <th>Date</th>\n",
       "      <th>HotelId</th>\n",
       "      <th>Locality</th>\n",
       "      <th>Location</th>\n",
       "      <th>Overall</th>\n",
       "      <th>ReviewID</th>\n",
       "      <th>ReviewLength</th>\n",
       "      <th>Rooms</th>\n",
       "      <th>Service</th>\n",
       "      <th>Sleep Quality</th>\n",
       "      <th>Title</th>\n",
       "      <th>Value</th>\n",
       "    </tr>\n",
       "  </thead>\n",
       "  <tbody>\n",
       "    <tr>\n",
       "      <th>0</th>\n",
       "      <td>Nadine R</td>\n",
       "      <td>Jacksonville, Florida</td>\n",
       "      <td>NaN</td>\n",
       "      <td>NaN</td>\n",
       "      <td>NaN</td>\n",
       "      <td>5</td>\n",
       "      <td>Usually stay near the airport, but this trip w...</td>\n",
       "      <td>April 19, 2012</td>\n",
       "      <td>0</td>\n",
       "      <td>Baltimore</td>\n",
       "      <td>5</td>\n",
       "      <td>5.0</td>\n",
       "      <td>UR128178025</td>\n",
       "      <td>107</td>\n",
       "      <td>5</td>\n",
       "      <td>5</td>\n",
       "      <td>5</td>\n",
       "      <td>“Great place and location”</td>\n",
       "      <td>5</td>\n",
       "    </tr>\n",
       "    <tr>\n",
       "      <th>1</th>\n",
       "      <td>blt3116</td>\n",
       "      <td>Chillicothe, Ohio</td>\n",
       "      <td>NaN</td>\n",
       "      <td>NaN</td>\n",
       "      <td>NaN</td>\n",
       "      <td>4</td>\n",
       "      <td>Stayed at this Hilton for 2 nights. It was lik...</td>\n",
       "      <td>January 30, 2012</td>\n",
       "      <td>0</td>\n",
       "      <td>Baltimore</td>\n",
       "      <td>5</td>\n",
       "      <td>4.0</td>\n",
       "      <td>UR123847354</td>\n",
       "      <td>50</td>\n",
       "      <td>4</td>\n",
       "      <td>4</td>\n",
       "      <td>4</td>\n",
       "      <td>“Nice stay, nice surroundings”</td>\n",
       "      <td>4</td>\n",
       "    </tr>\n",
       "    <tr>\n",
       "      <th>2</th>\n",
       "      <td>ExSpec5</td>\n",
       "      <td>Northern Virginia</td>\n",
       "      <td>NaN</td>\n",
       "      <td>NaN</td>\n",
       "      <td>NaN</td>\n",
       "      <td>5</td>\n",
       "      <td>Stayed there one night, December 16, on the wa...</td>\n",
       "      <td>December 28, 2011</td>\n",
       "      <td>0</td>\n",
       "      <td>Baltimore</td>\n",
       "      <td>5</td>\n",
       "      <td>4.0</td>\n",
       "      <td>UR122192448</td>\n",
       "      <td>80</td>\n",
       "      <td>5</td>\n",
       "      <td>5</td>\n",
       "      <td>3</td>\n",
       "      <td>“Perfect for an overnight just off I-95”</td>\n",
       "      <td>3</td>\n",
       "    </tr>\n",
       "    <tr>\n",
       "      <th>3</th>\n",
       "      <td>kevinlynch3</td>\n",
       "      <td>Raleigh</td>\n",
       "      <td>NaN</td>\n",
       "      <td>NaN</td>\n",
       "      <td>NaN</td>\n",
       "      <td>5</td>\n",
       "      <td>I just stayed here last weekend and have alrea...</td>\n",
       "      <td>December 23, 2011</td>\n",
       "      <td>0</td>\n",
       "      <td>Baltimore</td>\n",
       "      <td>5</td>\n",
       "      <td>5.0</td>\n",
       "      <td>UR122031890</td>\n",
       "      <td>214</td>\n",
       "      <td>5</td>\n",
       "      <td>5</td>\n",
       "      <td>5</td>\n",
       "      <td>“Great Hotel”</td>\n",
       "      <td>4</td>\n",
       "    </tr>\n",
       "    <tr>\n",
       "      <th>4</th>\n",
       "      <td>nobumponalog</td>\n",
       "      <td>Belmont, MA</td>\n",
       "      <td>NaN</td>\n",
       "      <td>NaN</td>\n",
       "      <td>NaN</td>\n",
       "      <td>5</td>\n",
       "      <td>My mother who is 90 and I stayed one night on ...</td>\n",
       "      <td>October 14, 2011</td>\n",
       "      <td>0</td>\n",
       "      <td>Baltimore</td>\n",
       "      <td>5</td>\n",
       "      <td>5.0</td>\n",
       "      <td>UR119295575</td>\n",
       "      <td>80</td>\n",
       "      <td>5</td>\n",
       "      <td>5</td>\n",
       "      <td>5</td>\n",
       "      <td>“good room for handicapped person”</td>\n",
       "      <td>4</td>\n",
       "    </tr>\n",
       "  </tbody>\n",
       "</table>\n",
       "</div>"
      ],
      "text/plain": [
       "         Author         AuthorLocation Business service  \\\n",
       "0      Nadine R  Jacksonville, Florida              NaN   \n",
       "1       blt3116      Chillicothe, Ohio              NaN   \n",
       "2       ExSpec5      Northern Virginia              NaN   \n",
       "3   kevinlynch3                Raleigh              NaN   \n",
       "4  nobumponalog            Belmont, MA              NaN   \n",
       "\n",
       "  Business service (e.g., internet access) Check in / front desk Cleanliness  \\\n",
       "0                                      NaN                   NaN           5   \n",
       "1                                      NaN                   NaN           4   \n",
       "2                                      NaN                   NaN           5   \n",
       "3                                      NaN                   NaN           5   \n",
       "4                                      NaN                   NaN           5   \n",
       "\n",
       "                                             Content               Date  \\\n",
       "0  Usually stay near the airport, but this trip w...     April 19, 2012   \n",
       "1  Stayed at this Hilton for 2 nights. It was lik...   January 30, 2012   \n",
       "2  Stayed there one night, December 16, on the wa...  December 28, 2011   \n",
       "3  I just stayed here last weekend and have alrea...  December 23, 2011   \n",
       "4  My mother who is 90 and I stayed one night on ...   October 14, 2011   \n",
       "\n",
       "   HotelId   Locality Location Overall     ReviewID  ReviewLength Rooms  \\\n",
       "0        0  Baltimore        5     5.0  UR128178025           107     5   \n",
       "1        0  Baltimore        5     4.0  UR123847354            50     4   \n",
       "2        0  Baltimore        5     4.0  UR122192448            80     5   \n",
       "3        0  Baltimore        5     5.0  UR122031890           214     5   \n",
       "4        0  Baltimore        5     5.0  UR119295575            80     5   \n",
       "\n",
       "  Service Sleep Quality                                     Title Value  \n",
       "0       5             5                “Great place and location”     5  \n",
       "1       4             4            “Nice stay, nice surroundings”     4  \n",
       "2       5             3  “Perfect for an overnight just off I-95”     3  \n",
       "3       5             5                             “Great Hotel”     4  \n",
       "4       5             5        “good room for handicapped person”     4  "
      ]
     },
     "execution_count": 3,
     "metadata": {},
     "output_type": "execute_result"
    }
   ],
   "source": [
    "allReviews = []\n",
    "print(\"Reading data...\")\n",
    "readData(\"TripAdvisorJson\\\\json\\\\\")\n",
    "print(\"Done\")\n",
    "df=pd.DataFrame(allReviews)\n",
    "df.head()"
   ]
  },
  {
   "cell_type": "code",
   "execution_count": 74,
   "metadata": {},
   "outputs": [
    {
     "name": "stdout",
     "output_type": "stream",
     "text": [
      "Length before dropping columns/rows: 16455\n",
      "Length after dropping columns/rows with NaNs: 12100\n"
     ]
    }
   ],
   "source": [
    "df=pd.DataFrame(allReviews)\n",
    "#dfTrain = pd.read_pickle(\"dfTrainPickle.pickle\")\n",
    "del allReviews\n",
    "print(\"Length before dropping columns/rows: \"+str(len(df)))\n",
    "try:\n",
    "  df=df.drop(['Check in / front desk', 'Business service (e.g., internet access)','Business service', 'ReviewID', 'Sleep Quality'], axis=1)\n",
    "except ValueError:\n",
    "  df=df.drop(['Check in / front desk', 'ReviewID'], axis=1)\n",
    "df.head(5)\n",
    "df = df.dropna(axis=0, how='any')\n",
    "print(\"Length after dropping columns/rows with NaNs: \"+str(len(df)))"
   ]
  },
  {
   "cell_type": "code",
   "execution_count": 5,
   "metadata": {},
   "outputs": [
    {
     "data": {
      "text/html": [
       "<div>\n",
       "<style>\n",
       "    .dataframe thead tr:only-child th {\n",
       "        text-align: right;\n",
       "    }\n",
       "\n",
       "    .dataframe thead th {\n",
       "        text-align: left;\n",
       "    }\n",
       "\n",
       "    .dataframe tbody tr th {\n",
       "        vertical-align: top;\n",
       "    }\n",
       "</style>\n",
       "<table border=\"1\" class=\"dataframe\">\n",
       "  <thead>\n",
       "    <tr style=\"text-align: right;\">\n",
       "      <th></th>\n",
       "      <th>Author</th>\n",
       "      <th>AuthorLocation</th>\n",
       "      <th>Cleanliness</th>\n",
       "      <th>Content</th>\n",
       "      <th>Date</th>\n",
       "      <th>HotelId</th>\n",
       "      <th>Location</th>\n",
       "      <th>Overall</th>\n",
       "      <th>ReviewLength</th>\n",
       "      <th>Rooms</th>\n",
       "      <th>Service</th>\n",
       "      <th>Title</th>\n",
       "      <th>Value</th>\n",
       "    </tr>\n",
       "  </thead>\n",
       "  <tbody>\n",
       "    <tr>\n",
       "      <th>0</th>\n",
       "      <td>Nadine R</td>\n",
       "      <td>Jacksonville, Florida</td>\n",
       "      <td>5</td>\n",
       "      <td>Usually stay near the airport, but this trip w...</td>\n",
       "      <td>April 19, 2012</td>\n",
       "      <td>0</td>\n",
       "      <td>5</td>\n",
       "      <td>5.0</td>\n",
       "      <td>107</td>\n",
       "      <td>5</td>\n",
       "      <td>5</td>\n",
       "      <td>“Great place and location”</td>\n",
       "      <td>5</td>\n",
       "    </tr>\n",
       "    <tr>\n",
       "      <th>1</th>\n",
       "      <td>blt3116</td>\n",
       "      <td>Chillicothe, Ohio</td>\n",
       "      <td>4</td>\n",
       "      <td>Stayed at this Hilton for 2 nights. It was lik...</td>\n",
       "      <td>January 30, 2012</td>\n",
       "      <td>0</td>\n",
       "      <td>5</td>\n",
       "      <td>4.0</td>\n",
       "      <td>50</td>\n",
       "      <td>4</td>\n",
       "      <td>4</td>\n",
       "      <td>“Nice stay, nice surroundings”</td>\n",
       "      <td>4</td>\n",
       "    </tr>\n",
       "    <tr>\n",
       "      <th>2</th>\n",
       "      <td>ExSpec5</td>\n",
       "      <td>Northern Virginia</td>\n",
       "      <td>5</td>\n",
       "      <td>Stayed there one night, December 16, on the wa...</td>\n",
       "      <td>December 28, 2011</td>\n",
       "      <td>0</td>\n",
       "      <td>5</td>\n",
       "      <td>4.0</td>\n",
       "      <td>80</td>\n",
       "      <td>5</td>\n",
       "      <td>5</td>\n",
       "      <td>“Perfect for an overnight just off I-95”</td>\n",
       "      <td>3</td>\n",
       "    </tr>\n",
       "    <tr>\n",
       "      <th>3</th>\n",
       "      <td>kevinlynch3</td>\n",
       "      <td>Raleigh</td>\n",
       "      <td>5</td>\n",
       "      <td>I just stayed here last weekend and have alrea...</td>\n",
       "      <td>December 23, 2011</td>\n",
       "      <td>0</td>\n",
       "      <td>5</td>\n",
       "      <td>5.0</td>\n",
       "      <td>214</td>\n",
       "      <td>5</td>\n",
       "      <td>5</td>\n",
       "      <td>“Great Hotel”</td>\n",
       "      <td>4</td>\n",
       "    </tr>\n",
       "    <tr>\n",
       "      <th>4</th>\n",
       "      <td>nobumponalog</td>\n",
       "      <td>Belmont, MA</td>\n",
       "      <td>5</td>\n",
       "      <td>My mother who is 90 and I stayed one night on ...</td>\n",
       "      <td>October 14, 2011</td>\n",
       "      <td>0</td>\n",
       "      <td>5</td>\n",
       "      <td>5.0</td>\n",
       "      <td>80</td>\n",
       "      <td>5</td>\n",
       "      <td>5</td>\n",
       "      <td>“good room for handicapped person”</td>\n",
       "      <td>4</td>\n",
       "    </tr>\n",
       "  </tbody>\n",
       "</table>\n",
       "</div>"
      ],
      "text/plain": [
       "         Author         AuthorLocation Cleanliness  \\\n",
       "0      Nadine R  Jacksonville, Florida           5   \n",
       "1       blt3116      Chillicothe, Ohio           4   \n",
       "2       ExSpec5      Northern Virginia           5   \n",
       "3   kevinlynch3                Raleigh           5   \n",
       "4  nobumponalog            Belmont, MA           5   \n",
       "\n",
       "                                             Content               Date  \\\n",
       "0  Usually stay near the airport, but this trip w...     April 19, 2012   \n",
       "1  Stayed at this Hilton for 2 nights. It was lik...   January 30, 2012   \n",
       "2  Stayed there one night, December 16, on the wa...  December 28, 2011   \n",
       "3  I just stayed here last weekend and have alrea...  December 23, 2011   \n",
       "4  My mother who is 90 and I stayed one night on ...   October 14, 2011   \n",
       "\n",
       "   HotelId Location Overall  ReviewLength Rooms Service  \\\n",
       "0        0        5     5.0           107     5       5   \n",
       "1        0        5     4.0            50     4       4   \n",
       "2        0        5     4.0            80     5       5   \n",
       "3        0        5     5.0           214     5       5   \n",
       "4        0        5     5.0            80     5       5   \n",
       "\n",
       "                                      Title Value  \n",
       "0                “Great place and location”     5  \n",
       "1            “Nice stay, nice surroundings”     4  \n",
       "2  “Perfect for an overnight just off I-95”     3  \n",
       "3                             “Great Hotel”     4  \n",
       "4        “good room for handicapped person”     4  "
      ]
     },
     "execution_count": 5,
     "metadata": {},
     "output_type": "execute_result"
    }
   ],
   "source": [
    "df.head(5)"
   ]
  },
  {
   "cell_type": "code",
   "execution_count": 6,
   "metadata": {},
   "outputs": [
    {
     "data": {
      "image/png": "[encoded data removed]",
      "text/plain": [
       "<matplotlib.figure.Figure at 0x157030d4828>"
      ]
     },
     "metadata": {},
     "output_type": "display_data"
    },
    {
     "data": {
      "text/plain": [
       "array(['5.0', '4.0', '1.0', '3.0', '2.0'], dtype=object)"
      ]
     },
     "execution_count": 6,
     "metadata": {},
     "output_type": "execute_result"
    }
   ],
   "source": [
    "import matplotlib.pyplot as plt\n",
    "scores = pd.DataFrame({\"Ratings\":df[\"Overall\"].astype(np.float)})\n",
    "scores.plot.box()\n",
    "plt.show()\n",
    "df[\"Overall\"].unique()"
   ]
  },
  {
   "cell_type": "code",
   "execution_count": 7,
   "metadata": {
    "collapsed": true
   },
   "outputs": [],
   "source": [
    "import seaborn as sns"
   ]
  },
  {
   "cell_type": "code",
   "execution_count": 8,
   "metadata": {},
   "outputs": [
    {
     "data": {
      "image/png": "[encoded data removed]",
      "text/plain": [
       "<matplotlib.figure.Figure at 0x157056756a0>"
      ]
     },
     "metadata": {},
     "output_type": "display_data"
    }
   ],
   "source": [
    "fig, ax = plt.subplots()\n",
    "df['Overall'].value_counts().plot(ax=ax, kind='bar')\n",
    "plt.show()"
   ]
  },
  {
   "cell_type": "code",
   "execution_count": 9,
   "metadata": {
    "collapsed": true
   },
   "outputs": [],
   "source": [
    "df['Overall'].value_counts()\n",
    "def getFreqCount(colName):\n",
    "    print(colName)\n",
    "    li = {}\n",
    "    for (value,freq) in zip(df[colName].value_counts().index.tolist(),df[colName].value_counts()):\n",
    "        li[value] = freq\n",
    "    print(li)\n",
    "    return li"
   ]
  },
  {
   "cell_type": "code",
   "execution_count": 10,
   "metadata": {
    "collapsed": true
   },
   "outputs": [],
   "source": [
    "import plotly.graph_objs as go\n",
    "from plotly.offline import iplot, init_notebook_mode\n",
    "import cufflinks as cf"
   ]
  },
  {
   "cell_type": "code",
   "execution_count": 11,
   "metadata": {},
   "outputs": [
    {
     "data": {
      "text/plain": [
       "Index(['Author', 'AuthorLocation', 'Cleanliness', 'Content', 'Date', 'HotelId',\n",
       "       'Location', 'Overall', 'ReviewLength', 'Rooms', 'Service', 'Title',\n",
       "       'Value'],\n",
       "      dtype='object')"
      ]
     },
     "execution_count": 11,
     "metadata": {},
     "output_type": "execute_result"
    }
   ],
   "source": [
    "df.columns"
   ]
  },
  {
   "cell_type": "code",
   "execution_count": 12,
   "metadata": {},
   "outputs": [
    {
     "name": "stdout",
     "output_type": "stream",
     "text": [
      "Overall\n",
      "{'5.0': 5945, '4.0': 3493, '3.0': 1491, '2.0': 697, '1.0': 474}\n",
      "Overall\n",
      "{'5.0': 5945, '4.0': 3493, '3.0': 1491, '2.0': 697, '1.0': 474}\n",
      "Cleanliness\n",
      "{'5': 7479, '4': 2770, '3': 1118, '2': 402, '1': 331}\n",
      "Service\n",
      "{'5': 7105, '4': 2615, '3': 1310, '2': 548, '1': 522}\n",
      "Rooms\n",
      "{'5': 5685, '4': 3434, '3': 1778, '2': 701, '1': 502}\n",
      "Location\n",
      "{'5': 8327, '4': 2578, '3': 858, '2': 232, '1': 105}\n",
      "Value\n",
      "{'5': 5400, '4': 3478, '3': 1818, '2': 772, '1': 632}\n"
     ]
    },
    {
     "data": {
      "image/png": "[encoded data removed]",
      "text/plain": [
       "<matplotlib.figure.Figure at 0x157056d7438>"
      ]
     },
     "metadata": {},
     "output_type": "display_data"
    },
    {
     "data": {
      "text/plain": [
       "<matplotlib.figure.Figure at 0x15705fdc2e8>"
      ]
     },
     "metadata": {},
     "output_type": "display_data"
    }
   ],
   "source": [
    "def plotFreqCounts(cols):\n",
    "    l = len(getFreqCount(cols[0]))\n",
    "    X = np.arange(l)\n",
    "    ax = plt#.subplot(111)\n",
    "    for i in range(len(cols)):\n",
    "        mult = 1\n",
    "        if(i%2==0):\n",
    "            mult = 1\n",
    "        ax.bar(X+len(cols)*0.1/2-(mult*i*0.1), getFreqCount(cols[i]).values(), width=0.1, align='center')\n",
    "    ax.legend(cols)\n",
    "    #ax.autoscale(tight=False)\n",
    "    ax.figure(figsize=(20,20))\n",
    "    ax.show()\n",
    "plotFreqCounts(['Overall', 'Cleanliness', 'Service', 'Rooms', 'Location', 'Value'])"
   ]
  },
  {
   "cell_type": "code",
   "execution_count": 13,
   "metadata": {},
   "outputs": [
    {
     "data": {
      "image/png": "[encoded data removed]",
      "text/plain": [
       "<matplotlib.figure.Figure at 0x15704a42588>"
      ]
     },
     "metadata": {},
     "output_type": "display_data"
    },
    {
     "data": {
      "text/plain": [
       "<matplotlib.figure.Figure at 0x15704369cc0>"
      ]
     },
     "metadata": {},
     "output_type": "display_data"
    }
   ],
   "source": [
    "import matplotlib.pyplot as plt\n",
    "\n",
    "%matplotlib inline\n",
    "df.hist(column='ReviewLength', bins=50)\n",
    "plt.figure(figsize=(20,3))\n",
    "plt.show()"
   ]
  },
  {
   "cell_type": "code",
   "execution_count": 14,
   "metadata": {},
   "outputs": [
    {
     "data": {
      "text/plain": [
       "<matplotlib.axes._subplots.AxesSubplot at 0x15706241978>"
      ]
     },
     "execution_count": 14,
     "metadata": {},
     "output_type": "execute_result"
    },
    {
     "data": {
      "image/png": "[encoded data removed]",
      "text/plain": [
       "<matplotlib.figure.Figure at 0x157056d79b0>"
      ]
     },
     "metadata": {},
     "output_type": "display_data"
    }
   ],
   "source": [
    "df['ReviewLength'].hist(figsize=(18, 5), bins=50)"
   ]
  },
  {
   "cell_type": "code",
   "execution_count": 15,
   "metadata": {},
   "outputs": [
    {
     "data": {
      "image/png": "[encoded data removed]",
      "text/plain": [
       "<matplotlib.figure.Figure at 0x1570606ffd0>"
      ]
     },
     "metadata": {},
     "output_type": "display_data"
    }
   ],
   "source": [
    "plt.scatter(df['ReviewLength'], df['Overall'])\n",
    "plt.show()"
   ]
  },
  {
   "cell_type": "code",
   "execution_count": 16,
   "metadata": {},
   "outputs": [
    {
     "data": {
      "text/plain": [
       "5    7105\n",
       "4    2615\n",
       "3    1310\n",
       "2     548\n",
       "1     522\n",
       "Name: Service, dtype: int64"
      ]
     },
     "execution_count": 16,
     "metadata": {},
     "output_type": "execute_result"
    }
   ],
   "source": [
    "df['Service'].value_counts()"
   ]
  },
  {
   "cell_type": "code",
   "execution_count": 20,
   "metadata": {},
   "outputs": [
    {
     "data": {
      "text/plain": [
       "<matplotlib.axes._subplots.AxesSubplot at 0x15706322b38>"
      ]
     },
     "execution_count": 20,
     "metadata": {},
     "output_type": "execute_result"
    },
    {
     "data": {
      "image/png": "[encoded data removed]",
      "text/plain": [
       "<matplotlib.figure.Figure at 0x157062d95f8>"
      ]
     },
     "metadata": {},
     "output_type": "display_data"
    }
   ],
   "source": [
    "df['HotelId'].hist(bins=100)"
   ]
  },
  {
   "cell_type": "code",
   "execution_count": 24,
   "metadata": {},
   "outputs": [
    {
     "data": {
      "text/plain": [
       "DougDilvo               5\n",
       "happymcmartin           5\n",
       "A TripAdvisor Member    5\n",
       "2Midwest                5\n",
       "mtgops                  4\n",
       "tacomarick              4\n",
       "gnarfle23               4\n",
       "boomer1960              3\n",
       "suziq2Texas             3\n",
       "inspiration100          3\n",
       "FlyguyAustin            3\n",
       "crimson999              3\n",
       "giggle18                3\n",
       "wrldtvler               3\n",
       "LUVtheNW                3\n",
       "msmegmog                3\n",
       "akandal                 3\n",
       "Nancy S                 3\n",
       "tumblingweed            3\n",
       "pnutsdad                3\n",
       "Name: Author, dtype: int64"
      ]
     },
     "execution_count": 24,
     "metadata": {},
     "output_type": "execute_result"
    }
   ],
   "source": [
    "    df['Author'].value_counts()[:20]"
   ]
  },
  {
   "cell_type": "code",
   "execution_count": 25,
   "metadata": {},
   "outputs": [
    {
     "data": {
      "text/plain": [
       "                             471\n",
       "Vancouver, Canada            237\n",
       "Seattle, Washington          143\n",
       "Vancouver                    131\n",
       "Portland, Oregon             114\n",
       "California                   105\n",
       "Seattle                       94\n",
       "London, United Kingdom        94\n",
       "Chicago, Illinois             88\n",
       "New York City, New York       87\n",
       "Los Angeles                   84\n",
       "London                        84\n",
       "Chicago                       76\n",
       "New York                      75\n",
       "Los Angeles, California       73\n",
       "San Francisco, California     68\n",
       "Vancouver, BC                 61\n",
       "Portland, OR                  60\n",
       "New Jersey                    59\n",
       "Toronto, Canada               58\n",
       "Name: AuthorLocation, dtype: int64"
      ]
     },
     "execution_count": 25,
     "metadata": {},
     "output_type": "execute_result"
    }
   ],
   "source": [
    "df['AuthorLocation'].value_counts()[:20]"
   ]
  },
  {
   "cell_type": "code",
   "execution_count": 75,
   "metadata": {},
   "outputs": [
    {
     "data": {
      "text/html": [
       "<div>\n",
       "<style>\n",
       "    .dataframe thead tr:only-child th {\n",
       "        text-align: right;\n",
       "    }\n",
       "\n",
       "    .dataframe thead th {\n",
       "        text-align: left;\n",
       "    }\n",
       "\n",
       "    .dataframe tbody tr th {\n",
       "        vertical-align: top;\n",
       "    }\n",
       "</style>\n",
       "<table border=\"1\" class=\"dataframe\">\n",
       "  <thead>\n",
       "    <tr style=\"text-align: right;\">\n",
       "      <th></th>\n",
       "      <th>Service</th>\n",
       "      <th>Cleanliness</th>\n",
       "      <th>Location</th>\n",
       "      <th>Rooms</th>\n",
       "      <th>Value</th>\n",
       "      <th>Overall</th>\n",
       "    </tr>\n",
       "    <tr>\n",
       "      <th>Locality</th>\n",
       "      <th></th>\n",
       "      <th></th>\n",
       "      <th></th>\n",
       "      <th></th>\n",
       "      <th></th>\n",
       "      <th></th>\n",
       "    </tr>\n",
       "  </thead>\n",
       "  <tbody>\n",
       "    <tr>\n",
       "      <th></th>\n",
       "      <td>4.510638</td>\n",
       "      <td>4.617021</td>\n",
       "      <td>4.489362</td>\n",
       "      <td>4.212766</td>\n",
       "      <td>4.425532</td>\n",
       "      <td>4.468085</td>\n",
       "    </tr>\n",
       "    <tr>\n",
       "      <th>Amsterdam</th>\n",
       "      <td>4.461538</td>\n",
       "      <td>4.923077</td>\n",
       "      <td>5.000000</td>\n",
       "      <td>4.923077</td>\n",
       "      <td>4.538462</td>\n",
       "      <td>4.846154</td>\n",
       "    </tr>\n",
       "    <tr>\n",
       "      <th>Baltimore</th>\n",
       "      <td>3.859813</td>\n",
       "      <td>4.392523</td>\n",
       "      <td>4.523364</td>\n",
       "      <td>4.028037</td>\n",
       "      <td>3.813084</td>\n",
       "      <td>3.878505</td>\n",
       "    </tr>\n",
       "    <tr>\n",
       "      <th>Barcelona</th>\n",
       "      <td>3.795455</td>\n",
       "      <td>4.318182</td>\n",
       "      <td>4.886364</td>\n",
       "      <td>3.500000</td>\n",
       "      <td>3.386364</td>\n",
       "      <td>3.681818</td>\n",
       "    </tr>\n",
       "    <tr>\n",
       "      <th>Berlin</th>\n",
       "      <td>4.075949</td>\n",
       "      <td>4.417722</td>\n",
       "      <td>3.518987</td>\n",
       "      <td>4.050633</td>\n",
       "      <td>4.265823</td>\n",
       "      <td>4.025316</td>\n",
       "    </tr>\n",
       "    <tr>\n",
       "      <th>Cidra</th>\n",
       "      <td>3.500000</td>\n",
       "      <td>3.833333</td>\n",
       "      <td>3.333333</td>\n",
       "      <td>3.500000</td>\n",
       "      <td>3.000000</td>\n",
       "      <td>2.666667</td>\n",
       "    </tr>\n",
       "    <tr>\n",
       "      <th>Dubai</th>\n",
       "      <td>3.500000</td>\n",
       "      <td>3.285714</td>\n",
       "      <td>3.714286</td>\n",
       "      <td>2.928571</td>\n",
       "      <td>3.642857</td>\n",
       "      <td>3.071429</td>\n",
       "    </tr>\n",
       "    <tr>\n",
       "      <th>Indianapolis</th>\n",
       "      <td>4.577778</td>\n",
       "      <td>4.688889</td>\n",
       "      <td>4.555556</td>\n",
       "      <td>4.533333</td>\n",
       "      <td>4.422222</td>\n",
       "      <td>4.444444</td>\n",
       "    </tr>\n",
       "    <tr>\n",
       "      <th>Istanbul</th>\n",
       "      <td>4.534591</td>\n",
       "      <td>4.660377</td>\n",
       "      <td>4.716981</td>\n",
       "      <td>4.358491</td>\n",
       "      <td>4.232704</td>\n",
       "      <td>4.465409</td>\n",
       "    </tr>\n",
       "    <tr>\n",
       "      <th>Kissimmee</th>\n",
       "      <td>4.386139</td>\n",
       "      <td>4.049505</td>\n",
       "      <td>4.227723</td>\n",
       "      <td>4.009901</td>\n",
       "      <td>4.564356</td>\n",
       "      <td>4.168317</td>\n",
       "    </tr>\n",
       "    <tr>\n",
       "      <th>Lahaina</th>\n",
       "      <td>4.302353</td>\n",
       "      <td>4.265294</td>\n",
       "      <td>4.594706</td>\n",
       "      <td>3.908824</td>\n",
       "      <td>4.065294</td>\n",
       "      <td>4.192941</td>\n",
       "    </tr>\n",
       "    <tr>\n",
       "      <th>London</th>\n",
       "      <td>2.777778</td>\n",
       "      <td>3.111111</td>\n",
       "      <td>3.666667</td>\n",
       "      <td>2.333333</td>\n",
       "      <td>2.888889</td>\n",
       "      <td>2.555556</td>\n",
       "    </tr>\n",
       "    <tr>\n",
       "      <th>Madrid</th>\n",
       "      <td>4.111111</td>\n",
       "      <td>4.333333</td>\n",
       "      <td>3.333333</td>\n",
       "      <td>3.944444</td>\n",
       "      <td>4.000000</td>\n",
       "      <td>3.555556</td>\n",
       "    </tr>\n",
       "    <tr>\n",
       "      <th>Montreal</th>\n",
       "      <td>4.532468</td>\n",
       "      <td>4.746753</td>\n",
       "      <td>4.727273</td>\n",
       "      <td>4.675325</td>\n",
       "      <td>4.227273</td>\n",
       "      <td>4.551948</td>\n",
       "    </tr>\n",
       "    <tr>\n",
       "      <th>New York City</th>\n",
       "      <td>4.209677</td>\n",
       "      <td>4.516129</td>\n",
       "      <td>4.564516</td>\n",
       "      <td>3.403226</td>\n",
       "      <td>4.016129</td>\n",
       "      <td>3.967742</td>\n",
       "    </tr>\n",
       "    <tr>\n",
       "      <th>Playa del Carmen</th>\n",
       "      <td>4.774848</td>\n",
       "      <td>4.836105</td>\n",
       "      <td>4.769168</td>\n",
       "      <td>4.736308</td>\n",
       "      <td>4.494929</td>\n",
       "      <td>4.697363</td>\n",
       "    </tr>\n",
       "    <tr>\n",
       "      <th>Rome</th>\n",
       "      <td>3.813793</td>\n",
       "      <td>4.096552</td>\n",
       "      <td>4.220690</td>\n",
       "      <td>3.703448</td>\n",
       "      <td>3.689655</td>\n",
       "      <td>3.800000</td>\n",
       "    </tr>\n",
       "    <tr>\n",
       "      <th>San Diego</th>\n",
       "      <td>3.938235</td>\n",
       "      <td>4.611765</td>\n",
       "      <td>4.370588</td>\n",
       "      <td>4.226471</td>\n",
       "      <td>3.552941</td>\n",
       "      <td>4.055882</td>\n",
       "    </tr>\n",
       "    <tr>\n",
       "      <th>Seattle</th>\n",
       "      <td>4.081089</td>\n",
       "      <td>4.217861</td>\n",
       "      <td>4.496729</td>\n",
       "      <td>3.877986</td>\n",
       "      <td>3.830671</td>\n",
       "      <td>3.917237</td>\n",
       "    </tr>\n",
       "    <tr>\n",
       "      <th>Singapore</th>\n",
       "      <td>3.263158</td>\n",
       "      <td>3.631579</td>\n",
       "      <td>3.000000</td>\n",
       "      <td>3.210526</td>\n",
       "      <td>3.578947</td>\n",
       "      <td>3.210526</td>\n",
       "    </tr>\n",
       "  </tbody>\n",
       "</table>\n",
       "</div>"
      ],
      "text/plain": [
       "                   Service  Cleanliness  Location     Rooms     Value  \\\n",
       "Locality                                                                \n",
       "                  4.510638     4.617021  4.489362  4.212766  4.425532   \n",
       "Amsterdam         4.461538     4.923077  5.000000  4.923077  4.538462   \n",
       "Baltimore         3.859813     4.392523  4.523364  4.028037  3.813084   \n",
       "Barcelona         3.795455     4.318182  4.886364  3.500000  3.386364   \n",
       "Berlin            4.075949     4.417722  3.518987  4.050633  4.265823   \n",
       "Cidra             3.500000     3.833333  3.333333  3.500000  3.000000   \n",
       "Dubai             3.500000     3.285714  3.714286  2.928571  3.642857   \n",
       "Indianapolis      4.577778     4.688889  4.555556  4.533333  4.422222   \n",
       "Istanbul          4.534591     4.660377  4.716981  4.358491  4.232704   \n",
       "Kissimmee         4.386139     4.049505  4.227723  4.009901  4.564356   \n",
       "Lahaina           4.302353     4.265294  4.594706  3.908824  4.065294   \n",
       "London            2.777778     3.111111  3.666667  2.333333  2.888889   \n",
       "Madrid            4.111111     4.333333  3.333333  3.944444  4.000000   \n",
       "Montreal          4.532468     4.746753  4.727273  4.675325  4.227273   \n",
       "New York City     4.209677     4.516129  4.564516  3.403226  4.016129   \n",
       "Playa del Carmen  4.774848     4.836105  4.769168  4.736308  4.494929   \n",
       "Rome              3.813793     4.096552  4.220690  3.703448  3.689655   \n",
       "San Diego         3.938235     4.611765  4.370588  4.226471  3.552941   \n",
       "Seattle           4.081089     4.217861  4.496729  3.877986  3.830671   \n",
       "Singapore         3.263158     3.631579  3.000000  3.210526  3.578947   \n",
       "\n",
       "                   Overall  \n",
       "Locality                    \n",
       "                  4.468085  \n",
       "Amsterdam         4.846154  \n",
       "Baltimore         3.878505  \n",
       "Barcelona         3.681818  \n",
       "Berlin            4.025316  \n",
       "Cidra             2.666667  \n",
       "Dubai             3.071429  \n",
       "Indianapolis      4.444444  \n",
       "Istanbul          4.465409  \n",
       "Kissimmee         4.168317  \n",
       "Lahaina           4.192941  \n",
       "London            2.555556  \n",
       "Madrid            3.555556  \n",
       "Montreal          4.551948  \n",
       "New York City     3.967742  \n",
       "Playa del Carmen  4.697363  \n",
       "Rome              3.800000  \n",
       "San Diego         4.055882  \n",
       "Seattle           3.917237  \n",
       "Singapore         3.210526  "
      ]
     },
     "execution_count": 75,
     "metadata": {},
     "output_type": "execute_result"
    }
   ],
   "source": [
    "df[['Overall', 'Cleanliness', 'Location', 'Rooms', 'Service', 'Value']] = df[['Overall', 'Cleanliness', 'Location', 'Rooms', 'Service', 'Value']].apply(pd.to_numeric)\n",
    "df.groupby('Locality')['Service', 'Cleanliness', 'Location', 'Rooms', 'Value', 'Overall'].agg(np.mean)"
   ]
  },
  {
   "cell_type": "code",
   "execution_count": 4,
   "metadata": {},
   "outputs": [
    {
     "ename": "NameError",
     "evalue": "name 'plt' is not defined",
     "output_type": "error",
     "traceback": [
      "\u001b[1;31m---------------------------------------------------------------------------\u001b[0m",
      "\u001b[1;31mNameError\u001b[0m                                 Traceback (most recent call last)",
      "\u001b[1;32m<ipython-input-4-9076aa05eaf5>\u001b[0m in \u001b[0;36m<module>\u001b[1;34m()\u001b[0m\n\u001b[1;32m----> 1\u001b[1;33m \u001b[0mplt\u001b[0m\u001b[1;33m.\u001b[0m\u001b[0mscatter\u001b[0m\u001b[1;33m(\u001b[0m\u001b[0mdf\u001b[0m\u001b[1;33m[\u001b[0m\u001b[1;34m'Location'\u001b[0m\u001b[1;33m]\u001b[0m\u001b[1;33m,\u001b[0m \u001b[0mdf\u001b[0m\u001b[1;33m[\u001b[0m\u001b[1;34m'Overall'\u001b[0m\u001b[1;33m]\u001b[0m\u001b[1;33m)\u001b[0m\u001b[1;33m\u001b[0m\u001b[0m\n\u001b[0m\u001b[0;32m      2\u001b[0m \u001b[0mplt\u001b[0m\u001b[1;33m.\u001b[0m\u001b[0mshow\u001b[0m\u001b[1;33m(\u001b[0m\u001b[1;33m)\u001b[0m\u001b[1;33m\u001b[0m\u001b[0m\n",
      "\u001b[1;31mNameError\u001b[0m: name 'plt' is not defined"
     ]
    }
   ],
   "source": [
    "plt.scatter(df['Location'], df['Overall'])\n",
    "plt.show()"
   ]
  },
  {
   "cell_type": "code",
   "execution_count": null,
   "metadata": {
    "collapsed": true
   },
   "outputs": [],
   "source": []
  }
 ],
 "metadata": {
  "kernelspec": {
   "display_name": "Python 3",
   "language": "python",
   "name": "python3"
  },
  "language_info": {
   "codemirror_mode": {
    "name": "ipython",
    "version": 3
   },
   "file_extension": ".py",
   "mimetype": "text/x-python",
   "name": "python",
   "nbconvert_exporter": "python",
   "pygments_lexer": "ipython3",
   "version": "3.6.3"
  }
 },
 "nbformat": 4,
 "nbformat_minor": 2
}
