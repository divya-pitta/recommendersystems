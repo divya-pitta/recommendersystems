{
 "cells": [
  {
   "cell_type": "code",
   "execution_count": 77,
   "metadata": {},
   "outputs": [],
   "source": [
    "import gzip\n",
    "import numpy as np\n",
    "from collections import defaultdict\n",
    "from sklearn.metrics import mean_squared_error"
   ]
  },
  {
   "cell_type": "code",
   "execution_count": 78,
   "metadata": {},
   "outputs": [],
   "source": [
    "def readGz(f):\n",
    "    for l in gzip.open(f):\n",
    "        yield eval(l)"
   ]
  },
  {
   "cell_type": "code",
   "execution_count": 79,
   "metadata": {},
   "outputs": [
    {
     "name": "stdout",
     "output_type": "stream",
     "text": [
      "{'rating': 5.0, 'businessID': 'B408037852', 'reviewText': \"This is where i go to shop for gifts from my mom. She loves this stuff. Cna't get enough. I like that you can customize the items. Store is well alid out and shoppable.\", 'userID': 'U093387342', 'reviewTime': 'Mar 24, 2013', 'categories': [\"Women's Clothing Store\", 'Fashion Accessories Store', 'Shoe Store'], 'reviewHash': 'R471510664', 'unixReviewTime': 1364143460}\n",
      "{'rating': 5.0, 'businessID': 'B538084128', 'reviewText': 'Katrina- those five stars mean a lot to us:) Thank you for the high marks!', 'userID': 'U028657359', 'reviewTime': 'Apr 11, 2013', 'categories': ['Auto Repair Shop', 'Auto Parts Store', 'Brake Shop'], 'reviewHash': 'R436006326', 'unixReviewTime': 1365710096}\n"
     ]
    }
   ],
   "source": [
    "from random import shuffle\n",
    "data = []\n",
    "for l in readGz(\"train.json.gz\"):\n",
    "    data.append(l)\n",
    "\n",
    "print(data[0])\n",
    "shuffle(data)\n",
    "print(data[0])\n",
    "\n",
    "trainData, validData = np.array_split(data, 2)"
   ]
  },
  {
   "cell_type": "code",
   "execution_count": 69,
   "metadata": {},
   "outputs": [],
   "source": [
    "allRatings = []\n",
    "userRatings = defaultdict(dict)\n",
    "busRatings = defaultdict(dict)\n",
    "globalAvg = 0.0\n",
    "\n",
    "for d in trainData:\n",
    "    user, bus, rating = d['userID'], d['businessID'], d['rating']\n",
    "    allRatings.append(rating)\n",
    "    globalAvg += rating\n",
    "    userRatings[user][bus] = rating\n",
    "    busRatings[bus][user] = rating\n",
    "\n",
    "numUsers = len(userRatings) #storing the number of unique users in training set\n",
    "numBus = len(busRatings) #storing the number of unique users in training set\n",
    "\n",
    "globalAvg = globalAvg/len(allRatings)\n",
    "\n",
    "vallRatings = []\n",
    "vuserRatings = defaultdict(dict)\n",
    "vbusRatings = defaultdict(dict)\n",
    "\n",
    "for d in validData:\n",
    "    user, bus, rating = d['userID'], d['businessID'], d['rating']\n",
    "    vallRatings.append(rating)\n",
    "    vuserRatings[user][bus] = rating\n",
    "    vbusRatings[bus][user] = rating"
   ]
  },
  {
   "cell_type": "code",
   "execution_count": 70,
   "metadata": {},
   "outputs": [],
   "source": [
    "alpha = 0;\n",
    "betaU = defaultdict(int)\n",
    "betaI = defaultdict(int)\n",
    "lowDimSize = 10\n",
    "gammaU = defaultdict(lambda: [0 for x in range(lowDimSize)])\n",
    "gammaI = defaultdict(lambda: [0 for x in range(lowDimSize)])\n",
    "learningRate = 0.1\n",
    "lamda = 10\n",
    "\n",
    "def resetVars(lSize):\n",
    "    global alpha, betaU, betaI, gammaU, gammaI, lowDimSize, globalAvg\n",
    "    lowDimSize = lSize\n",
    "    alpha = globalAvg;\n",
    "    betaU = defaultdict(int)\n",
    "    betaI = defaultdict(int)\n",
    "    gammaU = defaultdict(lambda: [0 for x in range(lowDimSize)])\n",
    "    gammaI = defaultdict(lambda: [0 for x in range(lowDimSize)])\n",
    "    for user in userRatings:\n",
    "        gammaU[user] = np.random.normal(0, size=lowDimSize)\n",
    "    for bus in busRatings:\n",
    "        gammaI[bus] = np.random.normal(0, size=lowDimSize)\n",
    "\n",
    "resetVars(10)"
   ]
  },
  {
   "cell_type": "code",
   "execution_count": 75,
   "metadata": {},
   "outputs": [],
   "source": [
    "predRatings = []\n",
    "\n",
    "def predictValid():\n",
    "    global predRatings\n",
    "    global alpha, betaU, betaI, gammaU, gammaI, lowDimSize\n",
    "    predRatings = []\n",
    "    for d in validData:\n",
    "        user, business = d['userID'], d['businessID']\n",
    "        prediction = alpha + betaU[user] + betaI[business] + np.matmul(gammaU[user],np.transpose(gammaI[bus]))\n",
    "        predRatings.append(prediction)\n",
    "    MSE_alpha = mean_squared_error(vallRatings, predRatings)\n",
    "    return MSE_alpha\n",
    "\n",
    "def trainLatentFactor():\n",
    "    global alpha, betaU, betaI, gammaU, gammaI, predRatings, learningRate, lamda\n",
    "    for d in trainData:\n",
    "        user, business, rating = d['userID'], d['businessID'], d['rating']\n",
    "        prediction = alpha + betaU[user] + betaI[business] + np.matmul(gammaU[user], np.transpose(gammaI[business]))\n",
    "        error = rating - prediction\n",
    "        alpha += learningRate*(error - lamda*alpha)\n",
    "        #print(alpha)\n",
    "        betaU[user] += learningRate*(error - lamda*betaU[user])\n",
    "        betaI[business] += learningRate*(error - lamda*betaI[business])\n",
    "        #print(\"before\")\n",
    "        #print(betaU[user])\n",
    "        gammaU[user][:] += learningRate*((error*gammaI[business][:]) - (lamda*gammaU[user][:]))\n",
    "        #print(gammaU[user])\n",
    "        gammaI[business][:] += learningRate*((error*gammaU[user][:]) - (lamda*gammaI[business][:]))\n",
    "        #print(gammaI[business])\n",
    "        #break\n",
    "        \n",
    "def train(i, lR, lamdat):\n",
    "    global learningRate, lamda\n",
    "    learningRate = lR\n",
    "    lamda = lamdat\n",
    "    for x in range(i):\n",
    "        trainLatentFactor()\n",
    "    print(predictValid())"
   ]
  },
  {
   "cell_type": "code",
   "execution_count": 76,
   "metadata": {},
   "outputs": [
    {
     "name": "stdout",
     "output_type": "stream",
     "text": [
      "11.4155364045\n",
      "0.315307418791\n"
     ]
    }
   ],
   "source": [
    "resetVars(10)\n",
    "train(10, 0.01, 10)\n",
    "print(alpha)"
   ]
  },
  {
   "cell_type": "code",
   "execution_count": null,
   "metadata": {},
   "outputs": [],
   "source": []
  }
 ],
 "metadata": {
  "kernelspec": {
   "display_name": "Python 3",
   "language": "python",
   "name": "python3"
  },
  "language_info": {
   "codemirror_mode": {
    "name": "ipython",
    "version": 3
   },
   "file_extension": ".py",
   "mimetype": "text/x-python",
   "name": "python",
   "nbconvert_exporter": "python",
   "pygments_lexer": "ipython3",
   "version": "3.6.3"
  }
 },
 "nbformat": 4,
 "nbformat_minor": 2
}
