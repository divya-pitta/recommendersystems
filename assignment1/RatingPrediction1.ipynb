{
 "cells": [
  {
   "cell_type": "code",
   "execution_count": 22,
   "metadata": {},
   "outputs": [],
   "source": [
    "import gzip\n",
    "import numpy as np\n",
    "from collections import defaultdict\n",
    "from sklearn.metrics import mean_squared_error"
   ]
  },
  {
   "cell_type": "code",
   "execution_count": 23,
   "metadata": {},
   "outputs": [],
   "source": [
    "def readGz(f):\n",
    "    for l in gzip.open(f):\n",
    "        yield eval(l)"
   ]
  },
  {
   "cell_type": "code",
   "execution_count": 28,
   "metadata": {},
   "outputs": [
    {
     "name": "stdout",
     "output_type": "stream",
     "text": [
      "{'rating': 5.0, 'businessID': 'B408037852', 'reviewText': \"This is where i go to shop for gifts from my mom. She loves this stuff. Cna't get enough. I like that you can customize the items. Store is well alid out and shoppable.\", 'userID': 'U093387342', 'reviewTime': 'Mar 24, 2013', 'categories': [\"Women's Clothing Store\", 'Fashion Accessories Store', 'Shoe Store'], 'reviewHash': 'R471510664', 'unixReviewTime': 1364143460}\n",
      "{'rating': 3.0, 'businessID': 'B204140568', 'reviewText': \"Eh, I understand that there aren't many locations in the city to have shows/conventions, but I've never had the best experiences here. Their food options are subpar and for the events I've gone to, I wouldn't be able to leave and come back. The space is decent though and it's accessible enough so ultimately the venue won't stop me from going to good events there.\", 'userID': 'U491822196', 'reviewTime': 'Aug 11, 2013', 'categories': ['Convention Center', 'Auditorium'], 'reviewHash': 'R903330281', 'unixReviewTime': 1376258552}\n"
     ]
    }
   ],
   "source": [
    "from random import shuffle\n",
    "data = []\n",
    "for l in readGz(\"train.json.gz\"):\n",
    "    data.append(l)\n",
    "\n",
    "print(data[0])\n",
    "shuffle(data)\n",
    "print(data[0])\n",
    "\n",
    "#trainData, validData = np.array_split(data, 2)\n",
    "trainData, validData = data, data[150000:]"
   ]
  },
  {
   "cell_type": "code",
   "execution_count": 29,
   "metadata": {},
   "outputs": [
    {
     "name": "stdout",
     "output_type": "stream",
     "text": [
      "18793\n",
      "18793\n",
      "21321\n",
      "21321\n",
      "3.0\n"
     ]
    }
   ],
   "source": [
    "allRatings = []\n",
    "userRatings = defaultdict(dict)\n",
    "busRatings = defaultdict(dict)\n",
    "#avgBusRatings = defaultdict(int)\n",
    "globalAvg = 0.0\n",
    "userIndex = defaultdict(int)\n",
    "busIndex = defaultdict(int)\n",
    "\n",
    "uCount = 0\n",
    "bCount = 0\n",
    "\n",
    "for d in trainData:\n",
    "    user, bus, rating = d['userID'], d['businessID'], d['rating']\n",
    "    allRatings.append(rating)\n",
    "    globalAvg += rating\n",
    "    userRatings[user][bus] = rating\n",
    "    busRatings[bus][user] = rating\n",
    "    if user not in userIndex:\n",
    "        userIndex[user] = uCount\n",
    "        uCount += 1\n",
    "    if bus not in busIndex:\n",
    "        busIndex[bus] = bCount\n",
    "        bCount += 1\n",
    "\n",
    "numUsers = len(userRatings) #storing the number of unique users in training set\n",
    "numBus = len(busRatings) #storing the number of unique users in training set\n",
    "\n",
    "print(len(userIndex))\n",
    "print(numUsers)\n",
    "print(len(busIndex))\n",
    "print(numBus)\n",
    "\n",
    "lenTData = len(allRatings)\n",
    "\n",
    "globalAvg = globalAvg/lenTData\n",
    "\n",
    "vallRatings = []\n",
    "vuserRatings = defaultdict(dict)\n",
    "vbusRatings = defaultdict(dict)\n",
    "\n",
    "for d in validData:\n",
    "    user, bus, rating = d['userID'], d['businessID'], d['rating']\n",
    "    vallRatings.append(rating)\n",
    "    vuserRatings[user][bus] = rating\n",
    "    vbusRatings[bus][user] = rating\n",
    "    \n",
    "print(vallRatings[0])"
   ]
  },
  {
   "cell_type": "code",
   "execution_count": 30,
   "metadata": {},
   "outputs": [],
   "source": [
    "alpha = 0;\n",
    "betaU = defaultdict(int)\n",
    "betaI = defaultdict(int)\n",
    "lowDimSize = 10\n",
    "gammaU = defaultdict(lambda: [1.0/lowDimSize for x in range(lowDimSize)])\n",
    "gammaI = defaultdict(lambda: [1.0/lowDimSize for x in range(lowDimSize)])\n",
    "lamda = 10\n",
    "\n",
    "def resetVars(lSize, lamdanew):\n",
    "    global alpha, betaU, betaI, gammaU, gammaI, lowDimSize, globalAvg, lamda\n",
    "    lowDimSize = lSize\n",
    "    alpha = 0.0\n",
    "    lamda = lamdanew\n",
    "    betaU = defaultdict(int)\n",
    "    betaI = defaultdict(int)\n",
    "    gammaU = defaultdict(lambda: np.array([1.0/lowDimSize for x in range(lowDimSize)]))\n",
    "    gammaI = defaultdict(lambda: np.array([1.0/lowDimSize for x in range(lowDimSize)]))"
   ]
  },
  {
   "cell_type": "code",
   "execution_count": 31,
   "metadata": {},
   "outputs": [
    {
     "name": "stdout",
     "output_type": "stream",
     "text": [
      "U491822196\n"
     ]
    }
   ],
   "source": [
    "predRatings = []\n",
    "trainRatingTuples = [[d['userID'], d['businessID'], d['rating']] for d in trainData]\n",
    "print(trainRatingTuples[0][0])\n",
    "\n",
    "def predictValid():\n",
    "    global predRatings\n",
    "    global alpha, betaU, betaI, gammaU, gammaI, lowDimSize\n",
    "    predRatings = []\n",
    "    for d in validData:\n",
    "        user, business = d['userID'], d['businessID']\n",
    "        prediction = alpha + betaU[user] + betaI[business] + np.matmul(gammaU[user],np.transpose(gammaI[bus]))\n",
    "        predRatings.append(prediction[0])\n",
    "    #print(len(vallRatings))\n",
    "    #print(len(predRatings))\n",
    "    #print(predRatings[0])\n",
    "    MSE_alpha = mean_squared_error(vallRatings, predRatings)\n",
    "    return MSE_alpha\n",
    "\n",
    "def trainLatentFactor(updateGammaU):\n",
    "    global alpha, betaU, betaI, gammaU, gammaI, predRatings, lowDimSize, lamda\n",
    "    \n",
    "    #updating alpha\n",
    "    \n",
    "    newAlpha = 0.0\n",
    "    for d in range(lenTData):\n",
    "        user, business, rating = trainRatingTuples[d][0], trainRatingTuples[d][1], trainRatingTuples[d][2]\n",
    "        gammaProd = np.matmul(gammaU[user], np.transpose(gammaI[business]))\n",
    "        newAlpha += (userRatings[user][business] - betaU[user] - betaU[business] - gammaProd)\n",
    "    newAlpha /= lenTData\n",
    "    alpha = newAlpha\n",
    "    \n",
    "    #updating betaU\n",
    "    for u in userRatings:\n",
    "        tempBeta = 0.0\n",
    "        busCount = 0\n",
    "        for b in userRatings[u]:\n",
    "            gammaProd = np.matmul(gammaU[u], np.transpose(gammaI[b]))\n",
    "            tempBeta += (userRatings[u][b] - alpha - betaI[b] - gammaProd)\n",
    "            busCount += 1\n",
    "        tempBeta /= (lamda + busCount)\n",
    "        betaU[u] = tempBeta\n",
    "        \n",
    "    #updating betaI\n",
    "    for b in busRatings:\n",
    "        tempBeta = 0.0\n",
    "        uCount = 0\n",
    "        for u in busRatings[b]:\n",
    "            gammaProd = np.matmul(gammaU[u], np.transpose(gammaI[b]))\n",
    "            tempBeta += (userRatings[u][b] - alpha - betaU[u] - gammaProd)\n",
    "            uCount += 1\n",
    "        tempBeta /= (lamda + uCount)\n",
    "        betaI[b] = tempBeta\n",
    "        \n",
    "    if(updateGammaU):\n",
    "        for u in userRatings:\n",
    "            newGamma = np.zeros(shape=(1,lowDimSize))\n",
    "            gammaProd = 0.0\n",
    "            for b in userRatings[u]:\n",
    "                temp = (userRatings[u][b] - alpha - betaU[u] - betaI[b])\n",
    "                temp = temp*gammaI[b]\n",
    "                newGamma = newGamma + temp\n",
    "                gammaProd += np.matmul(gammaI[b], np.transpose(gammaI[b]))\n",
    "            newGamma = newGamma/ (gammaProd + lamda)\n",
    "            gammaU[u] = newGamma\n",
    "    else:\n",
    "        for b in busRatings:\n",
    "            newGamma = np.zeros(shape=(1, lowDimSize))\n",
    "            gammaProd = 0.0\n",
    "            for u in busRatings[b]:\n",
    "                newGamma = newGamma + (userRatings[u][b] - alpha - betaU[u] - betaI[b])*gammaU[u]\n",
    "                gammaProd += np.matmul(gammaU[u], np.transpose(gammaU[u]))\n",
    "            newGamma = newGamma / (gammaProd + lamda)\n",
    "            gammaI[b] = newGamma\n",
    "        \n",
    "def train(i, k, lamdat):\n",
    "    global lowDimSize, lamda\n",
    "    lowDimSize = k\n",
    "    lamda = lamdat\n",
    "    for x in range(i):\n",
    "        print(\"Iteration: \"+str(x))\n",
    "        if(x%2==0):\n",
    "            trainLatentFactor(True)\n",
    "        else:\n",
    "            trainLatentFactor(False)\n",
    "    print(lamdat)\n",
    "    print(predictValid())"
   ]
  },
  {
   "cell_type": "code",
   "execution_count": 14,
   "metadata": {},
   "outputs": [
    {
     "name": "stdout",
     "output_type": "stream",
     "text": [
      "Lamda value: 6.0\n",
      "6.0\n",
      "0.597915970513\n",
      "Alpha value: [[ 4.26334049]]\n",
      "Lamda value: 6.1\n",
      "6.1\n",
      "0.597858713097\n",
      "Alpha value: [[ 4.26311958]]\n",
      "Lamda value: 6.199999999999999\n",
      "6.199999999999999\n",
      "0.597812136062\n",
      "Alpha value: [[ 4.2628999]]\n",
      "Lamda value: 6.299999999999999\n",
      "6.299999999999999\n",
      "0.597775603151\n",
      "Alpha value: [[ 4.26268129]]\n",
      "Lamda value: 6.399999999999999\n",
      "6.399999999999999\n",
      "0.597748554625\n",
      "Alpha value: [[ 4.26246365]]\n",
      "Lamda value: 6.499999999999998\n",
      "6.499999999999998\n",
      "0.597730497446\n",
      "Alpha value: [[ 4.26224686]]\n",
      "Lamda value: 6.599999999999998\n",
      "6.599999999999998\n",
      "0.597720995991\n",
      "Alpha value: [[ 4.26203085]]\n",
      "Lamda value: 6.6999999999999975\n",
      "6.6999999999999975\n",
      "0.597719663417\n",
      "Alpha value: [[ 4.26181556]]\n",
      "Lamda value: 6.799999999999997\n",
      "6.799999999999997\n",
      "0.597726153734\n",
      "Alpha value: [[ 4.26160094]]\n",
      "Lamda value: 6.899999999999997\n",
      "6.899999999999997\n",
      "0.597740154709\n",
      "Alpha value: [[ 4.26138697]]\n",
      "Lamda value: 6.9999999999999964\n",
      "6.9999999999999964\n",
      "0.597761381652\n",
      "Alpha value: [[ 4.2611736]]\n",
      "Lamda value: 7.099999999999996\n"
     ]
    },
    {
     "ename": "KeyboardInterrupt",
     "evalue": "",
     "output_type": "error",
     "traceback": [
      "\u001b[0;31m---------------------------------------------------------------------------\u001b[0m",
      "\u001b[0;31mKeyboardInterrupt\u001b[0m                         Traceback (most recent call last)",
      "\u001b[0;32m<ipython-input-14-96a44e936de2>\u001b[0m in \u001b[0;36m<module>\u001b[0;34m()\u001b[0m\n\u001b[1;32m      4\u001b[0m     \u001b[0mresetVars\u001b[0m\u001b[0;34m(\u001b[0m\u001b[0mdimSize\u001b[0m\u001b[0;34m,\u001b[0m \u001b[0mlams\u001b[0m\u001b[0;34m)\u001b[0m\u001b[0;34m\u001b[0m\u001b[0m\n\u001b[1;32m      5\u001b[0m     \u001b[0mprint\u001b[0m\u001b[0;34m(\u001b[0m\u001b[0;34m\"Lamda value: \"\u001b[0m\u001b[0;34m+\u001b[0m\u001b[0mstr\u001b[0m\u001b[0;34m(\u001b[0m\u001b[0mlams\u001b[0m\u001b[0;34m)\u001b[0m\u001b[0;34m)\u001b[0m\u001b[0;34m\u001b[0m\u001b[0m\n\u001b[0;32m----> 6\u001b[0;31m     \u001b[0mtrain\u001b[0m\u001b[0;34m(\u001b[0m\u001b[0;36m10\u001b[0m\u001b[0;34m,\u001b[0m \u001b[0mdimSize\u001b[0m\u001b[0;34m,\u001b[0m \u001b[0mlams\u001b[0m\u001b[0;34m)\u001b[0m\u001b[0;34m\u001b[0m\u001b[0m\n\u001b[0m\u001b[1;32m      7\u001b[0m     \u001b[0mlams\u001b[0m \u001b[0;34m+=\u001b[0m \u001b[0;36m0.1\u001b[0m\u001b[0;34m\u001b[0m\u001b[0m\n\u001b[1;32m      8\u001b[0m     \u001b[0mprint\u001b[0m\u001b[0;34m(\u001b[0m\u001b[0;34m\"Alpha value: \"\u001b[0m \u001b[0;34m+\u001b[0m\u001b[0mstr\u001b[0m\u001b[0;34m(\u001b[0m\u001b[0malpha\u001b[0m\u001b[0;34m)\u001b[0m\u001b[0;34m)\u001b[0m\u001b[0;34m\u001b[0m\u001b[0m\n",
      "\u001b[0;32m<ipython-input-12-8500cfe103f6>\u001b[0m in \u001b[0;36mtrain\u001b[0;34m(i, k, lamdat)\u001b[0m\n\u001b[1;32m     79\u001b[0m     \u001b[0;32mfor\u001b[0m \u001b[0mx\u001b[0m \u001b[0;32min\u001b[0m \u001b[0mrange\u001b[0m\u001b[0;34m(\u001b[0m\u001b[0mi\u001b[0m\u001b[0;34m)\u001b[0m\u001b[0;34m:\u001b[0m\u001b[0;34m\u001b[0m\u001b[0m\n\u001b[1;32m     80\u001b[0m         \u001b[0;32mif\u001b[0m\u001b[0;34m(\u001b[0m\u001b[0mx\u001b[0m\u001b[0;34m%\u001b[0m\u001b[0;36m2\u001b[0m\u001b[0;34m==\u001b[0m\u001b[0;36m0\u001b[0m\u001b[0;34m)\u001b[0m\u001b[0;34m:\u001b[0m\u001b[0;34m\u001b[0m\u001b[0m\n\u001b[0;32m---> 81\u001b[0;31m             \u001b[0mtrainLatentFactor\u001b[0m\u001b[0;34m(\u001b[0m\u001b[0;32mTrue\u001b[0m\u001b[0;34m)\u001b[0m\u001b[0;34m\u001b[0m\u001b[0m\n\u001b[0m\u001b[1;32m     82\u001b[0m         \u001b[0;32melse\u001b[0m\u001b[0;34m:\u001b[0m\u001b[0;34m\u001b[0m\u001b[0m\n\u001b[1;32m     83\u001b[0m             \u001b[0mtrainLatentFactor\u001b[0m\u001b[0;34m(\u001b[0m\u001b[0;32mFalse\u001b[0m\u001b[0;34m)\u001b[0m\u001b[0;34m\u001b[0m\u001b[0m\n",
      "\u001b[0;32m<ipython-input-12-8500cfe103f6>\u001b[0m in \u001b[0;36mtrainLatentFactor\u001b[0;34m(updateGammaU)\u001b[0m\n\u001b[1;32m     46\u001b[0m         \u001b[0muCount\u001b[0m \u001b[0;34m=\u001b[0m \u001b[0;36m0\u001b[0m\u001b[0;34m\u001b[0m\u001b[0m\n\u001b[1;32m     47\u001b[0m         \u001b[0;32mfor\u001b[0m \u001b[0mu\u001b[0m \u001b[0;32min\u001b[0m \u001b[0mbusRatings\u001b[0m\u001b[0;34m[\u001b[0m\u001b[0mb\u001b[0m\u001b[0;34m]\u001b[0m\u001b[0;34m:\u001b[0m\u001b[0;34m\u001b[0m\u001b[0m\n\u001b[0;32m---> 48\u001b[0;31m             \u001b[0mgammaProd\u001b[0m \u001b[0;34m=\u001b[0m \u001b[0mnp\u001b[0m\u001b[0;34m.\u001b[0m\u001b[0mmatmul\u001b[0m\u001b[0;34m(\u001b[0m\u001b[0mgammaU\u001b[0m\u001b[0;34m[\u001b[0m\u001b[0mu\u001b[0m\u001b[0;34m]\u001b[0m\u001b[0;34m,\u001b[0m \u001b[0mnp\u001b[0m\u001b[0;34m.\u001b[0m\u001b[0mtranspose\u001b[0m\u001b[0;34m(\u001b[0m\u001b[0mgammaI\u001b[0m\u001b[0;34m[\u001b[0m\u001b[0mb\u001b[0m\u001b[0;34m]\u001b[0m\u001b[0;34m)\u001b[0m\u001b[0;34m)\u001b[0m\u001b[0;34m\u001b[0m\u001b[0m\n\u001b[0m\u001b[1;32m     49\u001b[0m             \u001b[0mtempBeta\u001b[0m \u001b[0;34m+=\u001b[0m \u001b[0;34m(\u001b[0m\u001b[0muserRatings\u001b[0m\u001b[0;34m[\u001b[0m\u001b[0mu\u001b[0m\u001b[0;34m]\u001b[0m\u001b[0;34m[\u001b[0m\u001b[0mb\u001b[0m\u001b[0;34m]\u001b[0m \u001b[0;34m-\u001b[0m \u001b[0malpha\u001b[0m \u001b[0;34m-\u001b[0m \u001b[0mbetaU\u001b[0m\u001b[0;34m[\u001b[0m\u001b[0mu\u001b[0m\u001b[0;34m]\u001b[0m \u001b[0;34m-\u001b[0m \u001b[0mgammaProd\u001b[0m\u001b[0;34m)\u001b[0m\u001b[0;34m\u001b[0m\u001b[0m\n\u001b[1;32m     50\u001b[0m             \u001b[0muCount\u001b[0m \u001b[0;34m+=\u001b[0m \u001b[0;36m1\u001b[0m\u001b[0;34m\u001b[0m\u001b[0m\n",
      "\u001b[0;31mKeyboardInterrupt\u001b[0m: "
     ]
    }
   ],
   "source": [
    "dimSize = 2\n",
    "lams = 6.0\n",
    "for l in range(20):\n",
    "    resetVars(dimSize, lams)\n",
    "    print(\"Lamda value: \"+str(lams))\n",
    "    train(10, dimSize, lams)\n",
    "    lams += 0.1\n",
    "    print(\"Alpha value: \" +str(alpha))"
   ]
  },
  {
   "cell_type": "code",
   "execution_count": 36,
   "metadata": {},
   "outputs": [
    {
     "name": "stdout",
     "output_type": "stream",
     "text": [
      "4.5\n",
      "0.609137951299\n"
     ]
    }
   ],
   "source": [
    "#resetVars(2, 4.5)\n",
    "#train(60, 2, 4.5)"
   ]
  },
  {
   "cell_type": "code",
   "execution_count": 41,
   "metadata": {},
   "outputs": [
    {
     "name": "stdout",
     "output_type": "stream",
     "text": [
      "4.5\n",
      "0.454873279147\n"
     ]
    }
   ],
   "source": [
    "resetVars(1, 4.5)\n",
    "train(100, 1, 4.5)"
   ]
  },
  {
   "cell_type": "code",
   "execution_count": 32,
   "metadata": {},
   "outputs": [
    {
     "name": "stdout",
     "output_type": "stream",
     "text": [
      "Iteration: 0\n",
      "Iteration: 1\n",
      "Iteration: 2\n",
      "Iteration: 3\n",
      "Iteration: 4\n",
      "Iteration: 5\n",
      "Iteration: 6\n",
      "Iteration: 7\n",
      "Iteration: 8\n",
      "Iteration: 9\n",
      "Iteration: 10\n",
      "Iteration: 11\n",
      "Iteration: 12\n",
      "Iteration: 13\n",
      "Iteration: 14\n",
      "Iteration: 15\n",
      "Iteration: 16\n",
      "Iteration: 17\n",
      "Iteration: 18\n",
      "Iteration: 19\n",
      "Iteration: 20\n",
      "Iteration: 21\n",
      "Iteration: 22\n",
      "Iteration: 23\n",
      "Iteration: 24\n",
      "Iteration: 25\n",
      "Iteration: 26\n",
      "Iteration: 27\n",
      "Iteration: 28\n",
      "Iteration: 29\n",
      "Iteration: 30\n",
      "Iteration: 31\n",
      "Iteration: 32\n",
      "Iteration: 33\n",
      "Iteration: 34\n",
      "Iteration: 35\n",
      "Iteration: 36\n",
      "Iteration: 37\n",
      "Iteration: 38\n",
      "Iteration: 39\n",
      "Iteration: 40\n",
      "Iteration: 41\n",
      "Iteration: 42\n",
      "Iteration: 43\n",
      "Iteration: 44\n",
      "Iteration: 45\n",
      "Iteration: 46\n",
      "Iteration: 47\n",
      "Iteration: 48\n",
      "Iteration: 49\n",
      "Iteration: 50\n",
      "Iteration: 51\n",
      "Iteration: 52\n",
      "Iteration: 53\n",
      "Iteration: 54\n",
      "Iteration: 55\n",
      "Iteration: 56\n",
      "Iteration: 57\n",
      "Iteration: 58\n",
      "Iteration: 59\n",
      "Iteration: 60\n",
      "Iteration: 61\n",
      "Iteration: 62\n",
      "Iteration: 63\n",
      "Iteration: 64\n",
      "Iteration: 65\n",
      "Iteration: 66\n",
      "Iteration: 67\n",
      "Iteration: 68\n",
      "Iteration: 69\n",
      "Iteration: 70\n",
      "Iteration: 71\n",
      "Iteration: 72\n",
      "Iteration: 73\n",
      "Iteration: 74\n",
      "Iteration: 75\n",
      "Iteration: 76\n",
      "Iteration: 77\n",
      "Iteration: 78\n",
      "Iteration: 79\n",
      "Iteration: 80\n",
      "Iteration: 81\n",
      "Iteration: 82\n",
      "Iteration: 83\n",
      "Iteration: 84\n",
      "Iteration: 85\n",
      "Iteration: 86\n",
      "Iteration: 87\n",
      "Iteration: 88\n",
      "Iteration: 89\n",
      "Iteration: 90\n",
      "Iteration: 91\n",
      "Iteration: 92\n",
      "Iteration: 93\n",
      "Iteration: 94\n",
      "Iteration: 95\n",
      "Iteration: 96\n",
      "Iteration: 97\n",
      "Iteration: 98\n",
      "Iteration: 99\n",
      "6.7\n",
      "0.466249082719\n"
     ]
    }
   ],
   "source": [
    "resetVars(1, 6.7)\n",
    "train(100, 1, 6.7)"
   ]
  },
  {
   "cell_type": "code",
   "execution_count": 20,
   "metadata": {},
   "outputs": [
    {
     "name": "stdout",
     "output_type": "stream",
     "text": [
      "done\n"
     ]
    }
   ],
   "source": [
    "def ratingPredFile(inputFile, outputFile):\n",
    "    global alpha, betaU, betaI, gammaU, gammaI, lowDimSize\n",
    "    predictions = open(outputFile, 'w')\n",
    "    for l in open(inputFile):\n",
    "        if l.startswith(\"userID\"):\n",
    "            predictions.write(l)\n",
    "            continue\n",
    "        user,business = l.strip().split('-')\n",
    "        prediction = 0.0\n",
    "        prediction = prediction + alpha\n",
    "        if user in betaU and business in betaI:\n",
    "            prediction += (betaU[user] + betaI[business] + np.matmul(gammaU[user], np.transpose(gammaI[business])))\n",
    "            #print(prediction)\n",
    "        elif user in betaU:\n",
    "            prediction += betaU[user]\n",
    "        elif business in betaI:\n",
    "            prediction += betaI[business]\n",
    "        \n",
    "        predictions.write(user + '-' + business + \",\" + str(prediction[0][0])+\"\\n\")\n",
    "\n",
    "ratingPredFile(\"pairs_Rating.txt\",\"predictions_Rating.txt\")\n",
    "print(\"done\")"
   ]
  },
  {
   "cell_type": "code",
   "execution_count": null,
   "metadata": {},
   "outputs": [],
   "source": [
    "predictValid()"
   ]
  },
  {
   "cell_type": "code",
   "execution_count": 26,
   "metadata": {},
   "outputs": [
    {
     "data": {
      "text/plain": [
       "array([[ 0.05303588]])"
      ]
     },
     "execution_count": 26,
     "metadata": {},
     "output_type": "execute_result"
    }
   ],
   "source": [
    "np.matmul(gammaU['U455762636'],np.transpose(gammaI['B408037852']))[0][0] + betaI['B408037852']"
   ]
  },
  {
   "cell_type": "code",
   "execution_count": null,
   "metadata": {},
   "outputs": [],
   "source": []
  }
 ],
 "metadata": {
  "kernelspec": {
   "display_name": "Python 3",
   "language": "python",
   "name": "python3"
  },
  "language_info": {
   "codemirror_mode": {
    "name": "ipython",
    "version": 3
   },
   "file_extension": ".py",
   "mimetype": "text/x-python",
   "name": "python",
   "nbconvert_exporter": "python",
   "pygments_lexer": "ipython3",
   "version": "3.6.3"
  }
 },
 "nbformat": 4,
 "nbformat_minor": 2
}
