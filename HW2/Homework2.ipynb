{
 "cells": [
  {
   "cell_type": "code",
   "execution_count": 3,
   "metadata": {},
   "outputs": [],
   "source": [
    "import numpy\n",
    "from urllib.request import urlopen\n",
    "import scipy.optimize\n",
    "from sklearn.decomposition import PCA\n",
    "import random\n",
    "from math import exp\n",
    "from math import log\n",
    "import matplotlib.pyplot as plt"
   ]
  },
  {
   "cell_type": "code",
   "execution_count": 4,
   "metadata": {},
   "outputs": [],
   "source": [
    "def parseData(fname):\n",
    "  for l in urlopen(fname):\n",
    "    yield eval(l)"
   ]
  },
  {
   "cell_type": "code",
   "execution_count": 5,
   "metadata": {},
   "outputs": [
    {
     "name": "stdout",
     "output_type": "stream",
     "text": [
      "Reading data...\n",
      "done\n"
     ]
    }
   ],
   "source": [
    "print(\"Reading data...\")\n",
    "data = list(parseData(\"http://jmcauley.ucsd.edu/cse190/data/beer/beer_50000.json\"))\n",
    "print(\"done\")"
   ]
  },
  {
   "cell_type": "code",
   "execution_count": 6,
   "metadata": {},
   "outputs": [],
   "source": [
    "def feature(datum):\n",
    "  feat = [1, datum['review/taste'], datum['review/appearance'], datum['review/aroma'], datum['review/palate'], datum['review/overall']]\n",
    "  return feat"
   ]
  },
  {
   "cell_type": "code",
   "execution_count": 7,
   "metadata": {},
   "outputs": [
    {
     "name": "stdout",
     "output_type": "stream",
     "text": [
      "{'review/appearance': 2.5, 'beer/style': 'Hefeweizen', 'review/palate': 1.5, 'review/taste': 1.5, 'beer/name': 'Sausa Weizen', 'review/timeUnix': 1234817823, 'beer/ABV': 5.0, 'beer/beerId': '47986', 'beer/brewerId': '10325', 'review/timeStruct': {'isdst': 0, 'mday': 16, 'hour': 20, 'min': 57, 'sec': 3, 'mon': 2, 'year': 2009, 'yday': 47, 'wday': 0}, 'review/overall': 1.5, 'review/text': 'A lot of foam. But a lot.\\tIn the smell some banana, and then lactic and tart. Not a good start.\\tQuite dark orange in color, with a lively carbonation (now visible, under the foam).\\tAgain tending to lactic sourness.\\tSame for the taste. With some yeast and banana.', 'user/profileName': 'stcules', 'review/aroma': 2.0}\n"
     ]
    }
   ],
   "source": [
    "X = [feature(d) for d in data]\n",
    "y = [d['beer/ABV'] >= 6.5 for d in data]\n",
    "print(data[0])"
   ]
  },
  {
   "cell_type": "code",
   "execution_count": 8,
   "metadata": {},
   "outputs": [],
   "source": [
    "def inner(x,y):\n",
    "  return sum([x[i]*y[i] for i in range(len(x))])\n",
    "\n",
    "def sigmoid(x):\n",
    "  return 1.0 / (1 + exp(-x))"
   ]
  },
  {
   "cell_type": "code",
   "execution_count": 9,
   "metadata": {},
   "outputs": [],
   "source": [
    "##################################################\n",
    "# Logistic regression by gradient ascent         #\n",
    "##################################################"
   ]
  },
  {
   "cell_type": "code",
   "execution_count": 10,
   "metadata": {},
   "outputs": [],
   "source": [
    "# NEGATIVE Log-likelihood\n",
    "def f(theta, X, y, lam):\n",
    "  loglikelihood = 0\n",
    "  for i in range(len(X)):\n",
    "    logit = inner(X[i], theta)\n",
    "    loglikelihood -= log(1 + exp(-logit))\n",
    "    if not y[i]:\n",
    "      loglikelihood -= logit\n",
    "  for k in range(len(theta)):\n",
    "    loglikelihood -= lam * theta[k]*theta[k]\n",
    "  # for debugging\n",
    "  # print(\"ll =\" + str(loglikelihood))\n",
    "  return -loglikelihood"
   ]
  },
  {
   "cell_type": "code",
   "execution_count": 11,
   "metadata": {},
   "outputs": [],
   "source": [
    "# NEGATIVE Derivative of log-likelihood\n",
    "def fprime(theta, X, y, lam):\n",
    "  dl = [0]*len(theta)\n",
    "  for i in range(len(X)):\n",
    "    logit = inner(X[i], theta)\n",
    "    for k in range(len(theta)):\n",
    "      dl[k] += X[i][k] * (1 - sigmoid(logit))\n",
    "      if not y[i]:\n",
    "        dl[k] -= X[i][k]\n",
    "  for k in range(len(theta)):\n",
    "    dl[k] -= lam*2*theta[k]\n",
    "  return numpy.array([-x for x in dl])"
   ]
  },
  {
   "cell_type": "code",
   "execution_count": 12,
   "metadata": {},
   "outputs": [
    {
     "name": "stdout",
     "output_type": "stream",
     "text": [
      "16667\n",
      "16666\n",
      "16667\n"
     ]
    }
   ],
   "source": [
    "X_train, X_validation, X_test = numpy.array_split(X, 3)\n",
    "y_train, y_validation, y_test = numpy.array_split(y, 3)\n",
    "print(len(X_train))\n",
    "print(len(X_test))\n",
    "print(len(X_validation))"
   ]
  },
  {
   "cell_type": "code",
   "execution_count": 13,
   "metadata": {},
   "outputs": [
    {
     "name": "stdout",
     "output_type": "stream",
     "text": [
      "[ 1.  5.  5.  5.  5.  5.]\n",
      "True\n"
     ]
    }
   ],
   "source": [
    "##################################################\n",
    "# Train                                          #\n",
    "##################################################\n",
    "print(X_test[0])\n",
    "print(y_test[0])"
   ]
  },
  {
   "cell_type": "code",
   "execution_count": 14,
   "metadata": {},
   "outputs": [],
   "source": [
    "def train(lam):\n",
    "  theta,_,_ = scipy.optimize.fmin_l_bfgs_b(f, [0]*len(X[0]), fprime, pgtol = 10, args = (X_train, y_train, lam))\n",
    "  return theta"
   ]
  },
  {
   "cell_type": "code",
   "execution_count": 15,
   "metadata": {},
   "outputs": [],
   "source": [
    "##################################################\n",
    "# Predict                                        #\n",
    "##################################################"
   ]
  },
  {
   "cell_type": "code",
   "execution_count": 16,
   "metadata": {},
   "outputs": [],
   "source": [
    "def performance(theta, X, Y):\n",
    "  scores = [inner(theta,x) for x in X]\n",
    "  predictions = [s > 0 for s in scores]\n",
    "  correct = [(a==b) for (a,b) in zip(predictions,Y)]\n",
    "  acc = sum(correct) * 1.0 / len(correct)\n",
    "  return acc"
   ]
  },
  {
   "cell_type": "code",
   "execution_count": 17,
   "metadata": {},
   "outputs": [],
   "source": [
    "##################################################\n",
    "# Validation pipeline                            #\n",
    "##################################################"
   ]
  },
  {
   "cell_type": "code",
   "execution_count": 25,
   "metadata": {},
   "outputs": [
    {
     "name": "stdout",
     "output_type": "stream",
     "text": [
      "lambda = 1.0:\ttrain accuracy=0.669946601068\n",
      "lambda = 1.0:\tvalidation accuracy=0.90076198476\n",
      "lambda = 1.0:\ttest accuracy=0.577163086523\n"
     ]
    }
   ],
   "source": [
    "lam = 1.0\n",
    "\n",
    "theta = train(lam)\n",
    "acc_train = performance(theta, X_train, y_train)\n",
    "print(\"lambda = \" + str(lam) + \":\\ttrain accuracy=\" + str(acc_train))\n",
    "acc_validation = performance(theta, X_validation, y_validation)\n",
    "print(\"lambda = \" + str(lam) + \":\\tvalidation accuracy=\" + str(acc_validation))\n",
    "acc_test = performance(theta, X_test, y_test)\n",
    "print(\"lambda = \" + str(lam) + \":\\ttest accuracy=\" + str(acc_test))"
   ]
  },
  {
   "cell_type": "code",
   "execution_count": 29,
   "metadata": {},
   "outputs": [],
   "source": [
    "def feature1(datum):\n",
    "  rev = datum['review/text'].lower()\n",
    "  feat = [1, 'lactic' in rev, 'tart' in rev, 'sour' in rev, 'citric' in rev, 'sweet' in rev, 'acid' in rev, 'hop' in rev,\n",
    "         'fruit' in rev, 'salt' in rev, 'spicy' in rev]\n",
    "  return feat"
   ]
  },
  {
   "cell_type": "code",
   "execution_count": 31,
   "metadata": {},
   "outputs": [
    {
     "name": "stdout",
     "output_type": "stream",
     "text": [
      "lambda = 1.0:\ttrain accuracy=0.590628187436\n",
      "lambda = 1.0:\tvalidation accuracy=0.820543589128\n",
      "lambda = 1.0:\ttest accuracy=0.476179047162\n"
     ]
    }
   ],
   "source": [
    "X = [feature1(d) for d in data]\n",
    "X_train, X_validation, X_test = numpy.array_split(X, 3)\n",
    "\n",
    "lam = 1.0\n",
    "\n",
    "theta = train(lam)\n",
    "acc_train = performance(theta, X_train, y_train)\n",
    "print(\"lambda = \" + str(lam) + \":\\ttrain accuracy=\" + str(acc_train))\n",
    "acc_validation = performance(theta, X_validation, y_validation)\n",
    "print(\"lambda = \" + str(lam) + \":\\tvalidation accuracy=\" + str(acc_validation))\n",
    "acc_test = performance(theta, X_test, y_test)\n",
    "print(\"lambda = \" + str(lam) + \":\\ttest accuracy=\" + str(acc_test))\n"
   ]
  },
  {
   "cell_type": "code",
   "execution_count": 37,
   "metadata": {},
   "outputs": [],
   "source": [
    "def performance_detailed(theta, X, Y):\n",
    "  scores = [inner(theta,x) for x in X]\n",
    "  predictions = [s > 0 for s in scores]\n",
    "  TP = sum([(a==b) and a==True for (a,b) in zip(predictions,Y)])\n",
    "  TN = sum([(a==b) and a==False for (a,b) in zip(predictions, Y)])\n",
    "  FP = sum([(a!=b) and a==True for (a,b) in zip(predictions, Y)])\n",
    "  FN = sum([(a!=b) and a==False for (a,b) in zip(predictions, Y)])\n",
    "  TPR = TP/(TP+FN)\n",
    "  TNR = TN/(TN+FP)\n",
    "  BER = 1 - 0.5*(TPR+TNR)\n",
    "  print(\"Balanced Error Rate: \" + str(BER))\n",
    "  print(\"True +ve: \" + str(TP))\n",
    "  print(\"True -ve: \" + str(TN))\n",
    "  print(\"False +ve: \" + str(FP))\n",
    "  print(\"False -ve: \" + str(FN))\n",
    "  print(\"Total: \" + str(len(predictions)))\n",
    "  print(\"Sanity check: \" + str(TP+TN+FP+FN))"
   ]
  },
  {
   "cell_type": "code",
   "execution_count": 38,
   "metadata": {},
   "outputs": [
    {
     "name": "stdout",
     "output_type": "stream",
     "text": [
      "Balanced Error Rate: 0.439879300591\n",
      "True +ve: 5018\n",
      "True -ve: 2918\n",
      "False +ve: 7837\n",
      "False -ve: 893\n",
      "Total: 16666\n",
      "Sanity check: 16666\n"
     ]
    }
   ],
   "source": [
    "performance_detailed(theta, X_test, y_test)"
   ]
  },
  {
   "cell_type": "code",
   "execution_count": 57,
   "metadata": {},
   "outputs": [],
   "source": [
    "# NEGATIVE Log-likelihood for class imbalance\n",
    "def fc(theta, X, y, lam):\n",
    "  total = len(y)\n",
    "  y1count = sum(y)\n",
    "  y0count = total - sum(y)\n",
    "  y1balance = total/(2*y1count)\n",
    "  y0balance = total/(2*y0count)\n",
    "  #print(\"Y1, Y0 : \" +str(y1count)+\",\"+str(y0count))\n",
    "  loglikelihood = 0\n",
    "  for i in range(len(X)):\n",
    "    logit = inner(X[i], theta)\n",
    "    if(y[i]):\n",
    "        loglikelihood -= (y1balance*log(1+exp(-logit)))\n",
    "    elif not y[i]:\n",
    "        loglikelihood -= (y0balance*(logit + log(1+exp(-logit))))\n",
    "  for k in range(len(theta)):\n",
    "    loglikelihood -= lam * theta[k]*theta[k]\n",
    "  # for debugging\n",
    "  # print(\"ll =\" + str(loglikelihood))\n",
    "  return -loglikelihood"
   ]
  },
  {
   "cell_type": "code",
   "execution_count": 58,
   "metadata": {},
   "outputs": [],
   "source": [
    "# NEGATIVE Derivative of log-likelihood for class imbalance\n",
    "def fcprime(theta, X, y, lam):\n",
    "  total = len(y)\n",
    "  y1count = sum(y)\n",
    "  y0count = total - sum(y)\n",
    "  y1balance = total/(2*y1count)\n",
    "  y0balance = total/(2*y0count)\n",
    "  dl = [0]*len(theta)\n",
    "  for i in range(len(X)):\n",
    "    logit = inner(X[i], theta)\n",
    "    for k in range(len(theta)):\n",
    "      if y[i]:\n",
    "        dl[k] += (y1balance*(X[i][k] * (1-sigmoid(logit))))\n",
    "      elif not y[i]:\n",
    "        dl[k] -= (y0balance*(X[i][k]*sigmoid(logit)))\n",
    "  for k in range(len(theta)):\n",
    "    dl[k] -= lam*2*theta[k]\n",
    "  return numpy.array([-x for x in dl])"
   ]
  },
  {
   "cell_type": "code",
   "execution_count": 59,
   "metadata": {},
   "outputs": [],
   "source": [
    "def trainc(lam):\n",
    "  theta,_,_ = scipy.optimize.fmin_l_bfgs_b(fc, [0]*len(X[0]), fcprime, pgtol = 10, args = (X_train, y_train, lam))\n",
    "  return theta"
   ]
  },
  {
   "cell_type": "code",
   "execution_count": 60,
   "metadata": {},
   "outputs": [
    {
     "data": {
      "text/plain": [
       "11353.519540437246"
      ]
     },
     "execution_count": 60,
     "metadata": {},
     "output_type": "execute_result"
    }
   ],
   "source": [
    "fc(theta, X_train, y_train, lam)"
   ]
  },
  {
   "cell_type": "code",
   "execution_count": 61,
   "metadata": {},
   "outputs": [
    {
     "name": "stdout",
     "output_type": "stream",
     "text": [
      "lambda = 1.0:\ttrain accuracy=0.569688606228\n",
      "lambda = 1.0:\tvalidation accuracy=0.476930461391\n",
      "lambda = 1.0:\ttest accuracy=0.609324372975\n"
     ]
    }
   ],
   "source": [
    "lam = 1.0\n",
    "\n",
    "thetac = trainc(lam)\n",
    "acc_train = performance(thetac, X_train, y_train)\n",
    "print(\"lambda = \" + str(lam) + \":\\ttrain accuracy=\" + str(acc_train))\n",
    "acc_validation = performance(thetac, X_validation, y_validation)\n",
    "print(\"lambda = \" + str(lam) + \":\\tvalidation accuracy=\" + str(acc_validation))\n",
    "acc_test = performance(thetac, X_test, y_test)\n",
    "print(\"lambda = \" + str(lam) + \":\\ttest accuracy=\" + str(acc_test))\n"
   ]
  },
  {
   "cell_type": "code",
   "execution_count": 62,
   "metadata": {},
   "outputs": [
    {
     "name": "stdout",
     "output_type": "stream",
     "text": [
      "Training: \n",
      "Balanced Error Rate: 0.415319661713\n",
      "True +ve: 4316\n",
      "True -ve: 5179\n",
      "False +ve: 2139\n",
      "False -ve: 5033\n",
      "Total: 16667\n",
      "Sanity check: 16667\n",
      "Validation: \n",
      "Balanced Error Rate: 0.37890556133\n",
      "True +ve: 7358\n",
      "True -ve: 591\n",
      "False +ve: 167\n",
      "False -ve: 8551\n",
      "Total: 16667\n",
      "Sanity check: 16667\n",
      "Test: \n",
      "Balanced Error Rate: 0.429410539617\n",
      "True +ve: 2585\n",
      "True -ve: 7570\n",
      "False +ve: 3185\n",
      "False -ve: 3326\n",
      "Total: 16666\n",
      "Sanity check: 16666\n"
     ]
    }
   ],
   "source": [
    "print(\"Training: \")\n",
    "performance_detailed(thetac, X_train, y_train)\n",
    "print(\"Validation: \")\n",
    "performance_detailed(thetac, X_validation, y_validation)\n",
    "print(\"Test: \")\n",
    "performance_detailed(thetac, X_test, y_test)"
   ]
  },
  {
   "cell_type": "code",
   "execution_count": 63,
   "metadata": {},
   "outputs": [
    {
     "name": "stdout",
     "output_type": "stream",
     "text": [
      "lambda = 0:\ttrain accuracy=0.569688606228\n",
      "lambda = 0:\tvalidation accuracy=0.476930461391\n",
      "lambda = 0.01:\ttrain accuracy=0.569688606228\n",
      "lambda = 0.01:\tvalidation accuracy=0.476930461391\n",
      "lambda = 0.1:\ttrain accuracy=0.569688606228\n",
      "lambda = 0.1:\tvalidation accuracy=0.476930461391\n",
      "lambda = 1.0:\ttrain accuracy=0.569688606228\n",
      "lambda = 1.0:\tvalidation accuracy=0.476930461391\n",
      "lambda = 100:\ttrain accuracy=0.570708585828\n",
      "lambda = 100:\tvalidation accuracy=0.483170336593\n"
     ]
    }
   ],
   "source": [
    "lam = 0\n",
    "\n",
    "thetac = trainc(lam)\n",
    "acc_train = performance(thetac, X_train, y_train)\n",
    "print(\"lambda = \" + str(lam) + \":\\ttrain accuracy=\" + str(acc_train))\n",
    "acc_validation = performance(thetac, X_validation, y_validation)\n",
    "print(\"lambda = \" + str(lam) + \":\\tvalidation accuracy=\" + str(acc_validation))\n",
    "\n",
    "lam = 0.01\n",
    "\n",
    "thetac = trainc(lam)\n",
    "acc_train = performance(thetac, X_train, y_train)\n",
    "print(\"lambda = \" + str(lam) + \":\\ttrain accuracy=\" + str(acc_train))\n",
    "acc_validation = performance(thetac, X_validation, y_validation)\n",
    "print(\"lambda = \" + str(lam) + \":\\tvalidation accuracy=\" + str(acc_validation))\n",
    "\n",
    "lam = 0.1\n",
    "\n",
    "thetac = trainc(lam)\n",
    "acc_train = performance(thetac, X_train, y_train)\n",
    "print(\"lambda = \" + str(lam) + \":\\ttrain accuracy=\" + str(acc_train))\n",
    "acc_validation = performance(thetac, X_validation, y_validation)\n",
    "print(\"lambda = \" + str(lam) + \":\\tvalidation accuracy=\" + str(acc_validation))\n",
    "\n",
    "lam = 1.0\n",
    "\n",
    "thetac = trainc(lam)\n",
    "acc_train = performance(thetac, X_train, y_train)\n",
    "print(\"lambda = \" + str(lam) + \":\\ttrain accuracy=\" + str(acc_train))\n",
    "acc_validation = performance(thetac, X_validation, y_validation)\n",
    "print(\"lambda = \" + str(lam) + \":\\tvalidation accuracy=\" + str(acc_validation))\n",
    "\n",
    "lam = 100\n",
    "\n",
    "thetac = trainc(lam)\n",
    "acc_train = performance(thetac, X_train, y_train)\n",
    "print(\"lambda = \" + str(lam) + \":\\ttrain accuracy=\" + str(acc_train))\n",
    "acc_validation = performance(thetac, X_validation, y_validation)\n",
    "print(\"lambda = \" + str(lam) + \":\\tvalidation accuracy=\" + str(acc_validation))"
   ]
  },
  {
   "cell_type": "code",
   "execution_count": 64,
   "metadata": {},
   "outputs": [
    {
     "name": "stdout",
     "output_type": "stream",
     "text": [
      "lambda = 100:\ttrain accuracy=0.570708585828\n",
      "Balanced Error Rate: 0.41544948518\n",
      "True +ve: 4403\n",
      "True -ve: 5109\n",
      "False +ve: 2209\n",
      "False -ve: 4946\n",
      "Total: 16667\n",
      "Sanity check: 16667\n",
      "lambda = 100:\tvalidation accuracy=0.483170336593\n",
      "Balanced Error Rate: 0.376893374935\n",
      "True +ve: 7464\n",
      "True -ve: 589\n",
      "False +ve: 169\n",
      "False -ve: 8445\n",
      "Total: 16667\n",
      "Sanity check: 16667\n",
      "lambda = 100:\ttest accuracy=0.483170336593\n",
      "Balanced Error Rate: 0.430895545666\n",
      "True +ve: 2629\n",
      "True -ve: 7458\n",
      "False +ve: 3297\n",
      "False -ve: 3282\n",
      "Total: 16666\n",
      "Sanity check: 16666\n"
     ]
    }
   ],
   "source": [
    "lam = 100\n",
    "\n",
    "thetac = trainc(lam)\n",
    "acc_train = performance(thetac, X_train, y_train)\n",
    "print(\"lambda = \" + str(lam) + \":\\ttrain accuracy=\" + str(acc_train))\n",
    "performance_detailed(thetac, X_train, y_train)\n",
    "acc_validation = performance(thetac, X_validation, y_validation)\n",
    "print(\"lambda = \" + str(lam) + \":\\tvalidation accuracy=\" + str(acc_validation))\n",
    "performance_detailed(thetac, X_validation, y_validation)\n",
    "acc_test = performance(thetac, X_test, y_test)\n",
    "print(\"lambda = \" + str(lam) + \":\\ttest accuracy=\" + str(acc_validation))\n",
    "performance_detailed(thetac, X_test, y_test)"
   ]
  },
  {
   "cell_type": "code",
   "execution_count": 65,
   "metadata": {},
   "outputs": [],
   "source": [
    "#######\n",
    "# PCA #\n",
    "#######"
   ]
  },
  {
   "cell_type": "code",
   "execution_count": 18,
   "metadata": {},
   "outputs": [],
   "source": [
    "def feature2(datum):\n",
    "  rev = datum['review/text'].lower()\n",
    "  feat = ['lactic' in rev, 'tart' in rev, 'sour' in rev, 'citric' in rev, 'sweet' in rev, 'acid' in rev, 'hop' in rev,\n",
    "         'fruit' in rev, 'salt' in rev, 'spicy' in rev]\n",
    "  return feat"
   ]
  },
  {
   "cell_type": "code",
   "execution_count": 22,
   "metadata": {},
   "outputs": [],
   "source": [
    "X = [feature2(d) for d in data]\n",
    "X_train, X_validation, X_test = numpy.array_split(X, 3)"
   ]
  },
  {
   "cell_type": "code",
   "execution_count": 34,
   "metadata": {},
   "outputs": [
    {
     "name": "stdout",
     "output_type": "stream",
     "text": [
      "[[  1.43718876e-06   7.77174223e-02  -1.40472578e-03   2.33809352e-02\n",
      "    6.10772965e-01   6.28430689e-03   6.07765676e-01   4.98265919e-01\n",
      "    2.96650190e-03   5.16856933e-02]\n",
      " [  2.41036204e-03   4.29471762e-02   1.85148297e-02  -1.43444735e-02\n",
      "    7.38772679e-01  -4.84703819e-04  -6.64621086e-01  -9.92817326e-02\n",
      "    8.87149270e-04  -1.53955559e-02]\n",
      " [  2.61095019e-03   7.07918224e-02   4.19046056e-02   1.91381179e-03\n",
      "   -2.78012260e-01   9.94292871e-03  -4.31246961e-01   8.54196261e-01\n",
      "    3.45214517e-03   1.39732896e-02]\n",
      " [  9.67368082e-03   9.84076068e-01   1.19825467e-01   1.03540275e-02\n",
      "   -6.02842832e-02   3.95193539e-02   1.39628011e-02  -1.01150215e-01\n",
      "    6.70798033e-03   3.69873842e-02]\n",
      " [  1.73531458e-03  -4.71500484e-02   4.06927959e-02   2.25424859e-02\n",
      "   -1.38735705e-02   7.10823857e-03  -3.53696141e-02  -3.69349667e-02\n",
      "    9.26025111e-03   9.96326170e-01]\n",
      " [  2.60259435e-02  -1.24011152e-01   9.87252005e-01   1.28216859e-02\n",
      "    6.73815695e-03   7.31807627e-02   3.09188626e-02  -2.05966261e-02\n",
      "    1.21622408e-02  -4.67335400e-02]\n",
      " [  4.77033676e-02  -3.23083029e-02  -8.04818811e-02   2.41560860e-01\n",
      "    6.43613609e-04   9.65186724e-01  -7.77802151e-03  -8.83058555e-03\n",
      "    3.97154334e-04  -1.12746782e-02]\n",
      " [ -1.08013629e-02  -1.25288192e-03   4.58626215e-03   9.69216280e-01\n",
      "   -2.56260859e-03  -2.42231908e-01  -2.14201959e-02  -1.08404382e-02\n",
      "    2.72505601e-02  -2.18799577e-02]\n",
      " [ -1.04249352e-02  -5.07341821e-03  -1.32046073e-02  -2.70021642e-02\n",
      "   -9.80455570e-04   5.47281183e-03   6.99843143e-04  -2.76905147e-03\n",
      "    9.99425300e-01  -8.49124382e-03]\n",
      " [  9.98354883e-01  -5.03226093e-03  -2.33652705e-02  -1.78226903e-03\n",
      "   -6.93576626e-04  -5.10099879e-02   1.99893626e-03  -1.37976775e-04\n",
      "    1.03026405e-02  -6.58004388e-04]]\n"
     ]
    }
   ],
   "source": [
    "pca = PCA(n_components=10)\n",
    "pca.fit(X_train)\n",
    "print(pca.components_)"
   ]
  },
  {
   "cell_type": "code",
   "execution_count": 37,
   "metadata": {},
   "outputs": [],
   "source": [
    "X_lowdim = pca.transform(X)"
   ]
  },
  {
   "cell_type": "code",
   "execution_count": 38,
   "metadata": {},
   "outputs": [
    {
     "name": "stdout",
     "output_type": "stream",
     "text": [
      "[-0.74342512  0.10176302  0.22966189  1.0426961  -0.03101084  0.83594253\n",
      " -0.07260678 -0.00161892 -0.03339812  0.96869868]\n"
     ]
    }
   ],
   "source": [
    "print(X_lowdim[0])"
   ]
  },
  {
   "cell_type": "code",
   "execution_count": 39,
   "metadata": {},
   "outputs": [
    {
     "data": {
      "text/plain": [
       "[True, True, True, False, False, False, False, False, False, False]"
      ]
     },
     "execution_count": 39,
     "metadata": {},
     "output_type": "execute_result"
    }
   ],
   "source": [
    "X[0]"
   ]
  },
  {
   "cell_type": "code",
   "execution_count": 59,
   "metadata": {},
   "outputs": [
    {
     "name": "stdout",
     "output_type": "stream",
     "text": [
      "[[  1.43718876e-06   7.77174223e-02  -1.40472578e-03   2.33809352e-02\n",
      "    6.10772965e-01   6.28430689e-03   6.07765676e-01   4.98265919e-01\n",
      "    2.96650190e-03   5.16856933e-02]\n",
      " [  2.41036204e-03   4.29471762e-02   1.85148297e-02  -1.43444735e-02\n",
      "    7.38772679e-01  -4.84703819e-04  -6.64621086e-01  -9.92817326e-02\n",
      "    8.87149270e-04  -1.53955559e-02]]\n"
     ]
    }
   ],
   "source": [
    "pca = PCA(n_components=2)\n",
    "pca.fit(X_train)\n",
    "print(pca.components_)"
   ]
  },
  {
   "cell_type": "code",
   "execution_count": 60,
   "metadata": {},
   "outputs": [
    {
     "name": "stdout",
     "output_type": "stream",
     "text": [
      "[-0.74342512  0.10176302]\n"
     ]
    }
   ],
   "source": [
    "X_lowdim = pca.transform(X_train)\n",
    "print(X_lowdim[0])"
   ]
  },
  {
   "cell_type": "code",
   "execution_count": 61,
   "metadata": {},
   "outputs": [
    {
     "name": "stdout",
     "output_type": "stream",
     "text": [
      "[ 0.00360415  0.06221104  0.05776734 -0.00132206  0.12132577  0.01483837\n",
      "  0.05502639 -0.07525271  0.00580475  0.02768751]\n"
     ]
    },
    {
     "data": {
      "text/plain": [
       "16667"
      ]
     },
     "execution_count": 61,
     "metadata": {},
     "output_type": "execute_result"
    }
   ],
   "source": [
    "X_reconst = pca.inverse_transform(X_lowdim)\n",
    "print(X_reconst[0])\n",
    "len(X_reconst)"
   ]
  },
  {
   "cell_type": "code",
   "execution_count": 62,
   "metadata": {},
   "outputs": [
    {
     "name": "stdout",
     "output_type": "stream",
     "text": [
      "Mean Squared Error: 0.0454228532818\n"
     ]
    }
   ],
   "source": [
    "loss = ((X_train - X_reconst)**2).mean()\n",
    "print(\"Mean Squared Error: \" + str(loss))"
   ]
  },
  {
   "cell_type": "code",
   "execution_count": 63,
   "metadata": {},
   "outputs": [
    {
     "name": "stdout",
     "output_type": "stream",
     "text": [
      "1486\n",
      "15181\n"
     ]
    }
   ],
   "source": [
    "i = 0;\n",
    "Am_X = []\n",
    "Am_Y = []\n",
    "Non_X = []\n",
    "Non_Y = []\n",
    "for d in X_reconst:\n",
    "    if(data[i]['beer/style'] == 'American IPA'):\n",
    "        Am_X.append(d[0])\n",
    "        Am_Y.append(d[1])\n",
    "    else:\n",
    "        Non_X.append(d[0])\n",
    "        Non_Y.append(d[1])\n",
    "    i = i+1\n",
    "print(len(Am_X))\n",
    "print(len(Non_X))"
   ]
  },
  {
   "cell_type": "code",
   "execution_count": 70,
   "metadata": {},
   "outputs": [
    {
     "data": {
      "image/png": "[encoded data removed]",
      "text/plain": [
       "<matplotlib.figure.Figure at 0x13d6f770>"
      ]
     },
     "metadata": {},
     "output_type": "display_data"
    }
   ],
   "source": [
    "plt.plot(Am_X, Am_Y, 'ro', Non_X, Non_Y, 'bx')\n",
    "#plt.show()\n",
    "#plt.plot(Non_X, Non_Y, 'x')\n",
    "plt.show()"
   ]
  },
  {
   "cell_type": "code",
   "execution_count": null,
   "metadata": {},
   "outputs": [],
   "source": []
  }
 ],
 "metadata": {
  "kernelspec": {
   "display_name": "Python 3",
   "language": "python",
   "name": "python3"
  },
  "language_info": {
   "codemirror_mode": {
    "name": "ipython",
    "version": 3
   },
   "file_extension": ".py",
   "mimetype": "text/x-python",
   "name": "python",
   "nbconvert_exporter": "python",
   "pygments_lexer": "ipython3",
   "version": "3.6.3"
  }
 },
 "nbformat": 4,
 "nbformat_minor": 2
}
