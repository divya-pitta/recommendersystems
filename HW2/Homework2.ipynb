{
 "cells": [
  {
   "cell_type": "code",
   "execution_count": 110,
   "metadata": {},
   "outputs": [],
   "source": [
    "import numpy\n",
    "import re\n",
    "import string\n",
    "from urllib.request import urlopen\n",
    "import scipy.optimize\n",
    "from sklearn.decomposition import PCA\n",
    "import random\n",
    "from math import exp\n",
    "from math import log\n",
    "import matplotlib.pyplot as plt\n",
    "from collections import Counter"
   ]
  },
  {
   "cell_type": "code",
   "execution_count": 111,
   "metadata": {},
   "outputs": [],
   "source": [
    "def parseData(fname):\n",
    "  for l in urlopen(fname):\n",
    "    yield eval(l)"
   ]
  },
  {
   "cell_type": "code",
   "execution_count": 112,
   "metadata": {},
   "outputs": [
    {
     "name": "stdout",
     "output_type": "stream",
     "text": [
      "Reading data...\n",
      "done\n"
     ]
    }
   ],
   "source": [
    "print(\"Reading data...\")\n",
    "data = list(parseData(\"http://jmcauley.ucsd.edu/cse190/data/beer/beer_50000.json\"))\n",
    "print(\"done\")"
   ]
  },
  {
   "cell_type": "code",
   "execution_count": 114,
   "metadata": {},
   "outputs": [],
   "source": [
    "def feature(datum):\n",
    "  feat = [1, datum['review/taste'], datum['review/appearance'], datum['review/aroma'], datum['review/palate'], datum['review/overall']]\n",
    "  return feat"
   ]
  },
  {
   "cell_type": "code",
   "execution_count": 115,
   "metadata": {},
   "outputs": [
    {
     "name": "stdout",
     "output_type": "stream",
     "text": [
      "{'review/appearance': 2.5, 'beer/style': 'Hefeweizen', 'review/palate': 1.5, 'review/taste': 1.5, 'beer/name': 'Sausa Weizen', 'review/timeUnix': 1234817823, 'beer/ABV': 5.0, 'beer/beerId': '47986', 'beer/brewerId': '10325', 'review/timeStruct': {'isdst': 0, 'mday': 16, 'hour': 20, 'min': 57, 'sec': 3, 'mon': 2, 'year': 2009, 'yday': 47, 'wday': 0}, 'review/overall': 1.5, 'review/text': 'A lot of foam. But a lot.\\tIn the smell some banana, and then lactic and tart. Not a good start.\\tQuite dark orange in color, with a lively carbonation (now visible, under the foam).\\tAgain tending to lactic sourness.\\tSame for the taste. With some yeast and banana.', 'user/profileName': 'stcules', 'review/aroma': 2.0}\n",
      "A lot of foam. But a lot.\tIn the smell some banana, and then lactic and tart. Not a good start.\tQuite dark orange in color, with a lively carbonation (now visible, under the foam).\tAgain tending to lactic sourness.\tSame for the taste. With some yeast and banana.\n",
      "!\"#$%&'()*+,-./:;<=>?@[\\]^_`{|}~\n",
      "A lot of foam But a lot\tIn the smell some banana and then lactic and tart Not a good start\tQuite dark orange in color with a lively carbonation now visible under the foam\tAgain tending to lactic sourness\tSame for the taste With some yeast and banana\n",
      "2\n"
     ]
    }
   ],
   "source": [
    "X = [feature(d) for d in data]\n",
    "y = [d['beer/ABV'] >= 6.5 for d in data]\n",
    "print(data[0])\n",
    "temp = data[0]['review/text']\n",
    "#occurrence = Counter(temp.translate(string.punctuation).split())\n",
    "#print(occurrence)\n",
    "print(temp)\n",
    "print(string.punctuation)\n",
    "#count = sum(1 for _ in re.finditer(r'\\b%s\\b' % re.escape('a'), temp))\n",
    "temp = re.sub('['+string.punctuation+']', '', temp)\n",
    "print(temp)\n",
    "w = temp.split()\n",
    "c = Counter(w)\n",
    "\n",
    "print(c['foam'])"
   ]
  },
  {
   "cell_type": "code",
   "execution_count": 116,
   "metadata": {},
   "outputs": [],
   "source": [
    "def inner(x,y):\n",
    "  return sum([x[i]*y[i] for i in range(len(x))])\n",
    "\n",
    "def sigmoid(x):\n",
    "  return 1.0 / (1 + exp(-x))"
   ]
  },
  {
   "cell_type": "code",
   "execution_count": 117,
   "metadata": {},
   "outputs": [],
   "source": [
    "##################################################\n",
    "# Logistic regression by gradient ascent         #\n",
    "##################################################"
   ]
  },
  {
   "cell_type": "code",
   "execution_count": 118,
   "metadata": {},
   "outputs": [],
   "source": [
    "# NEGATIVE Log-likelihood\n",
    "def f(theta, X, y, lam):\n",
    "  loglikelihood = 0\n",
    "  for i in range(len(X)):\n",
    "    logit = inner(X[i], theta)\n",
    "    loglikelihood -= log(1 + exp(-logit))\n",
    "    if not y[i]:\n",
    "      loglikelihood -= logit\n",
    "  for k in range(len(theta)):\n",
    "    loglikelihood -= lam * theta[k]*theta[k]\n",
    "  # for debugging\n",
    "  # print(\"ll =\" + str(loglikelihood))\n",
    "  return -loglikelihood"
   ]
  },
  {
   "cell_type": "code",
   "execution_count": 119,
   "metadata": {},
   "outputs": [],
   "source": [
    "# NEGATIVE Derivative of log-likelihood\n",
    "def fprime(theta, X, y, lam):\n",
    "  dl = [0]*len(theta)\n",
    "  for i in range(len(X)):\n",
    "    logit = inner(X[i], theta)\n",
    "    for k in range(len(theta)):\n",
    "      dl[k] += X[i][k] * (1 - sigmoid(logit))\n",
    "      if not y[i]:\n",
    "        dl[k] -= X[i][k]\n",
    "  for k in range(len(theta)):\n",
    "    dl[k] -= lam*2*theta[k]\n",
    "  return numpy.array([-x for x in dl])"
   ]
  },
  {
   "cell_type": "code",
   "execution_count": 120,
   "metadata": {},
   "outputs": [
    {
     "name": "stdout",
     "output_type": "stream",
     "text": [
      "16667\n",
      "16666\n",
      "16667\n"
     ]
    }
   ],
   "source": [
    "X_train, X_validation, X_test = numpy.array_split(X, 3)\n",
    "y_train, y_validation, y_test = numpy.array_split(y, 3)\n",
    "print(len(X_train))\n",
    "print(len(X_test))\n",
    "print(len(X_validation))"
   ]
  },
  {
   "cell_type": "code",
   "execution_count": 121,
   "metadata": {},
   "outputs": [
    {
     "name": "stdout",
     "output_type": "stream",
     "text": [
      "[ 1.  5.  5.  5.  5.  5.]\n",
      "True\n"
     ]
    }
   ],
   "source": [
    "##################################################\n",
    "# Train                                          #\n",
    "##################################################\n",
    "print(X_test[0])\n",
    "print(y_test[0])"
   ]
  },
  {
   "cell_type": "code",
   "execution_count": 122,
   "metadata": {},
   "outputs": [],
   "source": [
    "def train(lam):\n",
    "  theta,_,_ = scipy.optimize.fmin_l_bfgs_b(f, [0]*len(X[0]), fprime, pgtol = 10, args = (X_train, y_train, lam))\n",
    "  return theta"
   ]
  },
  {
   "cell_type": "code",
   "execution_count": 123,
   "metadata": {},
   "outputs": [],
   "source": [
    "##################################################\n",
    "# Predict                                        #\n",
    "##################################################"
   ]
  },
  {
   "cell_type": "code",
   "execution_count": 124,
   "metadata": {},
   "outputs": [],
   "source": [
    "def performance(theta, X, Y):\n",
    "  scores = [inner(theta,x) for x in X]\n",
    "  predictions = [s > 0 for s in scores]\n",
    "  correct = [(a==b) for (a,b) in zip(predictions,Y)]\n",
    "  acc = sum(correct) * 1.0 / len(correct)\n",
    "  return acc"
   ]
  },
  {
   "cell_type": "code",
   "execution_count": 125,
   "metadata": {},
   "outputs": [],
   "source": [
    "##################################################\n",
    "# Validation pipeline                            #\n",
    "##################################################"
   ]
  },
  {
   "cell_type": "code",
   "execution_count": 126,
   "metadata": {},
   "outputs": [
    {
     "name": "stdout",
     "output_type": "stream",
     "text": [
      "lambda = 1.0:\ttrain accuracy=0.669946601068\n",
      "lambda = 1.0:\tvalidation accuracy=0.90076198476\n",
      "lambda = 1.0:\ttest accuracy=0.577163086523\n"
     ]
    }
   ],
   "source": [
    "lam = 1.0\n",
    "\n",
    "theta = train(lam)\n",
    "acc_train = performance(theta, X_train, y_train)\n",
    "print(\"lambda = \" + str(lam) + \":\\ttrain accuracy=\" + str(acc_train))\n",
    "acc_validation = performance(theta, X_validation, y_validation)\n",
    "print(\"lambda = \" + str(lam) + \":\\tvalidation accuracy=\" + str(acc_validation))\n",
    "acc_test = performance(theta, X_test, y_test)\n",
    "print(\"lambda = \" + str(lam) + \":\\ttest accuracy=\" + str(acc_test))"
   ]
  },
  {
   "cell_type": "code",
   "execution_count": 127,
   "metadata": {},
   "outputs": [],
   "source": [
    "def feature1(datum):\n",
    "  rev = datum['review/text'].lower()\n",
    "  rev = re.sub('['+string.punctuation+']', '', rev)\n",
    "  w = rev.split()\n",
    "  c = Counter(w)\n",
    "  #temp = re.sub(r'[^\\w\\s]','',rev)\n",
    "  feat = [1, c['lactic'], \n",
    "          c['tart'], \n",
    "          c['sour'], \n",
    "          c['citric'], \n",
    "          c['sweet'], \n",
    "          c['acid'], \n",
    "          c['hop'],\n",
    "         c['fruit'], \n",
    "          c['salt'], \n",
    "          c['spicy']]\n",
    "  return feat"
   ]
  },
  {
   "cell_type": "code",
   "execution_count": 128,
   "metadata": {},
   "outputs": [
    {
     "name": "stdout",
     "output_type": "stream",
     "text": [
      "lambda = 1.0:\ttrain accuracy=0.562608747825\n",
      "lambda = 1.0:\tvalidation accuracy=0.946301073979\n",
      "lambda = 1.0:\ttest accuracy=0.36229449178\n"
     ]
    }
   ],
   "source": [
    "X = [feature1(d) for d in data]\n",
    "X_train, X_validation, X_test = numpy.array_split(X, 3)\n",
    "\n",
    "lam = 1.0\n",
    "\n",
    "theta = train(lam)\n",
    "acc_train = performance(theta, X_train, y_train)\n",
    "print(\"lambda = \" + str(lam) + \":\\ttrain accuracy=\" + str(acc_train))\n",
    "acc_validation = performance(theta, X_validation, y_validation)\n",
    "print(\"lambda = \" + str(lam) + \":\\tvalidation accuracy=\" + str(acc_validation))\n",
    "acc_test = performance(theta, X_test, y_test)\n",
    "print(\"lambda = \" + str(lam) + \":\\ttest accuracy=\" + str(acc_test))\n"
   ]
  },
  {
   "cell_type": "code",
   "execution_count": 129,
   "metadata": {},
   "outputs": [],
   "source": [
    "def performance_detailed(theta, X, Y):\n",
    "  scores = [inner(theta,x) for x in X]\n",
    "  predictions = [s > 0 for s in scores]\n",
    "  TP = sum([(a==b) and a==True for (a,b) in zip(predictions,Y)])\n",
    "  TN = sum([(a==b) and a==False for (a,b) in zip(predictions, Y)])\n",
    "  FP = sum([(a!=b) and a==True for (a,b) in zip(predictions, Y)])\n",
    "  FN = sum([(a!=b) and a==False for (a,b) in zip(predictions, Y)])\n",
    "  TPR = TP/(TP+FN)\n",
    "  TNR = TN/(TN+FP)\n",
    "  BER = 1 - 0.5*(TPR+TNR)\n",
    "  print(\"Balanced Error Rate: \" + str(BER))\n",
    "  print(\"True +ve: \" + str(TP))\n",
    "  print(\"True -ve: \" + str(TN))\n",
    "  print(\"False +ve: \" + str(FP))\n",
    "  print(\"False -ve: \" + str(FN))\n",
    "  print(\"Total: \" + str(len(predictions)))\n",
    "  print(\"Sanity check: \" + str(TP+TN+FP+FN))"
   ]
  },
  {
   "cell_type": "code",
   "execution_count": 131,
   "metadata": {},
   "outputs": [
    {
     "name": "stdout",
     "output_type": "stream",
     "text": [
      "Balanced Error Rate: 0.497105515479\n",
      "True +ve: 5832\n",
      "True -ve: 206\n",
      "False +ve: 10549\n",
      "False -ve: 79\n",
      "Total: 16666\n",
      "Sanity check: 16666\n"
     ]
    }
   ],
   "source": [
    "performance_detailed(theta, X_test, y_test)"
   ]
  },
  {
   "cell_type": "code",
   "execution_count": 132,
   "metadata": {},
   "outputs": [],
   "source": [
    "# NEGATIVE Log-likelihood for class imbalance\n",
    "def fc(theta, X, y, lam):\n",
    "  total = len(y)\n",
    "  y1count = sum(y)\n",
    "  y0count = total - sum(y)\n",
    "  y1balance = total/(2*y1count)\n",
    "  y0balance = total/(2*y0count)\n",
    "  #print(\"Y1, Y0 : \" +str(y1count)+\",\"+str(y0count))\n",
    "  loglikelihood = 0\n",
    "  for i in range(len(X)):\n",
    "    logit = inner(X[i], theta)\n",
    "    if(y[i]):\n",
    "        loglikelihood -= (y1balance*log(1+exp(-logit)))\n",
    "    elif not y[i]:\n",
    "        loglikelihood -= (y0balance*(logit + log(1+exp(-logit))))\n",
    "  for k in range(len(theta)):\n",
    "    loglikelihood -= lam * theta[k]*theta[k]\n",
    "  # for debugging\n",
    "  # print(\"ll =\" + str(loglikelihood))\n",
    "  return -loglikelihood"
   ]
  },
  {
   "cell_type": "code",
   "execution_count": 133,
   "metadata": {},
   "outputs": [],
   "source": [
    "# NEGATIVE Derivative of log-likelihood for class imbalance\n",
    "def fcprime(theta, X, y, lam):\n",
    "  total = len(y)\n",
    "  y1count = sum(y)\n",
    "  y0count = total - sum(y)\n",
    "  y1balance = total/(2*y1count)\n",
    "  y0balance = total/(2*y0count)\n",
    "  dl = [0]*len(theta)\n",
    "  for i in range(len(X)):\n",
    "    logit = inner(X[i], theta)\n",
    "    for k in range(len(theta)):\n",
    "      if y[i]:\n",
    "        dl[k] += (y1balance*(X[i][k] * (1-sigmoid(logit))))\n",
    "      elif not y[i]:\n",
    "        dl[k] -= (y0balance*(X[i][k]*sigmoid(logit)))\n",
    "  for k in range(len(theta)):\n",
    "    dl[k] -= lam*2*theta[k]\n",
    "  return numpy.array([-x for x in dl])"
   ]
  },
  {
   "cell_type": "code",
   "execution_count": 134,
   "metadata": {},
   "outputs": [],
   "source": [
    "def trainc(lam):\n",
    "  theta,_,_ = scipy.optimize.fmin_l_bfgs_b(fc, [0]*len(X[0]), fcprime, pgtol = 10, args = (X_train, y_train, lam))\n",
    "  return theta"
   ]
  },
  {
   "cell_type": "code",
   "execution_count": 135,
   "metadata": {},
   "outputs": [
    {
     "data": {
      "text/plain": [
       "11500.853740134364"
      ]
     },
     "execution_count": 135,
     "metadata": {},
     "output_type": "execute_result"
    }
   ],
   "source": [
    "fc(theta, X_train, y_train, lam)"
   ]
  },
  {
   "cell_type": "code",
   "execution_count": 136,
   "metadata": {},
   "outputs": [
    {
     "name": "stdout",
     "output_type": "stream",
     "text": [
      "lambda = 1.0:\ttrain accuracy=0.554148917022\n",
      "lambda = 1.0:\tvalidation accuracy=0.471170576588\n",
      "lambda = 1.0:\ttest accuracy=0.582443297732\n"
     ]
    }
   ],
   "source": [
    "lam = 1.0\n",
    "\n",
    "thetac = trainc(lam)\n",
    "acc_train = performance(thetac, X_train, y_train)\n",
    "print(\"lambda = \" + str(lam) + \":\\ttrain accuracy=\" + str(acc_train))\n",
    "acc_validation = performance(thetac, X_validation, y_validation)\n",
    "print(\"lambda = \" + str(lam) + \":\\tvalidation accuracy=\" + str(acc_validation))\n",
    "acc_test = performance(thetac, X_test, y_test)\n",
    "print(\"lambda = \" + str(lam) + \":\\ttest accuracy=\" + str(acc_test))\n"
   ]
  },
  {
   "cell_type": "code",
   "execution_count": 138,
   "metadata": {},
   "outputs": [
    {
     "name": "stdout",
     "output_type": "stream",
     "text": [
      "Training: \n",
      "Balanced Error Rate: 0.43426256748\n",
      "True +ve: 4400\n",
      "True -ve: 4836\n",
      "False +ve: 2482\n",
      "False -ve: 4949\n",
      "Total: 16667\n",
      "Sanity check: 16667\n",
      "Validation: \n",
      "Balanced Error Rate: 0.410820006797\n",
      "True +ve: 7308\n",
      "True -ve: 545\n",
      "False +ve: 213\n",
      "False -ve: 8601\n",
      "Total: 16667\n",
      "Sanity check: 16667\n",
      "Test: \n",
      "Balanced Error Rate: 0.443418510478\n",
      "True +ve: 2764\n",
      "True -ve: 6943\n",
      "False +ve: 3812\n",
      "False -ve: 3147\n",
      "Total: 16666\n",
      "Sanity check: 16666\n"
     ]
    }
   ],
   "source": [
    "print(\"Training: \")\n",
    "performance_detailed(thetac, X_train, y_train)\n",
    "print(\"Validation: \")\n",
    "performance_detailed(thetac, X_validation, y_validation)\n",
    "print(\"Test: \")\n",
    "performance_detailed(thetac, X_test, y_test)"
   ]
  },
  {
   "cell_type": "code",
   "execution_count": 140,
   "metadata": {},
   "outputs": [
    {
     "name": "stdout",
     "output_type": "stream",
     "text": [
      "lambda = 0:\ttrain accuracy=0.554088918222\n",
      "lambda = 0:\tvalidation accuracy=0.470630587388\n",
      "lambda = 0.01:\ttrain accuracy=0.554088918222\n",
      "lambda = 0.01:\tvalidation accuracy=0.470630587388\n",
      "lambda = 0.1:\ttrain accuracy=0.554148917022\n",
      "lambda = 0.1:\tvalidation accuracy=0.471170576588\n",
      "lambda = 1.0:\ttrain accuracy=0.554148917022\n",
      "lambda = 1.0:\tvalidation accuracy=0.471170576588\n",
      "lambda = 100:\ttrain accuracy=0.554208915822\n",
      "lambda = 100:\tvalidation accuracy=0.471590568189\n"
     ]
    }
   ],
   "source": [
    "lam = 0\n",
    "\n",
    "thetac = trainc(lam)\n",
    "acc_train = performance(thetac, X_train, y_train)\n",
    "print(\"lambda = \" + str(lam) + \":\\ttrain accuracy=\" + str(acc_train))\n",
    "acc_validation = performance(thetac, X_validation, y_validation)\n",
    "print(\"lambda = \" + str(lam) + \":\\tvalidation accuracy=\" + str(acc_validation))\n",
    "\n",
    "lam = 0.01\n",
    "\n",
    "thetac = trainc(lam)\n",
    "acc_train = performance(thetac, X_train, y_train)\n",
    "print(\"lambda = \" + str(lam) + \":\\ttrain accuracy=\" + str(acc_train))\n",
    "acc_validation = performance(thetac, X_validation, y_validation)\n",
    "print(\"lambda = \" + str(lam) + \":\\tvalidation accuracy=\" + str(acc_validation))\n",
    "\n",
    "lam = 0.1\n",
    "\n",
    "thetac = trainc(lam)\n",
    "acc_train = performance(thetac, X_train, y_train)\n",
    "print(\"lambda = \" + str(lam) + \":\\ttrain accuracy=\" + str(acc_train))\n",
    "acc_validation = performance(thetac, X_validation, y_validation)\n",
    "print(\"lambda = \" + str(lam) + \":\\tvalidation accuracy=\" + str(acc_validation))\n",
    "\n",
    "lam = 1.0\n",
    "\n",
    "thetac = trainc(lam)\n",
    "acc_train = performance(thetac, X_train, y_train)\n",
    "print(\"lambda = \" + str(lam) + \":\\ttrain accuracy=\" + str(acc_train))\n",
    "acc_validation = performance(thetac, X_validation, y_validation)\n",
    "print(\"lambda = \" + str(lam) + \":\\tvalidation accuracy=\" + str(acc_validation))\n",
    "\n",
    "lam = 100\n",
    "\n",
    "thetac = trainc(lam)\n",
    "acc_train = performance(thetac, X_train, y_train)\n",
    "print(\"lambda = \" + str(lam) + \":\\ttrain accuracy=\" + str(acc_train))\n",
    "acc_validation = performance(thetac, X_validation, y_validation)\n",
    "print(\"lambda = \" + str(lam) + \":\\tvalidation accuracy=\" + str(acc_validation))"
   ]
  },
  {
   "cell_type": "code",
   "execution_count": 141,
   "metadata": {},
   "outputs": [
    {
     "name": "stdout",
     "output_type": "stream",
     "text": [
      "lambda = 100:\ttrain accuracy=0.554208915822\n",
      "Balanced Error Rate: 0.434268457917\n",
      "True +ve: 4405\n",
      "True -ve: 4832\n",
      "False +ve: 2486\n",
      "False -ve: 4944\n",
      "Total: 16667\n",
      "Sanity check: 16667\n",
      "lambda = 100:\tvalidation accuracy=0.471590568189\n",
      "Balanced Error Rate: 0.410600005539\n",
      "True +ve: 7315\n",
      "True -ve: 545\n",
      "False +ve: 213\n",
      "False -ve: 8594\n",
      "Total: 16667\n",
      "Sanity check: 16667\n",
      "lambda = 100:\ttest accuracy=0.471590568189\n",
      "Balanced Error Rate: 0.443490176342\n",
      "True +ve: 2767\n",
      "True -ve: 6936\n",
      "False +ve: 3819\n",
      "False -ve: 3144\n",
      "Total: 16666\n",
      "Sanity check: 16666\n"
     ]
    }
   ],
   "source": [
    "lam = 100\n",
    "\n",
    "thetac = trainc(lam)\n",
    "acc_train = performance(thetac, X_train, y_train)\n",
    "print(\"lambda = \" + str(lam) + \":\\ttrain accuracy=\" + str(acc_train))\n",
    "performance_detailed(thetac, X_train, y_train)\n",
    "acc_validation = performance(thetac, X_validation, y_validation)\n",
    "print(\"lambda = \" + str(lam) + \":\\tvalidation accuracy=\" + str(acc_validation))\n",
    "performance_detailed(thetac, X_validation, y_validation)\n",
    "acc_test = performance(thetac, X_test, y_test)\n",
    "print(\"lambda = \" + str(lam) + \":\\ttest accuracy=\" + str(acc_validation))\n",
    "performance_detailed(thetac, X_test, y_test)"
   ]
  },
  {
   "cell_type": "code",
   "execution_count": 65,
   "metadata": {},
   "outputs": [],
   "source": [
    "#######\n",
    "# PCA #\n",
    "#######"
   ]
  },
  {
   "cell_type": "code",
   "execution_count": 142,
   "metadata": {},
   "outputs": [],
   "source": [
    "def feature2(datum):\n",
    "  rev = datum['review/text'].lower()\n",
    "  rev = re.sub('['+string.punctuation+']', '', rev)\n",
    "  w = rev.split()\n",
    "  c = Counter(w)\n",
    "  #temp = re.sub(r'[^\\w\\s]','',rev)\n",
    "  feat = [c['lactic'], \n",
    "          c['tart'], \n",
    "          c['sour'], \n",
    "          c['citric'], \n",
    "          c['sweet'], \n",
    "          c['acid'], \n",
    "          c['hop'],\n",
    "         c['fruit'], \n",
    "          c['salt'], \n",
    "          c['spicy']]\n",
    "  return feat"
   ]
  },
  {
   "cell_type": "code",
   "execution_count": 143,
   "metadata": {},
   "outputs": [],
   "source": [
    "X = [feature2(d) for d in data]\n",
    "X_train, X_validation, X_test = numpy.array_split(X, 3)"
   ]
  },
  {
   "cell_type": "code",
   "execution_count": 145,
   "metadata": {},
   "outputs": [
    {
     "name": "stdout",
     "output_type": "stream",
     "text": [
      "[[ -5.99354946e-04   3.95164941e-03  -9.30338083e-03   9.76942328e-03\n",
      "    7.99767032e-01  -1.16030365e-04   5.94903989e-01   7.26399102e-02\n",
      "    1.73572637e-04   3.14224279e-02]\n",
      " [ -1.57672227e-03  -8.65225859e-03  -1.41693175e-02   1.36630501e-02\n",
      "   -5.96926193e-01   2.48730319e-04   8.01927918e-01  -3.23901167e-03\n",
      "   -1.24896291e-03   1.06688940e-02]\n",
      " [  4.00346584e-03   4.43677073e-02   9.06390127e-02   3.63629924e-03\n",
      "   -6.09998226e-02  -2.42367581e-04  -3.98349064e-02   9.91604464e-01\n",
      "    3.81694276e-04   3.46324860e-02]\n",
      " [ -4.26042897e-04   2.28664104e-02  -1.25209784e-02   1.95017088e-02\n",
      "   -1.68324282e-02  -1.59490471e-04  -2.62633047e-02  -3.69062502e-02\n",
      "    2.69024737e-03   9.98297264e-01]\n",
      " [  2.60663010e-02   2.24900691e-01   9.68807416e-01   3.42586587e-03\n",
      "    3.00551477e-03   9.49385575e-03   2.13252265e-02  -9.78297807e-02\n",
      "    7.56473452e-04   3.93835606e-03]]\n"
     ]
    }
   ],
   "source": [
    "pca = PCA(n_components=5)\n",
    "pca.fit(X_train)\n",
    "print(pca.components_)"
   ]
  },
  {
   "cell_type": "code",
   "execution_count": 146,
   "metadata": {},
   "outputs": [],
   "source": [
    "X_lowdim = pca.transform(X)"
   ]
  },
  {
   "cell_type": "code",
   "execution_count": 147,
   "metadata": {},
   "outputs": [
    {
     "name": "stdout",
     "output_type": "stream",
     "text": [
      "[ -6.47396733e-01   2.79134845e-04  -4.27353956e-02  -3.67193760e-02\n",
      "   2.24458411e-01]\n"
     ]
    }
   ],
   "source": [
    "print(X_lowdim[0])"
   ]
  },
  {
   "cell_type": "code",
   "execution_count": 148,
   "metadata": {},
   "outputs": [
    {
     "data": {
      "text/plain": [
       "[2, 1, 0, 0, 0, 0, 0, 0, 0, 0]"
      ]
     },
     "execution_count": 148,
     "metadata": {},
     "output_type": "execute_result"
    }
   ],
   "source": [
    "X[0]"
   ]
  },
  {
   "cell_type": "code",
   "execution_count": 150,
   "metadata": {},
   "outputs": [
    {
     "name": "stdout",
     "output_type": "stream",
     "text": [
      "[[ -5.99354946e-04   3.95164941e-03  -9.30338083e-03   9.76942328e-03\n",
      "    7.99767032e-01  -1.16030365e-04   5.94903989e-01   7.26399102e-02\n",
      "    1.73572637e-04   3.14224279e-02]\n",
      " [ -1.57672227e-03  -8.65225859e-03  -1.41693175e-02   1.36630501e-02\n",
      "   -5.96926193e-01   2.48730319e-04   8.01927918e-01  -3.23901167e-03\n",
      "   -1.24896291e-03   1.06688940e-02]]\n"
     ]
    }
   ],
   "source": [
    "pca = PCA(n_components=2)\n",
    "pca.fit(X_train)\n",
    "print(pca.components_)"
   ]
  },
  {
   "cell_type": "code",
   "execution_count": 151,
   "metadata": {},
   "outputs": [
    {
     "name": "stdout",
     "output_type": "stream",
     "text": [
      "[ -6.47396733e-01   2.79134845e-04]\n"
     ]
    }
   ],
   "source": [
    "X_lowdim = pca.transform(X_train)\n",
    "print(X_lowdim[0])"
   ]
  },
  {
   "cell_type": "code",
   "execution_count": 159,
   "metadata": {},
   "outputs": [
    {
     "name": "stdout",
     "output_type": "stream",
     "text": [
      "[ 0.00488749  0.02845868  0.05623802  0.01341873  0.0025564   0.00337512\n",
      " -0.01220251  0.08694958  0.00216724  0.06155856]\n"
     ]
    },
    {
     "data": {
      "text/plain": [
       "16667"
      ]
     },
     "execution_count": 159,
     "metadata": {},
     "output_type": "execute_result"
    }
   ],
   "source": [
    "X_reconst = pca.inverse_transform(X_lowdim)\n",
    "print(X_reconst[0])\n",
    "len(X_reconst)"
   ]
  },
  {
   "cell_type": "code",
   "execution_count": 160,
   "metadata": {},
   "outputs": [
    {
     "name": "stdout",
     "output_type": "stream",
     "text": [
      "Mean Squared Error: 0.0474986515177\n"
     ]
    }
   ],
   "source": [
    "loss = ((X_train - X_reconst)**2).mean()\n",
    "print(\"Mean Squared Error: \" + str(loss))"
   ]
  },
  {
   "cell_type": "code",
   "execution_count": 161,
   "metadata": {},
   "outputs": [
    {
     "name": "stdout",
     "output_type": "stream",
     "text": [
      "1486\n",
      "15181\n"
     ]
    }
   ],
   "source": [
    "i = 0;\n",
    "Am_X = []\n",
    "Am_Y = []\n",
    "Non_X = []\n",
    "Non_Y = []\n",
    "for d in X_lowdim:\n",
    "    if(data[i]['beer/style'] == 'American IPA'):\n",
    "        Am_X.append(d[0])\n",
    "        Am_Y.append(d[1])\n",
    "    else:\n",
    "        Non_X.append(d[0])\n",
    "        Non_Y.append(d[1])\n",
    "    i = i+1\n",
    "print(len(Am_X))\n",
    "print(len(Non_X))"
   ]
  },
  {
   "cell_type": "code",
   "execution_count": 162,
   "metadata": {},
   "outputs": [
    {
     "data": {
      "image/png": "[encoded data removed]",
      "text/plain": [
       "<matplotlib.figure.Figure at 0x13e54370>"
      ]
     },
     "metadata": {},
     "output_type": "display_data"
    }
   ],
   "source": [
    "plt.plot(Am_X, Am_Y, 'ro', Non_X, Non_Y, 'bx')\n",
    "#plt.show()\n",
    "#plt.plot(Non_X, Non_Y, 'x')\n",
    "plt.show()"
   ]
  },
  {
   "cell_type": "code",
   "execution_count": null,
   "metadata": {},
   "outputs": [],
   "source": []
  },
  {
   "cell_type": "code",
   "execution_count": null,
   "metadata": {},
   "outputs": [],
   "source": [
    "            "
   ]
  }
 ],
 "metadata": {
  "kernelspec": {
   "display_name": "Python 3",
   "language": "python",
   "name": "python3"
  },
  "language_info": {
   "codemirror_mode": {
    "name": "ipython",
    "version": 3
   },
   "file_extension": ".py",
   "mimetype": "text/x-python",
   "name": "python",
   "nbconvert_exporter": "python",
   "pygments_lexer": "ipython3",
   "version": "3.6.3"
  }
 },
 "nbformat": 4,
 "nbformat_minor": 2
}
